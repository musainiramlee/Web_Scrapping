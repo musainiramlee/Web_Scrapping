{
 "cells": [
  {
   "cell_type": "code",
   "execution_count": 45,
   "metadata": {},
   "outputs": [],
   "source": [
    "import requests\n",
    "from bs4 import BeautifulSoup \n",
    "import pandas as pd\n",
    "import lxml"
   ]
  },
  {
   "cell_type": "code",
   "execution_count": 64,
   "metadata": {},
   "outputs": [],
   "source": [
    "def scrape_lyrics(url):\n",
    "    page = requests.get(url)\n",
    "    soup = BeautifulSoup(page.content, 'lxml')\n",
    "    lyrics = ''\n",
    "    for i in soup.findAll('p'):\n",
    "        lyrics = lyrics + ' ' +  i.text\n",
    "    return(lyrics)"
   ]
  },
  {
   "cell_type": "code",
   "execution_count": 67,
   "metadata": {},
   "outputs": [
    {
     "data": {
      "text/plain": [
       "' HA:\\nIndahnya sungguh di hari raya\\nRamainya orang bersuka ria\\n( 2 X ) Adikku manis cantik bergaya\\nBolehkah abang ikut bersama\\n( 2 X ) UR:\\nUsahlah abang membuang waktu\\nMari menuju ke rumah bonda\\n( 2 X ) Sanak saudara sedang menunggu\\nDi hari mulia bertemu mesra\\n( 2 X ) HA:\\nKatamu itu abang mengerti\\nKusanjung budi puteri ibunda\\n( 2 X ) Pada yang tua kita hormati\\nBarulah hidup saling bahagia\\n( 2 X ) UR:\\nMiskin dan kaya sama sahaja\\nHulurkan tangan berjabat mesra\\n( 2 X ) HA: & UR:\\nSaling bermaaf kita bersama\\nLupakan saja sengketa lama\\n( 2 X )'"
      ]
     },
     "execution_count": 67,
     "metadata": {},
     "output_type": "execute_result"
    }
   ],
   "source": [
    "scrape_lyrics('https://iliriklagu.net/lirik-lagu-seloka-hari-raya-hail-amir-uji-rashid/')"
   ]
  },
  {
   "cell_type": "code",
   "execution_count": null,
   "metadata": {},
   "outputs": [],
   "source": []
  }
 ],
 "metadata": {
  "kernelspec": {
   "display_name": "Python",
   "language": "python",
   "name": "conda-env-python-py"
  },
  "language_info": {
   "codemirror_mode": {
    "name": "ipython",
    "version": 3
   },
   "file_extension": ".py",
   "mimetype": "text/x-python",
   "name": "python",
   "nbconvert_exporter": "python",
   "pygments_lexer": "ipython3",
   "version": "3.6.10"
  }
 },
 "nbformat": 4,
 "nbformat_minor": 4
}
