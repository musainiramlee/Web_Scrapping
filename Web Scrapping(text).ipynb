{
 "cells": [
  {
   "cell_type": "markdown",
   "metadata": {},
   "source": [
    "## Project - Text scrapping from website\n",
    "**Step 1: Install all the required Modules**"
   ]
  },
  {
   "cell_type": "code",
   "execution_count": 14,
   "metadata": {},
   "outputs": [
    {
     "name": "stdout",
     "output_type": "stream",
     "text": [
      "Requirement already satisfied: request in /home/jupyterlab/conda/envs/python/lib/python3.6/site-packages (2019.4.13)\n",
      "Requirement already satisfied: setuptools in /home/jupyterlab/conda/envs/python/lib/python3.6/site-packages (from request) (46.3.0.post20200513)\n",
      "Requirement already satisfied: get in /home/jupyterlab/conda/envs/python/lib/python3.6/site-packages (from request) (2019.4.13)\n",
      "Requirement already satisfied: post in /home/jupyterlab/conda/envs/python/lib/python3.6/site-packages (from request) (2019.4.13)\n",
      "Requirement already satisfied: query-string in /home/jupyterlab/conda/envs/python/lib/python3.6/site-packages (from get->request) (2019.4.13)\n",
      "Requirement already satisfied: public in /home/jupyterlab/conda/envs/python/lib/python3.6/site-packages (from query-string->get->request) (2019.4.13)\n",
      "Note: you may need to restart the kernel to use updated packages.\n"
     ]
    }
   ],
   "source": [
    "pip install request"
   ]
  },
  {
   "cell_type": "code",
   "execution_count": 15,
   "metadata": {},
   "outputs": [
    {
     "name": "stdout",
     "output_type": "stream",
     "text": [
      "Requirement already satisfied: BeautifulSoup4 in /home/jupyterlab/conda/envs/python/lib/python3.6/site-packages (4.9.1)\n",
      "Requirement already satisfied: soupsieve>1.2 in /home/jupyterlab/conda/envs/python/lib/python3.6/site-packages (from BeautifulSoup4) (2.0.1)\n",
      "Note: you may need to restart the kernel to use updated packages.\n"
     ]
    }
   ],
   "source": [
    "pip install BeautifulSoup4"
   ]
  },
  {
   "cell_type": "code",
   "execution_count": 16,
   "metadata": {},
   "outputs": [
    {
     "name": "stdout",
     "output_type": "stream",
     "text": [
      "Requirement already satisfied: lxml in /home/jupyterlab/conda/envs/python/lib/python3.6/site-packages (4.5.1)\n",
      "Note: you may need to restart the kernel to use updated packages.\n"
     ]
    }
   ],
   "source": [
    "pip install lxml"
   ]
  },
  {
   "cell_type": "code",
   "execution_count": 35,
   "metadata": {},
   "outputs": [],
   "source": [
    "import requests\n",
    "from bs4 import BeautifulSoup\n",
    "import lxml"
   ]
  },
  {
   "cell_type": "markdown",
   "metadata": {},
   "source": [
    "    "
   ]
  },
  {
   "cell_type": "markdown",
   "metadata": {},
   "source": [
    "**Step 2 : Specify the source**"
   ]
  },
  {
   "cell_type": "code",
   "execution_count": 36,
   "metadata": {},
   "outputs": [],
   "source": [
    "url1 = 'https://iliriklagu.net/lirik-lagu-selamat-hari-raya-fazidah-joned/'"
   ]
  },
  {
   "cell_type": "markdown",
   "metadata": {},
   "source": [
    "   "
   ]
  },
  {
   "cell_type": "markdown",
   "metadata": {},
   "source": [
    "**Step 3: Check for website status**   \n",
    "*status code must return 200 message*"
   ]
  },
  {
   "cell_type": "code",
   "execution_count": 19,
   "metadata": {},
   "outputs": [
    {
     "name": "stdout",
     "output_type": "stream",
     "text": [
      "200\n",
      "{'Date': 'Mon, 25 May 2020 12:15:31 GMT', 'Content-Type': 'text/html;charset=utf-8', 'Transfer-Encoding': 'chunked', 'Connection': 'keep-alive', 'Set-Cookie': '__cfduid=d18ae515f35f1c6ca950b713df1106f951590408931; expires=Wed, 24-Jun-20 12:15:31 GMT; path=/; domain=.iliriklagu.net; HttpOnly; SameSite=Lax; Secure', 'Last-Modified': 'Sun, 13 Dec 2015 02:06:53 GMT', 'X-Xss-Protection': '1; mode=block', 'X-Content-Type-Options': 'nosniff', 'X-Frame-Options': 'SAMEORIGIN', 'Via': '1.1 vegur', 'CF-Cache-Status': 'DYNAMIC', 'Expect-CT': 'max-age=604800, report-uri=\"https://report-uri.cloudflare.com/cdn-cgi/beacon/expect-ct\"', 'Server': 'cloudflare', 'CF-RAY': '598f2eadf9b9c558-ORD', 'Content-Encoding': 'gzip', 'cf-request-id': '02ed5b80bd0000c5581a82e200000001'}\n"
     ]
    }
   ],
   "source": [
    "page = requests.get(url1)\n",
    "print(page.status_code)\n",
    "print(page.headers)"
   ]
  },
  {
   "cell_type": "markdown",
   "metadata": {},
   "source": [
    "    \n",
    "    "
   ]
  },
  {
   "cell_type": "markdown",
   "metadata": {},
   "source": [
    "**Step 4: Start scrapping**"
   ]
  },
  {
   "cell_type": "code",
   "execution_count": 20,
   "metadata": {},
   "outputs": [],
   "source": [
    "from bs4 import BeautifulSoup\n",
    "soup = BeautifulSoup(page.content, 'lxml')\n",
    "\n",
    "lyrics = ''\n",
    "for i in soup.findAll('p'):\n",
    "    lyrics = lyrics + ' ' +  i.text"
   ]
  },
  {
   "cell_type": "code",
   "execution_count": 21,
   "metadata": {},
   "outputs": [
    {
     "data": {
      "text/plain": [
       "' Aidil fitri hari bahgia\\nHari yang mulia\\nMohon maaf bersama dipinta\\nSelamat… Selamat Hari Raya Sembah salam ayah dan bonda\\nAmpunkanlah dosa\\nHilangkanlah duka dan nestapa\\nSelamat… Selamat Hari Raya *Chorus\\nSemoga kita berjumpa lagi\\nDi hari bahagia ini Mari teman mari saudara\\nKita bergembira\\nLupakan hatimu yang duka\\nSelamat… Selamat Hari Raya'"
      ]
     },
     "execution_count": 21,
     "metadata": {},
     "output_type": "execute_result"
    }
   ],
   "source": [
    "lyrics"
   ]
  },
  {
   "cell_type": "code",
   "execution_count": 22,
   "metadata": {},
   "outputs": [
    {
     "data": {
      "text/plain": [
       "str"
      ]
     },
     "execution_count": 22,
     "metadata": {},
     "output_type": "execute_result"
    }
   ],
   "source": [
    "type(lyrics)"
   ]
  },
  {
   "cell_type": "markdown",
   "metadata": {},
   "source": [
    "   "
   ]
  },
  {
   "cell_type": "markdown",
   "metadata": {},
   "source": [
    "**Step 5: Wrangled the data**"
   ]
  },
  {
   "cell_type": "code",
   "execution_count": 23,
   "metadata": {},
   "outputs": [
    {
     "data": {
      "text/plain": [
       "' Aidil fitri hari bahgia\\nHari yang mulia\\nMohon maaf bersama dipinta\\nSelamat Selamat Hari Raya Sembah salam ayah dan bonda\\nAmpunkanlah dosa\\nHilangkanlah duka dan nestapa\\nSelamat Selamat Hari Raya *Chorus\\nSemoga kita berjumpa lagi\\nDi hari bahagia ini Mari teman mari saudara\\nKita bergembira\\nLupakan hatimu yang duka\\nSelamat Selamat Hari Raya'"
      ]
     },
     "execution_count": 23,
     "metadata": {},
     "output_type": "execute_result"
    }
   ],
   "source": [
    "a = lyrics.replace('Selamat…', 'Selamat')\n",
    "a"
   ]
  },
  {
   "cell_type": "code",
   "execution_count": 24,
   "metadata": {},
   "outputs": [
    {
     "data": {
      "text/plain": [
       "' Aidil fitri hari bahgia\\nHari yang mulia\\nMohon maaf bersama dipinta\\nSelamat Selamat Hari Raya Sembah salam ayah dan bonda\\nAmpunkanlah dosa\\nHilangkanlah duka dan nestapa\\nSelamat Selamat Hari Raya \\nSemoga kita berjumpa lagi\\nDi hari bahagia ini Mari teman mari saudara\\nKita bergembira\\nLupakan hatimu yang duka\\nSelamat Selamat Hari Raya'"
      ]
     },
     "execution_count": 24,
     "metadata": {},
     "output_type": "execute_result"
    }
   ],
   "source": [
    "b = a.replace('*Chorus', '')\n",
    "b"
   ]
  },
  {
   "cell_type": "code",
   "execution_count": 25,
   "metadata": {},
   "outputs": [
    {
     "data": {
      "text/plain": [
       "' Aidil fitri hari bahgia Hari yang mulia Mohon maaf bersama dipinta Selamat Selamat Hari Raya Sembah salam ayah dan bonda Ampunkanlah dosa Hilangkanlah duka dan nestapa Selamat Selamat Hari Raya  Semoga kita berjumpa lagi Di hari bahagia ini Mari teman mari saudara Kita bergembira Lupakan hatimu yang duka Selamat Selamat Hari Raya'"
      ]
     },
     "execution_count": 25,
     "metadata": {},
     "output_type": "execute_result"
    }
   ],
   "source": [
    "c = b.replace('\\n', ' ')\n",
    "c"
   ]
  },
  {
   "cell_type": "code",
   "execution_count": 26,
   "metadata": {},
   "outputs": [
    {
     "data": {
      "text/plain": [
       "' Aidil fitri hari bahgia Hari yang mulia Mohon maaf bersama dipinta Selamat Selamat Hari Raya Sembah salam ayah dan bonda Ampunkanlah dosa Hilangkanlah duka dan nestapa Selamat Selamat Hari Raya  Semoga kita berjumpa lagi Di hari bahagia ini Mari teman mari saudara Kita bergembira Lupakan hatimu yang duka Selamat Selamat Hari Raya'"
      ]
     },
     "execution_count": 26,
     "metadata": {},
     "output_type": "execute_result"
    }
   ],
   "source": [
    "d = c.replace('Selamat…', 'Selamat')\n",
    "d"
   ]
  },
  {
   "cell_type": "code",
   "execution_count": 27,
   "metadata": {},
   "outputs": [
    {
     "data": {
      "text/plain": [
       "<function str.title>"
      ]
     },
     "execution_count": 27,
     "metadata": {},
     "output_type": "execute_result"
    }
   ],
   "source": [
    "d.title"
   ]
  },
  {
   "cell_type": "markdown",
   "metadata": {},
   "source": [
    "   "
   ]
  },
  {
   "cell_type": "markdown",
   "metadata": {},
   "source": [
    "**Step 6: Convert into list**"
   ]
  },
  {
   "cell_type": "code",
   "execution_count": 28,
   "metadata": {},
   "outputs": [],
   "source": [
    "def Convert(string): \n",
    "    final_text = list(string.split(\" \")) \n",
    "    return final_text"
   ]
  },
  {
   "cell_type": "code",
   "execution_count": 29,
   "metadata": {},
   "outputs": [
    {
     "data": {
      "text/plain": [
       "['',\n",
       " 'Aidil',\n",
       " 'Fitri',\n",
       " 'Hari',\n",
       " 'Bahgia',\n",
       " 'Hari',\n",
       " 'Yang',\n",
       " 'Mulia',\n",
       " 'Mohon',\n",
       " 'Maaf',\n",
       " 'Bersama',\n",
       " 'Dipinta',\n",
       " 'Selamat',\n",
       " 'Selamat',\n",
       " 'Hari',\n",
       " 'Raya',\n",
       " 'Sembah',\n",
       " 'Salam',\n",
       " 'Ayah',\n",
       " 'Dan',\n",
       " 'Bonda',\n",
       " 'Ampunkanlah',\n",
       " 'Dosa',\n",
       " 'Hilangkanlah',\n",
       " 'Duka',\n",
       " 'Dan',\n",
       " 'Nestapa',\n",
       " 'Selamat',\n",
       " 'Selamat',\n",
       " 'Hari',\n",
       " 'Raya',\n",
       " '',\n",
       " 'Semoga',\n",
       " 'Kita',\n",
       " 'Berjumpa',\n",
       " 'Lagi',\n",
       " 'Di',\n",
       " 'Hari',\n",
       " 'Bahagia',\n",
       " 'Ini',\n",
       " 'Mari',\n",
       " 'Teman',\n",
       " 'Mari',\n",
       " 'Saudara',\n",
       " 'Kita',\n",
       " 'Bergembira',\n",
       " 'Lupakan',\n",
       " 'Hatimu',\n",
       " 'Yang',\n",
       " 'Duka',\n",
       " 'Selamat',\n",
       " 'Selamat',\n",
       " 'Hari',\n",
       " 'Raya']"
      ]
     },
     "execution_count": 29,
     "metadata": {},
     "output_type": "execute_result"
    }
   ],
   "source": [
    "final = Convert(d.title())\n",
    "final"
   ]
  },
  {
   "cell_type": "markdown",
   "metadata": {},
   "source": [
    "   "
   ]
  },
  {
   "cell_type": "markdown",
   "metadata": {},
   "source": [
    "**Step 7: Visualize**"
   ]
  },
  {
   "cell_type": "code",
   "execution_count": 30,
   "metadata": {},
   "outputs": [
    {
     "data": {
      "text/html": [
       "<div>\n",
       "<style scoped>\n",
       "    .dataframe tbody tr th:only-of-type {\n",
       "        vertical-align: middle;\n",
       "    }\n",
       "\n",
       "    .dataframe tbody tr th {\n",
       "        vertical-align: top;\n",
       "    }\n",
       "\n",
       "    .dataframe thead th {\n",
       "        text-align: right;\n",
       "    }\n",
       "</style>\n",
       "<table border=\"1\" class=\"dataframe\">\n",
       "  <thead>\n",
       "    <tr style=\"text-align: right;\">\n",
       "      <th></th>\n",
       "      <th>Words</th>\n",
       "    </tr>\n",
       "  </thead>\n",
       "  <tbody>\n",
       "    <tr>\n",
       "      <th>0</th>\n",
       "      <td></td>\n",
       "    </tr>\n",
       "    <tr>\n",
       "      <th>1</th>\n",
       "      <td>Aidil</td>\n",
       "    </tr>\n",
       "    <tr>\n",
       "      <th>2</th>\n",
       "      <td>Fitri</td>\n",
       "    </tr>\n",
       "    <tr>\n",
       "      <th>3</th>\n",
       "      <td>Hari</td>\n",
       "    </tr>\n",
       "    <tr>\n",
       "      <th>4</th>\n",
       "      <td>Bahgia</td>\n",
       "    </tr>\n",
       "    <tr>\n",
       "      <th>5</th>\n",
       "      <td>Hari</td>\n",
       "    </tr>\n",
       "    <tr>\n",
       "      <th>6</th>\n",
       "      <td>Yang</td>\n",
       "    </tr>\n",
       "    <tr>\n",
       "      <th>7</th>\n",
       "      <td>Mulia</td>\n",
       "    </tr>\n",
       "    <tr>\n",
       "      <th>8</th>\n",
       "      <td>Mohon</td>\n",
       "    </tr>\n",
       "    <tr>\n",
       "      <th>9</th>\n",
       "      <td>Maaf</td>\n",
       "    </tr>\n",
       "    <tr>\n",
       "      <th>10</th>\n",
       "      <td>Bersama</td>\n",
       "    </tr>\n",
       "    <tr>\n",
       "      <th>11</th>\n",
       "      <td>Dipinta</td>\n",
       "    </tr>\n",
       "    <tr>\n",
       "      <th>12</th>\n",
       "      <td>Selamat</td>\n",
       "    </tr>\n",
       "    <tr>\n",
       "      <th>13</th>\n",
       "      <td>Selamat</td>\n",
       "    </tr>\n",
       "    <tr>\n",
       "      <th>14</th>\n",
       "      <td>Hari</td>\n",
       "    </tr>\n",
       "    <tr>\n",
       "      <th>15</th>\n",
       "      <td>Raya</td>\n",
       "    </tr>\n",
       "    <tr>\n",
       "      <th>16</th>\n",
       "      <td>Sembah</td>\n",
       "    </tr>\n",
       "    <tr>\n",
       "      <th>17</th>\n",
       "      <td>Salam</td>\n",
       "    </tr>\n",
       "    <tr>\n",
       "      <th>18</th>\n",
       "      <td>Ayah</td>\n",
       "    </tr>\n",
       "    <tr>\n",
       "      <th>19</th>\n",
       "      <td>Dan</td>\n",
       "    </tr>\n",
       "    <tr>\n",
       "      <th>20</th>\n",
       "      <td>Bonda</td>\n",
       "    </tr>\n",
       "    <tr>\n",
       "      <th>21</th>\n",
       "      <td>Ampunkanlah</td>\n",
       "    </tr>\n",
       "    <tr>\n",
       "      <th>22</th>\n",
       "      <td>Dosa</td>\n",
       "    </tr>\n",
       "    <tr>\n",
       "      <th>23</th>\n",
       "      <td>Hilangkanlah</td>\n",
       "    </tr>\n",
       "    <tr>\n",
       "      <th>24</th>\n",
       "      <td>Duka</td>\n",
       "    </tr>\n",
       "    <tr>\n",
       "      <th>25</th>\n",
       "      <td>Dan</td>\n",
       "    </tr>\n",
       "    <tr>\n",
       "      <th>26</th>\n",
       "      <td>Nestapa</td>\n",
       "    </tr>\n",
       "    <tr>\n",
       "      <th>27</th>\n",
       "      <td>Selamat</td>\n",
       "    </tr>\n",
       "    <tr>\n",
       "      <th>28</th>\n",
       "      <td>Selamat</td>\n",
       "    </tr>\n",
       "    <tr>\n",
       "      <th>29</th>\n",
       "      <td>Hari</td>\n",
       "    </tr>\n",
       "    <tr>\n",
       "      <th>30</th>\n",
       "      <td>Raya</td>\n",
       "    </tr>\n",
       "    <tr>\n",
       "      <th>31</th>\n",
       "      <td></td>\n",
       "    </tr>\n",
       "    <tr>\n",
       "      <th>32</th>\n",
       "      <td>Semoga</td>\n",
       "    </tr>\n",
       "    <tr>\n",
       "      <th>33</th>\n",
       "      <td>Kita</td>\n",
       "    </tr>\n",
       "    <tr>\n",
       "      <th>34</th>\n",
       "      <td>Berjumpa</td>\n",
       "    </tr>\n",
       "    <tr>\n",
       "      <th>35</th>\n",
       "      <td>Lagi</td>\n",
       "    </tr>\n",
       "    <tr>\n",
       "      <th>36</th>\n",
       "      <td>Di</td>\n",
       "    </tr>\n",
       "    <tr>\n",
       "      <th>37</th>\n",
       "      <td>Hari</td>\n",
       "    </tr>\n",
       "    <tr>\n",
       "      <th>38</th>\n",
       "      <td>Bahagia</td>\n",
       "    </tr>\n",
       "    <tr>\n",
       "      <th>39</th>\n",
       "      <td>Ini</td>\n",
       "    </tr>\n",
       "    <tr>\n",
       "      <th>40</th>\n",
       "      <td>Mari</td>\n",
       "    </tr>\n",
       "    <tr>\n",
       "      <th>41</th>\n",
       "      <td>Teman</td>\n",
       "    </tr>\n",
       "    <tr>\n",
       "      <th>42</th>\n",
       "      <td>Mari</td>\n",
       "    </tr>\n",
       "    <tr>\n",
       "      <th>43</th>\n",
       "      <td>Saudara</td>\n",
       "    </tr>\n",
       "    <tr>\n",
       "      <th>44</th>\n",
       "      <td>Kita</td>\n",
       "    </tr>\n",
       "    <tr>\n",
       "      <th>45</th>\n",
       "      <td>Bergembira</td>\n",
       "    </tr>\n",
       "    <tr>\n",
       "      <th>46</th>\n",
       "      <td>Lupakan</td>\n",
       "    </tr>\n",
       "    <tr>\n",
       "      <th>47</th>\n",
       "      <td>Hatimu</td>\n",
       "    </tr>\n",
       "    <tr>\n",
       "      <th>48</th>\n",
       "      <td>Yang</td>\n",
       "    </tr>\n",
       "    <tr>\n",
       "      <th>49</th>\n",
       "      <td>Duka</td>\n",
       "    </tr>\n",
       "    <tr>\n",
       "      <th>50</th>\n",
       "      <td>Selamat</td>\n",
       "    </tr>\n",
       "    <tr>\n",
       "      <th>51</th>\n",
       "      <td>Selamat</td>\n",
       "    </tr>\n",
       "    <tr>\n",
       "      <th>52</th>\n",
       "      <td>Hari</td>\n",
       "    </tr>\n",
       "    <tr>\n",
       "      <th>53</th>\n",
       "      <td>Raya</td>\n",
       "    </tr>\n",
       "  </tbody>\n",
       "</table>\n",
       "</div>"
      ],
      "text/plain": [
       "           Words\n",
       "0               \n",
       "1          Aidil\n",
       "2          Fitri\n",
       "3           Hari\n",
       "4         Bahgia\n",
       "5           Hari\n",
       "6           Yang\n",
       "7          Mulia\n",
       "8          Mohon\n",
       "9           Maaf\n",
       "10       Bersama\n",
       "11       Dipinta\n",
       "12       Selamat\n",
       "13       Selamat\n",
       "14          Hari\n",
       "15          Raya\n",
       "16        Sembah\n",
       "17         Salam\n",
       "18          Ayah\n",
       "19           Dan\n",
       "20         Bonda\n",
       "21   Ampunkanlah\n",
       "22          Dosa\n",
       "23  Hilangkanlah\n",
       "24          Duka\n",
       "25           Dan\n",
       "26       Nestapa\n",
       "27       Selamat\n",
       "28       Selamat\n",
       "29          Hari\n",
       "30          Raya\n",
       "31              \n",
       "32        Semoga\n",
       "33          Kita\n",
       "34      Berjumpa\n",
       "35          Lagi\n",
       "36            Di\n",
       "37          Hari\n",
       "38       Bahagia\n",
       "39           Ini\n",
       "40          Mari\n",
       "41         Teman\n",
       "42          Mari\n",
       "43       Saudara\n",
       "44          Kita\n",
       "45    Bergembira\n",
       "46       Lupakan\n",
       "47        Hatimu\n",
       "48          Yang\n",
       "49          Duka\n",
       "50       Selamat\n",
       "51       Selamat\n",
       "52          Hari\n",
       "53          Raya"
      ]
     },
     "execution_count": 30,
     "metadata": {},
     "output_type": "execute_result"
    }
   ],
   "source": [
    "import pandas as pd\n",
    "df = pd.DataFrame((final),columns =['Words'])\n",
    "df"
   ]
  },
  {
   "cell_type": "code",
   "execution_count": 31,
   "metadata": {},
   "outputs": [
    {
     "data": {
      "text/plain": [
       "Selamat         6\n",
       "Hari            6\n",
       "Raya            3\n",
       "                2\n",
       "Yang            2\n",
       "Mari            2\n",
       "Dan             2\n",
       "Kita            2\n",
       "Duka            2\n",
       "Ampunkanlah     1\n",
       "Di              1\n",
       "Dosa            1\n",
       "Bahagia         1\n",
       "Bahgia          1\n",
       "Berjumpa        1\n",
       "Bersama         1\n",
       "Lupakan         1\n",
       "Ayah            1\n",
       "Fitri           1\n",
       "Lagi            1\n",
       "Nestapa         1\n",
       "Mohon           1\n",
       "Aidil           1\n",
       "Teman           1\n",
       "Salam           1\n",
       "Hatimu          1\n",
       "Saudara         1\n",
       "Mulia           1\n",
       "Dipinta         1\n",
       "Bonda           1\n",
       "Maaf            1\n",
       "Semoga          1\n",
       "Sembah          1\n",
       "Ini             1\n",
       "Hilangkanlah    1\n",
       "Bergembira      1\n",
       "Name: Words, dtype: int64"
      ]
     },
     "execution_count": 31,
     "metadata": {},
     "output_type": "execute_result"
    }
   ],
   "source": [
    "counts = df['Words'].value_counts()\n",
    "counts"
   ]
  },
  {
   "cell_type": "code",
   "execution_count": 32,
   "metadata": {},
   "outputs": [],
   "source": [
    "counts.index = counts.index.map(str)"
   ]
  },
  {
   "cell_type": "code",
   "execution_count": 33,
   "metadata": {},
   "outputs": [
    {
     "name": "stdout",
     "output_type": "stream",
     "text": [
      "Requirement already satisfied: wordcloud in /home/jupyterlab/conda/envs/python/lib/python3.6/site-packages (1.7.0)\n",
      "Requirement already satisfied: pillow in /home/jupyterlab/conda/envs/python/lib/python3.6/site-packages (from wordcloud) (7.1.2)\n",
      "Requirement already satisfied: matplotlib in /home/jupyterlab/conda/envs/python/lib/python3.6/site-packages (from wordcloud) (3.1.1)\n",
      "Requirement already satisfied: numpy>=1.6.1 in /home/jupyterlab/conda/envs/python/lib/python3.6/site-packages (from wordcloud) (1.18.4)\n",
      "Requirement already satisfied: pyparsing!=2.0.4,!=2.1.2,!=2.1.6,>=2.0.1 in /home/jupyterlab/conda/envs/python/lib/python3.6/site-packages (from matplotlib->wordcloud) (2.4.7)\n",
      "Requirement already satisfied: python-dateutil>=2.1 in /home/jupyterlab/conda/envs/python/lib/python3.6/site-packages (from matplotlib->wordcloud) (2.8.1)\n",
      "Requirement already satisfied: kiwisolver>=1.0.1 in /home/jupyterlab/conda/envs/python/lib/python3.6/site-packages (from matplotlib->wordcloud) (1.2.0)\n",
      "Requirement already satisfied: cycler>=0.10 in /home/jupyterlab/conda/envs/python/lib/python3.6/site-packages (from matplotlib->wordcloud) (0.10.0)\n",
      "Requirement already satisfied: six>=1.5 in /home/jupyterlab/conda/envs/python/lib/python3.6/site-packages (from python-dateutil>=2.1->matplotlib->wordcloud) (1.14.0)\n",
      "Note: you may need to restart the kernel to use updated packages.\n"
     ]
    }
   ],
   "source": [
    "pip install wordcloud"
   ]
  },
  {
   "cell_type": "code",
   "execution_count": 51,
   "metadata": {},
   "outputs": [
    {
     "data": {
      "image/png": "[encoded data removed]",
      "text/plain": [
       "<Figure size 432x288 with 1 Axes>"
      ]
     },
     "metadata": {
      "needs_background": "light"
     },
     "output_type": "display_data"
    }
   ],
   "source": [
    "from wordcloud import WordCloud\n",
    "import matplotlib.pyplot as plt\n",
    "wordcloud = WordCloud().generate_from_frequencies(counts)\n",
    "plt.figure()\n",
    "plt.imshow(wordcloud, interpolation=\"bilinear\")\n",
    "plt.axis(\"off\")\n",
    "plt.show()"
   ]
  },
  {
   "cell_type": "code",
   "execution_count": null,
   "metadata": {},
   "outputs": [],
   "source": []
  }
 ],
 "metadata": {
  "kernelspec": {
   "display_name": "Python",
   "language": "python",
   "name": "conda-env-python-py"
  },
  "language_info": {
   "codemirror_mode": {
    "name": "ipython",
    "version": 3
   },
   "file_extension": ".py",
   "mimetype": "text/x-python",
   "name": "python",
   "nbconvert_exporter": "python",
   "pygments_lexer": "ipython3",
   "version": "3.6.10"
  }
 },
 "nbformat": 4,
 "nbformat_minor": 4
}
