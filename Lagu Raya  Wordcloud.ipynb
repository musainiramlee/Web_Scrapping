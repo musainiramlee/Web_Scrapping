{
 "cells": [
  {
   "cell_type": "markdown",
   "metadata": {},
   "source": [
    "## **Project: To study the variety of words choice in Hari Raya song**\n",
    "\n",
    "**Project Brackground**\n",
    "* Everyone knows that festive-theme songs revolve around the same topics; celebration.\n",
    "* Sometimes, I got tired listening to the same words repeated over and over again in Hari Raya song, especially the new ones.\n",
    "* Is it hard for songwriters to go out of the typical words?\n",
    "* In terms of choices of words, do the old songs beat the new ones?\n",
    "* However, actually, I just wanted to test my web scrapping, data wrangling and data visualization skills.\n",
    "\n",
    "**Project scope:**\n",
    "* To look for the most frequent words choice in Hari Raya songs\n",
    "* To compare the 'density' and 'creativity' of the old and new songs\n",
    "\n",
    "*Definition*   \n",
    "'Hari Raya' is a Malay word, equivalent word in English is 'Eid'    \n",
    "It is celebrated by Muslims all over the world after a month of fasting (Ramadhan).  \n",
    "Consider it as any other celebrations like Christmas, Lunar year etc. "
   ]
  },
  {
   "cell_type": "markdown",
   "metadata": {},
   "source": [
    "     "
   ]
  },
  {
   "cell_type": "markdown",
   "metadata": {},
   "source": [
    "**Step 1: Scrape data from websites**"
   ]
  },
  {
   "cell_type": "code",
   "execution_count": 1,
   "metadata": {},
   "outputs": [],
   "source": [
    "import requests\n",
    "from bs4 import BeautifulSoup \n",
    "import pandas as pd\n",
    "import lxml"
   ]
  },
  {
   "cell_type": "code",
   "execution_count": 2,
   "metadata": {},
   "outputs": [],
   "source": [
    "# Create function to scrape lyrics\n",
    "\n",
    "def scrape_lyrics(url):\n",
    "    page = requests.get(url)\n",
    "    soup = BeautifulSoup(page.content, 'lxml')\n",
    "    lyrics = ''\n",
    "    for i in soup.findAll('p'):\n",
    "        lyrics = lyrics + ' ' +  i.text\n",
    "    return(lyrics)"
   ]
  },
  {
   "cell_type": "code",
   "execution_count": 4,
   "metadata": {},
   "outputs": [
    {
     "data": {
      "text/plain": [
       "' Selamat aidil fitri\\nKepada saudara serta saudari\\nSetahun hanya sekali\\nMerayakan hari yang mulia ini Di masa bulan Ramadan\\nKita berpuasa hingga sebulan\\nPabila Syawal menjelma\\nHari raya disambut dengan gembira (Korus 1)\\nMiskin kaya memakai baju baru warna-warni\\nMengunjungi sanak kaum famili\\nSungguh hebat pemandangan di hari raya ini\\nTua muda wajah berseri-seri Selamat hari raya\\nPada saudari saudara semua\\nMarilah dengan gembira\\nMerayakan aidilfitri yang mulia Di sana kelihatan\\nBermacam kuih ketupat dan rendang\\n[ Saloma Lyrics are found on www.songlyrics.com ]\\nMintak bu kuih sepotong\\nSaya mahu makan kerna perut kosong Dam dam dum bunyi mercun\\nKanak-kanak segera datang berduyun\\nDam dam dum mercun berdentum\\nSemaraklah hari raya ini tahun (Korus 2)\\nMaafkanlah jika ada terlanjur perkataan\\nDiharap supaya jangan disimpan\\nKuberdoa selamat panjang umur murah rezeki\\nSemoga Tuhan akan memberkati Selamat hari raya\\nHari untuk kita bersuka ria\\nSelamat mari ucapkan\\nUntuk kita hingga sampai tahun depan Selamat hari raya!'"
      ]
     },
     "execution_count": 4,
     "metadata": {},
     "output_type": "execute_result"
    }
   ],
   "source": [
    "lagu1 = scrape_lyrics('https://iliriklagu.net/lirik-lagu-selamat-hari-raya-saloma/')\n",
    "lagu1"
   ]
  },
  {
   "cell_type": "code",
   "execution_count": 5,
   "metadata": {},
   "outputs": [
    {
     "data": {
      "text/plain": [
       "str"
      ]
     },
     "execution_count": 5,
     "metadata": {},
     "output_type": "execute_result"
    }
   ],
   "source": [
    "type(lagu1)"
   ]
  },
  {
   "cell_type": "markdown",
   "metadata": {},
   "source": [
    "    "
   ]
  },
  {
   "cell_type": "markdown",
   "metadata": {},
   "source": [
    "**Step 2: Wrangled Data**"
   ]
  },
  {
   "cell_type": "code",
   "execution_count": 6,
   "metadata": {},
   "outputs": [
    {
     "data": {
      "text/plain": [
       "' Selamat aidil fitri Kepada saudara serta saudari Setahun hanya sekali Merayakan hari yang mulia ini Di masa bulan Ramadan Kita berpuasa hingga sebulan Pabila Syawal menjelma Hari raya disambut dengan gembira (Korus 1) Miskin kaya memakai baju baru warna-warni Mengunjungi sanak kaum famili Sungguh hebat pemandangan di hari raya ini Tua muda wajah berseri-seri Selamat hari raya Pada saudari saudara semua Marilah dengan gembira Merayakan aidilfitri yang mulia Di sana kelihatan Bermacam kuih ketupat dan rendang [ Saloma Lyrics are found on www.songlyrics.com ] Mintak bu kuih sepotong Saya mahu makan kerna perut kosong Dam dam dum bunyi mercun Kanak-kanak segera datang berduyun Dam dam dum mercun berdentum Semaraklah hari raya ini tahun (Korus 2) Maafkanlah jika ada terlanjur perkataan Diharap supaya jangan disimpan Kuberdoa selamat panjang umur murah rezeki Semoga Tuhan akan memberkati Selamat hari raya Hari untuk kita bersuka ria Selamat mari ucapkan Untuk kita hingga sampai tahun depan Selamat hari raya!'"
      ]
     },
     "execution_count": 6,
     "metadata": {},
     "output_type": "execute_result"
    }
   ],
   "source": [
    "lagu1_1 = lagu1.replace('\\n', ' ')\n",
    "lagu1_1"
   ]
  },
  {
   "cell_type": "code",
   "execution_count": 7,
   "metadata": {},
   "outputs": [
    {
     "data": {
      "text/plain": [
       "' Selamat aidil fitri Kepada saudara serta saudari Setahun hanya sekali Merayakan hari yang mulia ini Di masa bulan Ramadan Kita berpuasa hingga sebulan Pabila Syawal menjelma Hari raya disambut dengan gembira  Miskin kaya memakai baju baru warna-warni Mengunjungi sanak kaum famili Sungguh hebat pemandangan di hari raya ini Tua muda wajah berseri-seri Selamat hari raya Pada saudari saudara semua Marilah dengan gembira Merayakan aidilfitri yang mulia Di sana kelihatan Bermacam kuih ketupat dan rendang [ Saloma Lyrics are found on www.songlyrics.com ] Mintak bu kuih sepotong Saya mahu makan kerna perut kosong Dam dam dum bunyi mercun Kanak-kanak segera datang berduyun Dam dam dum mercun berdentum Semaraklah hari raya ini tahun (Korus 2) Maafkanlah jika ada terlanjur perkataan Diharap supaya jangan disimpan Kuberdoa selamat panjang umur murah rezeki Semoga Tuhan akan memberkati Selamat hari raya Hari untuk kita bersuka ria Selamat mari ucapkan Untuk kita hingga sampai tahun depan Selamat hari raya!'"
      ]
     },
     "execution_count": 7,
     "metadata": {},
     "output_type": "execute_result"
    }
   ],
   "source": [
    "lagu1_2 = lagu1_1.replace('(Korus 1)', '')\n",
    "lagu1_2"
   ]
  },
  {
   "cell_type": "code",
   "execution_count": 9,
   "metadata": {},
   "outputs": [
    {
     "data": {
      "text/plain": [
       "' Selamat aidil fitri Kepada saudara serta saudari Setahun hanya sekali Merayakan hari yang mulia ini Di masa bulan Ramadan Kita berpuasa hingga sebulan Pabila Syawal menjelma Hari raya disambut dengan gembira  Miskin kaya memakai baju baru warna-warni Mengunjungi sanak kaum famili Sungguh hebat pemandangan di hari raya ini Tua muda wajah berseri-seri Selamat hari raya Pada saudari saudara semua Marilah dengan gembira Merayakan aidilfitri yang mulia Di sana kelihatan Bermacam kuih ketupat dan rendang [ Saloma Lyrics are found on www.songlyrics.com ] Mintak bu kuih sepotong Saya mahu makan kerna perut kosong Dam dam dum bunyi mercun Kanak-kanak segera datang berduyun Dam dam dum mercun berdentum Semaraklah hari raya ini tahun  Maafkanlah jika ada terlanjur perkataan Diharap supaya jangan disimpan Kuberdoa selamat panjang umur murah rezeki Semoga Tuhan akan memberkati Selamat hari raya Hari untuk kita bersuka ria Selamat mari ucapkan Untuk kita hingga sampai tahun depan Selamat hari raya!'"
      ]
     },
     "execution_count": 9,
     "metadata": {},
     "output_type": "execute_result"
    }
   ],
   "source": [
    "lagu1_3 = lagu1_2.replace('(Korus 2)', '')\n",
    "lagu1_3"
   ]
  },
  {
   "cell_type": "code",
   "execution_count": 10,
   "metadata": {},
   "outputs": [
    {
     "data": {
      "text/plain": [
       "' Selamat aidil fitri Kepada saudara serta saudari Setahun hanya sekali Merayakan hari yang mulia ini Di masa bulan Ramadan Kita berpuasa hingga sebulan Pabila Syawal menjelma Hari raya disambut dengan gembira  Miskin kaya memakai baju baru warna-warni Mengunjungi sanak kaum famili Sungguh hebat pemandangan di hari raya ini Tua muda wajah berseri-seri Selamat hari raya Pada saudari saudara semua Marilah dengan gembira Merayakan aidilfitri yang mulia Di sana kelihatan Bermacam kuih ketupat dan rendang  Mintak bu kuih sepotong Saya mahu makan kerna perut kosong Dam dam dum bunyi mercun Kanak-kanak segera datang berduyun Dam dam dum mercun berdentum Semaraklah hari raya ini tahun  Maafkanlah jika ada terlanjur perkataan Diharap supaya jangan disimpan Kuberdoa selamat panjang umur murah rezeki Semoga Tuhan akan memberkati Selamat hari raya Hari untuk kita bersuka ria Selamat mari ucapkan Untuk kita hingga sampai tahun depan Selamat hari raya!'"
      ]
     },
     "execution_count": 10,
     "metadata": {},
     "output_type": "execute_result"
    }
   ],
   "source": [
    "lagu1_4 = lagu1_3.replace('[ Saloma Lyrics are found on www.songlyrics.com ]', '')\n",
    "lagu1_4"
   ]
  },
  {
   "cell_type": "code",
   "execution_count": 21,
   "metadata": {},
   "outputs": [
    {
     "data": {
      "text/plain": [
       "' Selamat aidil fitri Kepada saudara serta saudari Setahun hanya sekali Merayakan hari yang mulia ini Di masa bulan Ramadan Kita berpuasa hingga sebulan Pabila Syawal menjelma Hari raya disambut dengan gembira  Miskin kaya memakai baju baru warna-warni Mengunjungi sanak kaum famili Sungguh hebat pemandangan di hari raya ini Tua muda wajah berseri-seri Selamat hari raya Pada saudari saudara semua Marilah dengan gembira Merayakan aidilfitri yang mulia Di sana kelihatan Bermacam kuih ketupat dan rendang  Mintak bu kuih sepotong Saya mahu makan kerna perut kosong Dam dam dum bunyi mercun Kanak-kanak segera datang berduyun Dam dam dum mercun berdentum Semaraklah hari raya ini tahun  Maafkanlah jika ada terlanjur perkataan Diharap supaya jangan disimpan Kuberdoa selamat panjang umur murah rezeki Semoga Tuhan akan memberkati Selamat hari raya Hari untuk kita bersuka ria Selamat mari ucapkan Untuk kita hingga sampai tahun depan Selamat hari raya'"
      ]
     },
     "execution_count": 21,
     "metadata": {},
     "output_type": "execute_result"
    }
   ],
   "source": [
    "lagu1_5 = lagu1_4.replace('raya!', 'raya')\n",
    "lagu1_5"
   ]
  },
  {
   "cell_type": "code",
   "execution_count": 22,
   "metadata": {},
   "outputs": [],
   "source": [
    "lagu1 = lagu1_5"
   ]
  },
  {
   "cell_type": "markdown",
   "metadata": {},
   "source": [
    "    \n",
    "   "
   ]
  },
  {
   "cell_type": "markdown",
   "metadata": {},
   "source": [
    "**Step 3: Create dataframe**"
   ]
  },
  {
   "cell_type": "code",
   "execution_count": 23,
   "metadata": {},
   "outputs": [],
   "source": [
    "def Convert(string): \n",
    "    final_text = list(string.split(\" \")) \n",
    "    return final_text"
   ]
  },
  {
   "cell_type": "code",
   "execution_count": 24,
   "metadata": {},
   "outputs": [
    {
     "data": {
      "text/html": [
       "<div>\n",
       "<style scoped>\n",
       "    .dataframe tbody tr th:only-of-type {\n",
       "        vertical-align: middle;\n",
       "    }\n",
       "\n",
       "    .dataframe tbody tr th {\n",
       "        vertical-align: top;\n",
       "    }\n",
       "\n",
       "    .dataframe thead th {\n",
       "        text-align: right;\n",
       "    }\n",
       "</style>\n",
       "<table border=\"1\" class=\"dataframe\">\n",
       "  <thead>\n",
       "    <tr style=\"text-align: right;\">\n",
       "      <th></th>\n",
       "      <th>Words</th>\n",
       "    </tr>\n",
       "  </thead>\n",
       "  <tbody>\n",
       "    <tr>\n",
       "      <th>0</th>\n",
       "      <td></td>\n",
       "    </tr>\n",
       "    <tr>\n",
       "      <th>1</th>\n",
       "      <td>selamat</td>\n",
       "    </tr>\n",
       "    <tr>\n",
       "      <th>2</th>\n",
       "      <td>aidil</td>\n",
       "    </tr>\n",
       "    <tr>\n",
       "      <th>3</th>\n",
       "      <td>fitri</td>\n",
       "    </tr>\n",
       "    <tr>\n",
       "      <th>4</th>\n",
       "      <td>kepada</td>\n",
       "    </tr>\n",
       "    <tr>\n",
       "      <th>...</th>\n",
       "      <td>...</td>\n",
       "    </tr>\n",
       "    <tr>\n",
       "      <th>141</th>\n",
       "      <td>tahun</td>\n",
       "    </tr>\n",
       "    <tr>\n",
       "      <th>142</th>\n",
       "      <td>depan</td>\n",
       "    </tr>\n",
       "    <tr>\n",
       "      <th>143</th>\n",
       "      <td>selamat</td>\n",
       "    </tr>\n",
       "    <tr>\n",
       "      <th>144</th>\n",
       "      <td>hari</td>\n",
       "    </tr>\n",
       "    <tr>\n",
       "      <th>145</th>\n",
       "      <td>raya</td>\n",
       "    </tr>\n",
       "  </tbody>\n",
       "</table>\n",
       "<p>146 rows × 1 columns</p>\n",
       "</div>"
      ],
      "text/plain": [
       "       Words\n",
       "0           \n",
       "1    selamat\n",
       "2      aidil\n",
       "3      fitri\n",
       "4     kepada\n",
       "..       ...\n",
       "141    tahun\n",
       "142    depan\n",
       "143  selamat\n",
       "144     hari\n",
       "145     raya\n",
       "\n",
       "[146 rows x 1 columns]"
      ]
     },
     "execution_count": 24,
     "metadata": {},
     "output_type": "execute_result"
    }
   ],
   "source": [
    "lagu_saloma = Convert(lagu1.lower())\n",
    "df1 = pd.DataFrame((lagu_saloma),columns =['Words'])\n",
    "df1"
   ]
  },
  {
   "cell_type": "markdown",
   "metadata": {},
   "source": [
    "   "
   ]
  },
  {
   "cell_type": "markdown",
   "metadata": {},
   "source": [
    "**Step 4: Repeat**"
   ]
  },
  {
   "cell_type": "code",
   "execution_count": 29,
   "metadata": {},
   "outputs": [
    {
     "data": {
      "text/plain": [
       "' Di hari raya\\nTerkenang daku kepada si dia\\nKampungku indah nun jauh di sana\\nAyah serta bondaku Di tepian mandi\\nDanauku hijau yang aman damai selalu\\nNun di sanalah tempat aku bertemu\\nAku dan dia ( korus )\\nApakan daya\\nMasa tak akan kembali\\nHancur musnahlah semuanya Impian yang murni\\nTinggal menjadi kenang-kenanganku\\nHanya rangkaian kata dan lagu\\nDendang perantau ( ulang korus hingga akhir )'"
      ]
     },
     "execution_count": 29,
     "metadata": {},
     "output_type": "execute_result"
    }
   ],
   "source": [
    "lagu2 = scrape_lyrics('https://iliriklagu.net/lirik-lagu-dendang-perantau-p-ramlee/')\n",
    "lagu2"
   ]
  },
  {
   "cell_type": "code",
   "execution_count": 32,
   "metadata": {},
   "outputs": [
    {
     "data": {
      "text/plain": [
       "' Di hari raya Terkenang daku kepada si dia Kampungku indah nun jauh di sana Ayah serta bondaku Di tepian mandi Danauku hijau yang aman damai selalu Nun di sanalah tempat aku bertemu Aku dan dia ( korus ) Apakan daya Masa tak akan kembali Hancur musnahlah semuanya Impian yang murni Tinggal menjadi kenang-kenanganku Hanya rangkaian kata dan lagu Dendang perantau ( ulang korus hingga akhir )'"
      ]
     },
     "execution_count": 32,
     "metadata": {},
     "output_type": "execute_result"
    }
   ],
   "source": [
    "lagu2_1 = lagu2.replace('\\n', ' ')\n",
    "lagu2_1"
   ]
  },
  {
   "cell_type": "code",
   "execution_count": 33,
   "metadata": {},
   "outputs": [
    {
     "data": {
      "text/plain": [
       "' Di hari raya Terkenang daku kepada si dia Kampungku indah nun jauh di sana Ayah serta bondaku Di tepian mandi Danauku hijau yang aman damai selalu Nun di sanalah tempat aku bertemu Aku dan dia  Apakan daya Masa tak akan kembali Hancur musnahlah semuanya Impian yang murni Tinggal menjadi kenang-kenanganku Hanya rangkaian kata dan lagu Dendang perantau ( ulang korus hingga akhir )'"
      ]
     },
     "execution_count": 33,
     "metadata": {},
     "output_type": "execute_result"
    }
   ],
   "source": [
    "lagu2_2 = lagu2_1.replace('( korus )', '')\n",
    "lagu2_2"
   ]
  },
  {
   "cell_type": "code",
   "execution_count": 34,
   "metadata": {},
   "outputs": [
    {
     "data": {
      "text/plain": [
       "' Di hari raya Terkenang daku kepada si dia Kampungku indah nun jauh di sana Ayah serta bondaku Di tepian mandi Danauku hijau yang aman damai selalu Nun di sanalah tempat aku bertemu Aku dan dia  Apakan daya Masa tak akan kembali Hancur musnahlah semuanya Impian yang murni Tinggal menjadi kenang-kenanganku Hanya rangkaian kata dan lagu Dendang perantau '"
      ]
     },
     "execution_count": 34,
     "metadata": {},
     "output_type": "execute_result"
    }
   ],
   "source": [
    "lagu2_3 = lagu2_2.replace('( ulang korus hingga akhir )', '')\n",
    "lagu2_3"
   ]
  },
  {
   "cell_type": "code",
   "execution_count": 36,
   "metadata": {},
   "outputs": [
    {
     "data": {
      "text/plain": [
       "' Di hari raya Terkenang daku kepada si dia Kampungku indah nun jauh di sana Ayah serta bondaku Di tepian mandi Danauku hijau yang aman damai selalu Nun di sanalah tempat aku bertemu Aku dan dia  Apakan daya Masa tak akan kembali Hancur musnahlah semuanya Impian yang murni Tinggal menjadi kenang-kenanganku Hanya rangkaian kata dan lagu Dendang perantau '"
      ]
     },
     "execution_count": 36,
     "metadata": {},
     "output_type": "execute_result"
    }
   ],
   "source": [
    "lagu2 = lagu2_3\n",
    "lagu2"
   ]
  },
  {
   "cell_type": "code",
   "execution_count": 37,
   "metadata": {},
   "outputs": [
    {
     "data": {
      "text/html": [
       "<div>\n",
       "<style scoped>\n",
       "    .dataframe tbody tr th:only-of-type {\n",
       "        vertical-align: middle;\n",
       "    }\n",
       "\n",
       "    .dataframe tbody tr th {\n",
       "        vertical-align: top;\n",
       "    }\n",
       "\n",
       "    .dataframe thead th {\n",
       "        text-align: right;\n",
       "    }\n",
       "</style>\n",
       "<table border=\"1\" class=\"dataframe\">\n",
       "  <thead>\n",
       "    <tr style=\"text-align: right;\">\n",
       "      <th></th>\n",
       "      <th>Words</th>\n",
       "    </tr>\n",
       "  </thead>\n",
       "  <tbody>\n",
       "    <tr>\n",
       "      <th>0</th>\n",
       "      <td></td>\n",
       "    </tr>\n",
       "    <tr>\n",
       "      <th>1</th>\n",
       "      <td>di</td>\n",
       "    </tr>\n",
       "    <tr>\n",
       "      <th>2</th>\n",
       "      <td>hari</td>\n",
       "    </tr>\n",
       "    <tr>\n",
       "      <th>3</th>\n",
       "      <td>raya</td>\n",
       "    </tr>\n",
       "    <tr>\n",
       "      <th>4</th>\n",
       "      <td>terkenang</td>\n",
       "    </tr>\n",
       "    <tr>\n",
       "      <th>5</th>\n",
       "      <td>daku</td>\n",
       "    </tr>\n",
       "    <tr>\n",
       "      <th>6</th>\n",
       "      <td>kepada</td>\n",
       "    </tr>\n",
       "    <tr>\n",
       "      <th>7</th>\n",
       "      <td>si</td>\n",
       "    </tr>\n",
       "    <tr>\n",
       "      <th>8</th>\n",
       "      <td>dia</td>\n",
       "    </tr>\n",
       "    <tr>\n",
       "      <th>9</th>\n",
       "      <td>kampungku</td>\n",
       "    </tr>\n",
       "    <tr>\n",
       "      <th>10</th>\n",
       "      <td>indah</td>\n",
       "    </tr>\n",
       "    <tr>\n",
       "      <th>11</th>\n",
       "      <td>nun</td>\n",
       "    </tr>\n",
       "    <tr>\n",
       "      <th>12</th>\n",
       "      <td>jauh</td>\n",
       "    </tr>\n",
       "    <tr>\n",
       "      <th>13</th>\n",
       "      <td>di</td>\n",
       "    </tr>\n",
       "    <tr>\n",
       "      <th>14</th>\n",
       "      <td>sana</td>\n",
       "    </tr>\n",
       "    <tr>\n",
       "      <th>15</th>\n",
       "      <td>ayah</td>\n",
       "    </tr>\n",
       "    <tr>\n",
       "      <th>16</th>\n",
       "      <td>serta</td>\n",
       "    </tr>\n",
       "    <tr>\n",
       "      <th>17</th>\n",
       "      <td>bondaku</td>\n",
       "    </tr>\n",
       "    <tr>\n",
       "      <th>18</th>\n",
       "      <td>di</td>\n",
       "    </tr>\n",
       "    <tr>\n",
       "      <th>19</th>\n",
       "      <td>tepian</td>\n",
       "    </tr>\n",
       "    <tr>\n",
       "      <th>20</th>\n",
       "      <td>mandi</td>\n",
       "    </tr>\n",
       "    <tr>\n",
       "      <th>21</th>\n",
       "      <td>danauku</td>\n",
       "    </tr>\n",
       "    <tr>\n",
       "      <th>22</th>\n",
       "      <td>hijau</td>\n",
       "    </tr>\n",
       "    <tr>\n",
       "      <th>23</th>\n",
       "      <td>yang</td>\n",
       "    </tr>\n",
       "    <tr>\n",
       "      <th>24</th>\n",
       "      <td>aman</td>\n",
       "    </tr>\n",
       "    <tr>\n",
       "      <th>25</th>\n",
       "      <td>damai</td>\n",
       "    </tr>\n",
       "    <tr>\n",
       "      <th>26</th>\n",
       "      <td>selalu</td>\n",
       "    </tr>\n",
       "    <tr>\n",
       "      <th>27</th>\n",
       "      <td>nun</td>\n",
       "    </tr>\n",
       "    <tr>\n",
       "      <th>28</th>\n",
       "      <td>di</td>\n",
       "    </tr>\n",
       "    <tr>\n",
       "      <th>29</th>\n",
       "      <td>sanalah</td>\n",
       "    </tr>\n",
       "    <tr>\n",
       "      <th>30</th>\n",
       "      <td>tempat</td>\n",
       "    </tr>\n",
       "    <tr>\n",
       "      <th>31</th>\n",
       "      <td>aku</td>\n",
       "    </tr>\n",
       "    <tr>\n",
       "      <th>32</th>\n",
       "      <td>bertemu</td>\n",
       "    </tr>\n",
       "    <tr>\n",
       "      <th>33</th>\n",
       "      <td>aku</td>\n",
       "    </tr>\n",
       "    <tr>\n",
       "      <th>34</th>\n",
       "      <td>dan</td>\n",
       "    </tr>\n",
       "    <tr>\n",
       "      <th>35</th>\n",
       "      <td>dia</td>\n",
       "    </tr>\n",
       "    <tr>\n",
       "      <th>36</th>\n",
       "      <td></td>\n",
       "    </tr>\n",
       "    <tr>\n",
       "      <th>37</th>\n",
       "      <td>apakan</td>\n",
       "    </tr>\n",
       "    <tr>\n",
       "      <th>38</th>\n",
       "      <td>daya</td>\n",
       "    </tr>\n",
       "    <tr>\n",
       "      <th>39</th>\n",
       "      <td>masa</td>\n",
       "    </tr>\n",
       "    <tr>\n",
       "      <th>40</th>\n",
       "      <td>tak</td>\n",
       "    </tr>\n",
       "    <tr>\n",
       "      <th>41</th>\n",
       "      <td>akan</td>\n",
       "    </tr>\n",
       "    <tr>\n",
       "      <th>42</th>\n",
       "      <td>kembali</td>\n",
       "    </tr>\n",
       "    <tr>\n",
       "      <th>43</th>\n",
       "      <td>hancur</td>\n",
       "    </tr>\n",
       "    <tr>\n",
       "      <th>44</th>\n",
       "      <td>musnahlah</td>\n",
       "    </tr>\n",
       "    <tr>\n",
       "      <th>45</th>\n",
       "      <td>semuanya</td>\n",
       "    </tr>\n",
       "    <tr>\n",
       "      <th>46</th>\n",
       "      <td>impian</td>\n",
       "    </tr>\n",
       "    <tr>\n",
       "      <th>47</th>\n",
       "      <td>yang</td>\n",
       "    </tr>\n",
       "    <tr>\n",
       "      <th>48</th>\n",
       "      <td>murni</td>\n",
       "    </tr>\n",
       "    <tr>\n",
       "      <th>49</th>\n",
       "      <td>tinggal</td>\n",
       "    </tr>\n",
       "    <tr>\n",
       "      <th>50</th>\n",
       "      <td>menjadi</td>\n",
       "    </tr>\n",
       "    <tr>\n",
       "      <th>51</th>\n",
       "      <td>kenang-kenanganku</td>\n",
       "    </tr>\n",
       "    <tr>\n",
       "      <th>52</th>\n",
       "      <td>hanya</td>\n",
       "    </tr>\n",
       "    <tr>\n",
       "      <th>53</th>\n",
       "      <td>rangkaian</td>\n",
       "    </tr>\n",
       "    <tr>\n",
       "      <th>54</th>\n",
       "      <td>kata</td>\n",
       "    </tr>\n",
       "    <tr>\n",
       "      <th>55</th>\n",
       "      <td>dan</td>\n",
       "    </tr>\n",
       "    <tr>\n",
       "      <th>56</th>\n",
       "      <td>lagu</td>\n",
       "    </tr>\n",
       "    <tr>\n",
       "      <th>57</th>\n",
       "      <td>dendang</td>\n",
       "    </tr>\n",
       "    <tr>\n",
       "      <th>58</th>\n",
       "      <td>perantau</td>\n",
       "    </tr>\n",
       "    <tr>\n",
       "      <th>59</th>\n",
       "      <td></td>\n",
       "    </tr>\n",
       "  </tbody>\n",
       "</table>\n",
       "</div>"
      ],
      "text/plain": [
       "                Words\n",
       "0                    \n",
       "1                  di\n",
       "2                hari\n",
       "3                raya\n",
       "4           terkenang\n",
       "5                daku\n",
       "6              kepada\n",
       "7                  si\n",
       "8                 dia\n",
       "9           kampungku\n",
       "10              indah\n",
       "11                nun\n",
       "12               jauh\n",
       "13                 di\n",
       "14               sana\n",
       "15               ayah\n",
       "16              serta\n",
       "17            bondaku\n",
       "18                 di\n",
       "19             tepian\n",
       "20              mandi\n",
       "21            danauku\n",
       "22              hijau\n",
       "23               yang\n",
       "24               aman\n",
       "25              damai\n",
       "26             selalu\n",
       "27                nun\n",
       "28                 di\n",
       "29            sanalah\n",
       "30             tempat\n",
       "31                aku\n",
       "32            bertemu\n",
       "33                aku\n",
       "34                dan\n",
       "35                dia\n",
       "36                   \n",
       "37             apakan\n",
       "38               daya\n",
       "39               masa\n",
       "40                tak\n",
       "41               akan\n",
       "42            kembali\n",
       "43             hancur\n",
       "44          musnahlah\n",
       "45           semuanya\n",
       "46             impian\n",
       "47               yang\n",
       "48              murni\n",
       "49            tinggal\n",
       "50            menjadi\n",
       "51  kenang-kenanganku\n",
       "52              hanya\n",
       "53          rangkaian\n",
       "54               kata\n",
       "55                dan\n",
       "56               lagu\n",
       "57            dendang\n",
       "58           perantau\n",
       "59                   "
      ]
     },
     "execution_count": 37,
     "metadata": {},
     "output_type": "execute_result"
    }
   ],
   "source": [
    "lagu_PRam = Convert(lagu2.lower())\n",
    "df2 = pd.DataFrame((lagu_PRam),columns =['Words'])\n",
    "df2"
   ]
  },
  {
   "cell_type": "code",
   "execution_count": 38,
   "metadata": {},
   "outputs": [
    {
     "data": {
      "text/plain": [
       "' Aidil fitri hari bahgia\\nHari yang mulia\\nMohon maaf bersama dipinta\\nSelamat… Selamat Hari Raya Sembah salam ayah dan bonda\\nAmpunkanlah dosa\\nHilangkanlah duka dan nestapa\\nSelamat… Selamat Hari Raya *Chorus\\nSemoga kita berjumpa lagi\\nDi hari bahagia ini Mari teman mari saudara\\nKita bergembira\\nLupakan hatimu yang duka\\nSelamat… Selamat Hari Raya'"
      ]
     },
     "execution_count": 38,
     "metadata": {},
     "output_type": "execute_result"
    }
   ],
   "source": [
    "lagu3 = scrape_lyrics('https://iliriklagu.net/lirik-lagu-selamat-hari-raya-fazidah-joned/')\n",
    "lagu3"
   ]
  },
  {
   "cell_type": "code",
   "execution_count": 39,
   "metadata": {},
   "outputs": [
    {
     "data": {
      "text/plain": [
       "' Aidil fitri hari bahgia Hari yang mulia Mohon maaf bersama dipinta Selamat… Selamat Hari Raya Sembah salam ayah dan bonda Ampunkanlah dosa Hilangkanlah duka dan nestapa Selamat… Selamat Hari Raya *Chorus Semoga kita berjumpa lagi Di hari bahagia ini Mari teman mari saudara Kita bergembira Lupakan hatimu yang duka Selamat… Selamat Hari Raya'"
      ]
     },
     "execution_count": 39,
     "metadata": {},
     "output_type": "execute_result"
    }
   ],
   "source": [
    "lagu3_1 = lagu3.replace('\\n', ' ')\n",
    "lagu3_1"
   ]
  },
  {
   "cell_type": "code",
   "execution_count": 48,
   "metadata": {},
   "outputs": [
    {
     "data": {
      "text/plain": [
       "' Aidil fitri hari bahgia Hari yang mulia Mohon maaf bersama dipinta Selamat… Selamat Hari Raya Sembah salam ayah dan bonda Ampunkanlah dosa Hilangkanlah duka dan nestapa Selamat… Selamat Hari Raya  Semoga kita berjumpa lagi Di hari bahagia ini Mari teman mari saudara Kita bergembira Lupakan hatimu yang duka Selamat… Selamat Hari Raya'"
      ]
     },
     "execution_count": 48,
     "metadata": {},
     "output_type": "execute_result"
    }
   ],
   "source": [
    "lagu3_2 = lagu3_1.replace('*Chorus', '')\n",
    "lagu3_2"
   ]
  },
  {
   "cell_type": "code",
   "execution_count": 52,
   "metadata": {},
   "outputs": [
    {
     "data": {
      "text/plain": [
       "' Aidil fitri hari bahgia Hari yang mulia Mohon maaf bersama dipinta Selamat Selamat Hari Raya Sembah salam ayah dan bonda Ampunkanlah dosa Hilangkanlah duka dan nestapa Selamat Selamat Hari Raya  Semoga kita berjumpa lagi Di hari bahagia ini Mari teman mari saudara Kita bergembira Lupakan hatimu yang duka Selamat Selamat Hari Raya'"
      ]
     },
     "execution_count": 52,
     "metadata": {},
     "output_type": "execute_result"
    }
   ],
   "source": [
    "lagu3_3 = lagu3_2.replace('Selamat…', 'Selamat')\n",
    "lagu3 = lagu3_3\n",
    "lagu3"
   ]
  },
  {
   "cell_type": "code",
   "execution_count": 53,
   "metadata": {},
   "outputs": [
    {
     "data": {
      "text/html": [
       "<div>\n",
       "<style scoped>\n",
       "    .dataframe tbody tr th:only-of-type {\n",
       "        vertical-align: middle;\n",
       "    }\n",
       "\n",
       "    .dataframe tbody tr th {\n",
       "        vertical-align: top;\n",
       "    }\n",
       "\n",
       "    .dataframe thead th {\n",
       "        text-align: right;\n",
       "    }\n",
       "</style>\n",
       "<table border=\"1\" class=\"dataframe\">\n",
       "  <thead>\n",
       "    <tr style=\"text-align: right;\">\n",
       "      <th></th>\n",
       "      <th>Words</th>\n",
       "    </tr>\n",
       "  </thead>\n",
       "  <tbody>\n",
       "    <tr>\n",
       "      <th>0</th>\n",
       "      <td></td>\n",
       "    </tr>\n",
       "    <tr>\n",
       "      <th>1</th>\n",
       "      <td>aidil</td>\n",
       "    </tr>\n",
       "    <tr>\n",
       "      <th>2</th>\n",
       "      <td>fitri</td>\n",
       "    </tr>\n",
       "    <tr>\n",
       "      <th>3</th>\n",
       "      <td>hari</td>\n",
       "    </tr>\n",
       "    <tr>\n",
       "      <th>4</th>\n",
       "      <td>bahgia</td>\n",
       "    </tr>\n",
       "    <tr>\n",
       "      <th>5</th>\n",
       "      <td>hari</td>\n",
       "    </tr>\n",
       "    <tr>\n",
       "      <th>6</th>\n",
       "      <td>yang</td>\n",
       "    </tr>\n",
       "    <tr>\n",
       "      <th>7</th>\n",
       "      <td>mulia</td>\n",
       "    </tr>\n",
       "    <tr>\n",
       "      <th>8</th>\n",
       "      <td>mohon</td>\n",
       "    </tr>\n",
       "    <tr>\n",
       "      <th>9</th>\n",
       "      <td>maaf</td>\n",
       "    </tr>\n",
       "    <tr>\n",
       "      <th>10</th>\n",
       "      <td>bersama</td>\n",
       "    </tr>\n",
       "    <tr>\n",
       "      <th>11</th>\n",
       "      <td>dipinta</td>\n",
       "    </tr>\n",
       "    <tr>\n",
       "      <th>12</th>\n",
       "      <td>selamat</td>\n",
       "    </tr>\n",
       "    <tr>\n",
       "      <th>13</th>\n",
       "      <td>selamat</td>\n",
       "    </tr>\n",
       "    <tr>\n",
       "      <th>14</th>\n",
       "      <td>hari</td>\n",
       "    </tr>\n",
       "    <tr>\n",
       "      <th>15</th>\n",
       "      <td>raya</td>\n",
       "    </tr>\n",
       "    <tr>\n",
       "      <th>16</th>\n",
       "      <td>sembah</td>\n",
       "    </tr>\n",
       "    <tr>\n",
       "      <th>17</th>\n",
       "      <td>salam</td>\n",
       "    </tr>\n",
       "    <tr>\n",
       "      <th>18</th>\n",
       "      <td>ayah</td>\n",
       "    </tr>\n",
       "    <tr>\n",
       "      <th>19</th>\n",
       "      <td>dan</td>\n",
       "    </tr>\n",
       "    <tr>\n",
       "      <th>20</th>\n",
       "      <td>bonda</td>\n",
       "    </tr>\n",
       "    <tr>\n",
       "      <th>21</th>\n",
       "      <td>ampunkanlah</td>\n",
       "    </tr>\n",
       "    <tr>\n",
       "      <th>22</th>\n",
       "      <td>dosa</td>\n",
       "    </tr>\n",
       "    <tr>\n",
       "      <th>23</th>\n",
       "      <td>hilangkanlah</td>\n",
       "    </tr>\n",
       "    <tr>\n",
       "      <th>24</th>\n",
       "      <td>duka</td>\n",
       "    </tr>\n",
       "    <tr>\n",
       "      <th>25</th>\n",
       "      <td>dan</td>\n",
       "    </tr>\n",
       "    <tr>\n",
       "      <th>26</th>\n",
       "      <td>nestapa</td>\n",
       "    </tr>\n",
       "    <tr>\n",
       "      <th>27</th>\n",
       "      <td>selamat</td>\n",
       "    </tr>\n",
       "    <tr>\n",
       "      <th>28</th>\n",
       "      <td>selamat</td>\n",
       "    </tr>\n",
       "    <tr>\n",
       "      <th>29</th>\n",
       "      <td>hari</td>\n",
       "    </tr>\n",
       "    <tr>\n",
       "      <th>30</th>\n",
       "      <td>raya</td>\n",
       "    </tr>\n",
       "    <tr>\n",
       "      <th>31</th>\n",
       "      <td></td>\n",
       "    </tr>\n",
       "    <tr>\n",
       "      <th>32</th>\n",
       "      <td>semoga</td>\n",
       "    </tr>\n",
       "    <tr>\n",
       "      <th>33</th>\n",
       "      <td>kita</td>\n",
       "    </tr>\n",
       "    <tr>\n",
       "      <th>34</th>\n",
       "      <td>berjumpa</td>\n",
       "    </tr>\n",
       "    <tr>\n",
       "      <th>35</th>\n",
       "      <td>lagi</td>\n",
       "    </tr>\n",
       "    <tr>\n",
       "      <th>36</th>\n",
       "      <td>di</td>\n",
       "    </tr>\n",
       "    <tr>\n",
       "      <th>37</th>\n",
       "      <td>hari</td>\n",
       "    </tr>\n",
       "    <tr>\n",
       "      <th>38</th>\n",
       "      <td>bahagia</td>\n",
       "    </tr>\n",
       "    <tr>\n",
       "      <th>39</th>\n",
       "      <td>ini</td>\n",
       "    </tr>\n",
       "    <tr>\n",
       "      <th>40</th>\n",
       "      <td>mari</td>\n",
       "    </tr>\n",
       "    <tr>\n",
       "      <th>41</th>\n",
       "      <td>teman</td>\n",
       "    </tr>\n",
       "    <tr>\n",
       "      <th>42</th>\n",
       "      <td>mari</td>\n",
       "    </tr>\n",
       "    <tr>\n",
       "      <th>43</th>\n",
       "      <td>saudara</td>\n",
       "    </tr>\n",
       "    <tr>\n",
       "      <th>44</th>\n",
       "      <td>kita</td>\n",
       "    </tr>\n",
       "    <tr>\n",
       "      <th>45</th>\n",
       "      <td>bergembira</td>\n",
       "    </tr>\n",
       "    <tr>\n",
       "      <th>46</th>\n",
       "      <td>lupakan</td>\n",
       "    </tr>\n",
       "    <tr>\n",
       "      <th>47</th>\n",
       "      <td>hatimu</td>\n",
       "    </tr>\n",
       "    <tr>\n",
       "      <th>48</th>\n",
       "      <td>yang</td>\n",
       "    </tr>\n",
       "    <tr>\n",
       "      <th>49</th>\n",
       "      <td>duka</td>\n",
       "    </tr>\n",
       "    <tr>\n",
       "      <th>50</th>\n",
       "      <td>selamat</td>\n",
       "    </tr>\n",
       "    <tr>\n",
       "      <th>51</th>\n",
       "      <td>selamat</td>\n",
       "    </tr>\n",
       "    <tr>\n",
       "      <th>52</th>\n",
       "      <td>hari</td>\n",
       "    </tr>\n",
       "    <tr>\n",
       "      <th>53</th>\n",
       "      <td>raya</td>\n",
       "    </tr>\n",
       "  </tbody>\n",
       "</table>\n",
       "</div>"
      ],
      "text/plain": [
       "           Words\n",
       "0               \n",
       "1          aidil\n",
       "2          fitri\n",
       "3           hari\n",
       "4         bahgia\n",
       "5           hari\n",
       "6           yang\n",
       "7          mulia\n",
       "8          mohon\n",
       "9           maaf\n",
       "10       bersama\n",
       "11       dipinta\n",
       "12       selamat\n",
       "13       selamat\n",
       "14          hari\n",
       "15          raya\n",
       "16        sembah\n",
       "17         salam\n",
       "18          ayah\n",
       "19           dan\n",
       "20         bonda\n",
       "21   ampunkanlah\n",
       "22          dosa\n",
       "23  hilangkanlah\n",
       "24          duka\n",
       "25           dan\n",
       "26       nestapa\n",
       "27       selamat\n",
       "28       selamat\n",
       "29          hari\n",
       "30          raya\n",
       "31              \n",
       "32        semoga\n",
       "33          kita\n",
       "34      berjumpa\n",
       "35          lagi\n",
       "36            di\n",
       "37          hari\n",
       "38       bahagia\n",
       "39           ini\n",
       "40          mari\n",
       "41         teman\n",
       "42          mari\n",
       "43       saudara\n",
       "44          kita\n",
       "45    bergembira\n",
       "46       lupakan\n",
       "47        hatimu\n",
       "48          yang\n",
       "49          duka\n",
       "50       selamat\n",
       "51       selamat\n",
       "52          hari\n",
       "53          raya"
      ]
     },
     "execution_count": 53,
     "metadata": {},
     "output_type": "execute_result"
    }
   ],
   "source": [
    "lagu_3 = Convert(lagu3.lower())\n",
    "df3 = pd.DataFrame((lagu_3),columns =['Words'])\n",
    "df3"
   ]
  },
  {
   "cell_type": "code",
   "execution_count": 54,
   "metadata": {},
   "outputs": [
    {
     "data": {
      "text/plain": [
       "' Hai selamat hari raya\\nKami semua ucapkan\\nMenikmati hidangan\\nYang kami sediakan Sila jamu selera\\nDengan bermacam hidangan\\nPilih yang mana suka\\nSila janganlah segan ( korus 1 )\\nRasalah ketupat ini\\nDengan rendangnya sekali\\nSudilah rasa kuihku\\nPilihlah yang mana satu ( korus 2 )\\nHai… di hari begini\\nKita menjamu selera\\nKita bermaaf-maafan\\nDi suasana hari raya ( ulang dari mula )'"
      ]
     },
     "execution_count": 54,
     "metadata": {},
     "output_type": "execute_result"
    }
   ],
   "source": [
    "lagu4 = scrape_lyrics('https://iliriklagu.net/lirik-lagu-suasana-hari-raya-sharifah-aini/')\n",
    "lagu4"
   ]
  },
  {
   "cell_type": "code",
   "execution_count": 55,
   "metadata": {},
   "outputs": [
    {
     "data": {
      "text/plain": [
       "' Hai selamat hari raya Kami semua ucapkan Menikmati hidangan Yang kami sediakan Sila jamu selera Dengan bermacam hidangan Pilih yang mana suka Sila janganlah segan ( korus 1 ) Rasalah ketupat ini Dengan rendangnya sekali Sudilah rasa kuihku Pilihlah yang mana satu ( korus 2 ) Hai… di hari begini Kita menjamu selera Kita bermaaf-maafan Di suasana hari raya ( ulang dari mula )'"
      ]
     },
     "execution_count": 55,
     "metadata": {},
     "output_type": "execute_result"
    }
   ],
   "source": [
    "lagu4_1 = lagu4.replace('\\n', ' ')\n",
    "lagu4_1"
   ]
  },
  {
   "cell_type": "code",
   "execution_count": 56,
   "metadata": {},
   "outputs": [
    {
     "data": {
      "text/plain": [
       "' Hai selamat hari raya Kami semua ucapkan Menikmati hidangan Yang kami sediakan Sila jamu selera Dengan bermacam hidangan Pilih yang mana suka Sila janganlah segan ( korus 1 ) Rasalah ketupat ini Dengan rendangnya sekali Sudilah rasa kuihku Pilihlah yang mana satu ( korus 2 ) Hai… di hari begini Kita menjamu selera Kita bermaaf-maafan Di suasana hari raya '"
      ]
     },
     "execution_count": 56,
     "metadata": {},
     "output_type": "execute_result"
    }
   ],
   "source": [
    "lagu4_2 = lagu4_1.replace('( ulang dari mula )', '')\n",
    "lagu4_2"
   ]
  },
  {
   "cell_type": "code",
   "execution_count": 57,
   "metadata": {},
   "outputs": [
    {
     "data": {
      "text/plain": [
       "' Hai selamat hari raya Kami semua ucapkan Menikmati hidangan Yang kami sediakan Sila jamu selera Dengan bermacam hidangan Pilih yang mana suka Sila janganlah segan  Rasalah ketupat ini Dengan rendangnya sekali Sudilah rasa kuihku Pilihlah yang mana satu ( korus 2 ) Hai… di hari begini Kita menjamu selera Kita bermaaf-maafan Di suasana hari raya '"
      ]
     },
     "execution_count": 57,
     "metadata": {},
     "output_type": "execute_result"
    }
   ],
   "source": [
    "lagu4_3 = lagu4_2.replace('( korus 1 )', '')\n",
    "lagu4_3"
   ]
  },
  {
   "cell_type": "code",
   "execution_count": 58,
   "metadata": {},
   "outputs": [
    {
     "data": {
      "text/plain": [
       "' Hai selamat hari raya Kami semua ucapkan Menikmati hidangan Yang kami sediakan Sila jamu selera Dengan bermacam hidangan Pilih yang mana suka Sila janganlah segan  Rasalah ketupat ini Dengan rendangnya sekali Sudilah rasa kuihku Pilihlah yang mana satu  Hai… di hari begini Kita menjamu selera Kita bermaaf-maafan Di suasana hari raya '"
      ]
     },
     "execution_count": 58,
     "metadata": {},
     "output_type": "execute_result"
    }
   ],
   "source": [
    "lagu4_4 = lagu4_3.replace('( korus 2 )', '')\n",
    "lagu4_4"
   ]
  },
  {
   "cell_type": "code",
   "execution_count": 60,
   "metadata": {},
   "outputs": [
    {
     "data": {
      "text/plain": [
       "' Hai selamat hari raya Kami semua ucapkan Menikmati hidangan Yang kami sediakan Sila jamu selera Dengan bermacam hidangan Pilih yang mana suka Sila janganlah segan  Rasalah ketupat ini Dengan rendangnya sekali Sudilah rasa kuihku Pilihlah yang mana satu  Hai di hari begini Kita menjamu selera Kita bermaaf-maafan Di suasana hari raya '"
      ]
     },
     "execution_count": 60,
     "metadata": {},
     "output_type": "execute_result"
    }
   ],
   "source": [
    "lagu4_5 = lagu4_4.replace('Hai…', 'Hai')\n",
    "lagu4 = lagu4_5\n",
    "lagu4"
   ]
  },
  {
   "cell_type": "code",
   "execution_count": 61,
   "metadata": {},
   "outputs": [
    {
     "data": {
      "text/html": [
       "<div>\n",
       "<style scoped>\n",
       "    .dataframe tbody tr th:only-of-type {\n",
       "        vertical-align: middle;\n",
       "    }\n",
       "\n",
       "    .dataframe tbody tr th {\n",
       "        vertical-align: top;\n",
       "    }\n",
       "\n",
       "    .dataframe thead th {\n",
       "        text-align: right;\n",
       "    }\n",
       "</style>\n",
       "<table border=\"1\" class=\"dataframe\">\n",
       "  <thead>\n",
       "    <tr style=\"text-align: right;\">\n",
       "      <th></th>\n",
       "      <th>Words</th>\n",
       "    </tr>\n",
       "  </thead>\n",
       "  <tbody>\n",
       "    <tr>\n",
       "      <th>0</th>\n",
       "      <td></td>\n",
       "    </tr>\n",
       "    <tr>\n",
       "      <th>1</th>\n",
       "      <td>aidil</td>\n",
       "    </tr>\n",
       "    <tr>\n",
       "      <th>2</th>\n",
       "      <td>fitri</td>\n",
       "    </tr>\n",
       "    <tr>\n",
       "      <th>3</th>\n",
       "      <td>hari</td>\n",
       "    </tr>\n",
       "    <tr>\n",
       "      <th>4</th>\n",
       "      <td>bahgia</td>\n",
       "    </tr>\n",
       "    <tr>\n",
       "      <th>5</th>\n",
       "      <td>hari</td>\n",
       "    </tr>\n",
       "    <tr>\n",
       "      <th>6</th>\n",
       "      <td>yang</td>\n",
       "    </tr>\n",
       "    <tr>\n",
       "      <th>7</th>\n",
       "      <td>mulia</td>\n",
       "    </tr>\n",
       "    <tr>\n",
       "      <th>8</th>\n",
       "      <td>mohon</td>\n",
       "    </tr>\n",
       "    <tr>\n",
       "      <th>9</th>\n",
       "      <td>maaf</td>\n",
       "    </tr>\n",
       "    <tr>\n",
       "      <th>10</th>\n",
       "      <td>bersama</td>\n",
       "    </tr>\n",
       "    <tr>\n",
       "      <th>11</th>\n",
       "      <td>dipinta</td>\n",
       "    </tr>\n",
       "    <tr>\n",
       "      <th>12</th>\n",
       "      <td>selamat</td>\n",
       "    </tr>\n",
       "    <tr>\n",
       "      <th>13</th>\n",
       "      <td>selamat</td>\n",
       "    </tr>\n",
       "    <tr>\n",
       "      <th>14</th>\n",
       "      <td>hari</td>\n",
       "    </tr>\n",
       "    <tr>\n",
       "      <th>15</th>\n",
       "      <td>raya</td>\n",
       "    </tr>\n",
       "    <tr>\n",
       "      <th>16</th>\n",
       "      <td>sembah</td>\n",
       "    </tr>\n",
       "    <tr>\n",
       "      <th>17</th>\n",
       "      <td>salam</td>\n",
       "    </tr>\n",
       "    <tr>\n",
       "      <th>18</th>\n",
       "      <td>ayah</td>\n",
       "    </tr>\n",
       "    <tr>\n",
       "      <th>19</th>\n",
       "      <td>dan</td>\n",
       "    </tr>\n",
       "    <tr>\n",
       "      <th>20</th>\n",
       "      <td>bonda</td>\n",
       "    </tr>\n",
       "    <tr>\n",
       "      <th>21</th>\n",
       "      <td>ampunkanlah</td>\n",
       "    </tr>\n",
       "    <tr>\n",
       "      <th>22</th>\n",
       "      <td>dosa</td>\n",
       "    </tr>\n",
       "    <tr>\n",
       "      <th>23</th>\n",
       "      <td>hilangkanlah</td>\n",
       "    </tr>\n",
       "    <tr>\n",
       "      <th>24</th>\n",
       "      <td>duka</td>\n",
       "    </tr>\n",
       "    <tr>\n",
       "      <th>25</th>\n",
       "      <td>dan</td>\n",
       "    </tr>\n",
       "    <tr>\n",
       "      <th>26</th>\n",
       "      <td>nestapa</td>\n",
       "    </tr>\n",
       "    <tr>\n",
       "      <th>27</th>\n",
       "      <td>selamat</td>\n",
       "    </tr>\n",
       "    <tr>\n",
       "      <th>28</th>\n",
       "      <td>selamat</td>\n",
       "    </tr>\n",
       "    <tr>\n",
       "      <th>29</th>\n",
       "      <td>hari</td>\n",
       "    </tr>\n",
       "    <tr>\n",
       "      <th>30</th>\n",
       "      <td>raya</td>\n",
       "    </tr>\n",
       "    <tr>\n",
       "      <th>31</th>\n",
       "      <td></td>\n",
       "    </tr>\n",
       "    <tr>\n",
       "      <th>32</th>\n",
       "      <td>semoga</td>\n",
       "    </tr>\n",
       "    <tr>\n",
       "      <th>33</th>\n",
       "      <td>kita</td>\n",
       "    </tr>\n",
       "    <tr>\n",
       "      <th>34</th>\n",
       "      <td>berjumpa</td>\n",
       "    </tr>\n",
       "    <tr>\n",
       "      <th>35</th>\n",
       "      <td>lagi</td>\n",
       "    </tr>\n",
       "    <tr>\n",
       "      <th>36</th>\n",
       "      <td>di</td>\n",
       "    </tr>\n",
       "    <tr>\n",
       "      <th>37</th>\n",
       "      <td>hari</td>\n",
       "    </tr>\n",
       "    <tr>\n",
       "      <th>38</th>\n",
       "      <td>bahagia</td>\n",
       "    </tr>\n",
       "    <tr>\n",
       "      <th>39</th>\n",
       "      <td>ini</td>\n",
       "    </tr>\n",
       "    <tr>\n",
       "      <th>40</th>\n",
       "      <td>mari</td>\n",
       "    </tr>\n",
       "    <tr>\n",
       "      <th>41</th>\n",
       "      <td>teman</td>\n",
       "    </tr>\n",
       "    <tr>\n",
       "      <th>42</th>\n",
       "      <td>mari</td>\n",
       "    </tr>\n",
       "    <tr>\n",
       "      <th>43</th>\n",
       "      <td>saudara</td>\n",
       "    </tr>\n",
       "    <tr>\n",
       "      <th>44</th>\n",
       "      <td>kita</td>\n",
       "    </tr>\n",
       "    <tr>\n",
       "      <th>45</th>\n",
       "      <td>bergembira</td>\n",
       "    </tr>\n",
       "    <tr>\n",
       "      <th>46</th>\n",
       "      <td>lupakan</td>\n",
       "    </tr>\n",
       "    <tr>\n",
       "      <th>47</th>\n",
       "      <td>hatimu</td>\n",
       "    </tr>\n",
       "    <tr>\n",
       "      <th>48</th>\n",
       "      <td>yang</td>\n",
       "    </tr>\n",
       "    <tr>\n",
       "      <th>49</th>\n",
       "      <td>duka</td>\n",
       "    </tr>\n",
       "    <tr>\n",
       "      <th>50</th>\n",
       "      <td>selamat</td>\n",
       "    </tr>\n",
       "    <tr>\n",
       "      <th>51</th>\n",
       "      <td>selamat</td>\n",
       "    </tr>\n",
       "    <tr>\n",
       "      <th>52</th>\n",
       "      <td>hari</td>\n",
       "    </tr>\n",
       "    <tr>\n",
       "      <th>53</th>\n",
       "      <td>raya</td>\n",
       "    </tr>\n",
       "  </tbody>\n",
       "</table>\n",
       "</div>"
      ],
      "text/plain": [
       "           Words\n",
       "0               \n",
       "1          aidil\n",
       "2          fitri\n",
       "3           hari\n",
       "4         bahgia\n",
       "5           hari\n",
       "6           yang\n",
       "7          mulia\n",
       "8          mohon\n",
       "9           maaf\n",
       "10       bersama\n",
       "11       dipinta\n",
       "12       selamat\n",
       "13       selamat\n",
       "14          hari\n",
       "15          raya\n",
       "16        sembah\n",
       "17         salam\n",
       "18          ayah\n",
       "19           dan\n",
       "20         bonda\n",
       "21   ampunkanlah\n",
       "22          dosa\n",
       "23  hilangkanlah\n",
       "24          duka\n",
       "25           dan\n",
       "26       nestapa\n",
       "27       selamat\n",
       "28       selamat\n",
       "29          hari\n",
       "30          raya\n",
       "31              \n",
       "32        semoga\n",
       "33          kita\n",
       "34      berjumpa\n",
       "35          lagi\n",
       "36            di\n",
       "37          hari\n",
       "38       bahagia\n",
       "39           ini\n",
       "40          mari\n",
       "41         teman\n",
       "42          mari\n",
       "43       saudara\n",
       "44          kita\n",
       "45    bergembira\n",
       "46       lupakan\n",
       "47        hatimu\n",
       "48          yang\n",
       "49          duka\n",
       "50       selamat\n",
       "51       selamat\n",
       "52          hari\n",
       "53          raya"
      ]
     },
     "execution_count": 61,
     "metadata": {},
     "output_type": "execute_result"
    }
   ],
   "source": [
    "lagu_4 = Convert(lagu4.lower())\n",
    "df4 = pd.DataFrame((lagu_3),columns =['Words'])\n",
    "df4"
   ]
  },
  {
   "cell_type": "code",
   "execution_count": 62,
   "metadata": {},
   "outputs": [
    {
     "data": {
      "text/plain": [
       "' HA:\\nIndahnya sungguh di hari raya\\nRamainya orang bersuka ria\\n( 2 X ) Adikku manis cantik bergaya\\nBolehkah abang ikut bersama\\n( 2 X ) UR:\\nUsahlah abang membuang waktu\\nMari menuju ke rumah bonda\\n( 2 X ) Sanak saudara sedang menunggu\\nDi hari mulia bertemu mesra\\n( 2 X ) HA:\\nKatamu itu abang mengerti\\nKusanjung budi puteri ibunda\\n( 2 X ) Pada yang tua kita hormati\\nBarulah hidup saling bahagia\\n( 2 X ) UR:\\nMiskin dan kaya sama sahaja\\nHulurkan tangan berjabat mesra\\n( 2 X ) HA: & UR:\\nSaling bermaaf kita bersama\\nLupakan saja sengketa lama\\n( 2 X )'"
      ]
     },
     "execution_count": 62,
     "metadata": {},
     "output_type": "execute_result"
    }
   ],
   "source": [
    "lagu5 = scrape_lyrics('https://iliriklagu.net/lirik-lagu-seloka-hari-raya-hail-amir-uji-rashid/')\n",
    "lagu5"
   ]
  },
  {
   "cell_type": "code",
   "execution_count": 63,
   "metadata": {},
   "outputs": [
    {
     "data": {
      "text/plain": [
       "' HA: Indahnya sungguh di hari raya Ramainya orang bersuka ria ( 2 X ) Adikku manis cantik bergaya Bolehkah abang ikut bersama ( 2 X ) UR: Usahlah abang membuang waktu Mari menuju ke rumah bonda ( 2 X ) Sanak saudara sedang menunggu Di hari mulia bertemu mesra ( 2 X ) HA: Katamu itu abang mengerti Kusanjung budi puteri ibunda ( 2 X ) Pada yang tua kita hormati Barulah hidup saling bahagia ( 2 X ) UR: Miskin dan kaya sama sahaja Hulurkan tangan berjabat mesra ( 2 X ) HA: & UR: Saling bermaaf kita bersama Lupakan saja sengketa lama ( 2 X )'"
      ]
     },
     "execution_count": 63,
     "metadata": {},
     "output_type": "execute_result"
    }
   ],
   "source": [
    "lagu5_1 = lagu5.replace('\\n', ' ')\n",
    "lagu5_1"
   ]
  },
  {
   "cell_type": "code",
   "execution_count": 64,
   "metadata": {},
   "outputs": [
    {
     "data": {
      "text/plain": [
       "' Indahnya sungguh di hari raya Ramainya orang bersuka ria ( 2 X ) Adikku manis cantik bergaya Bolehkah abang ikut bersama ( 2 X ) UR: Usahlah abang membuang waktu Mari menuju ke rumah bonda ( 2 X ) Sanak saudara sedang menunggu Di hari mulia bertemu mesra ( 2 X ) Katamu itu abang mengerti Kusanjung budi puteri ibunda ( 2 X ) Pada yang tua kita hormati Barulah hidup saling bahagia ( 2 X ) UR: Miskin dan kaya sama sahaja Hulurkan tangan berjabat mesra ( 2 X ) & UR: Saling bermaaf kita bersama Lupakan saja sengketa lama ( 2 X )'"
      ]
     },
     "execution_count": 64,
     "metadata": {},
     "output_type": "execute_result"
    }
   ],
   "source": [
    "lagu5_2 = lagu5_1.replace('HA: ', '')\n",
    "lagu5_2"
   ]
  },
  {
   "cell_type": "code",
   "execution_count": 65,
   "metadata": {},
   "outputs": [
    {
     "data": {
      "text/plain": [
       "' Indahnya sungguh di hari raya Ramainya orang bersuka ria ( 2 X ) Adikku manis cantik bergaya Bolehkah abang ikut bersama ( 2 X ) Usahlah abang membuang waktu Mari menuju ke rumah bonda ( 2 X ) Sanak saudara sedang menunggu Di hari mulia bertemu mesra ( 2 X ) Katamu itu abang mengerti Kusanjung budi puteri ibunda ( 2 X ) Pada yang tua kita hormati Barulah hidup saling bahagia ( 2 X ) Miskin dan kaya sama sahaja Hulurkan tangan berjabat mesra ( 2 X ) & Saling bermaaf kita bersama Lupakan saja sengketa lama ( 2 X )'"
      ]
     },
     "execution_count": 65,
     "metadata": {},
     "output_type": "execute_result"
    }
   ],
   "source": [
    "lagu5_3 = lagu5_2.replace('UR: ', '')\n",
    "lagu5_3"
   ]
  },
  {
   "cell_type": "code",
   "execution_count": 67,
   "metadata": {},
   "outputs": [
    {
     "data": {
      "text/plain": [
       "' Indahnya sungguh di hari raya Ramainya orang bersuka ria  Adikku manis cantik bergaya Bolehkah abang ikut bersama  Usahlah abang membuang waktu Mari menuju ke rumah bonda  Sanak saudara sedang menunggu Di hari mulia bertemu mesra  Katamu itu abang mengerti Kusanjung budi puteri ibunda  Pada yang tua kita hormati Barulah hidup saling bahagia  Miskin dan kaya sama sahaja Hulurkan tangan berjabat mesra  & Saling bermaaf kita bersama Lupakan saja sengketa lama '"
      ]
     },
     "execution_count": 67,
     "metadata": {},
     "output_type": "execute_result"
    }
   ],
   "source": [
    "lagu5_4 = lagu5_3.replace('( 2 X )', '')\n",
    "lagu5_4"
   ]
  },
  {
   "cell_type": "code",
   "execution_count": 69,
   "metadata": {},
   "outputs": [
    {
     "data": {
      "text/plain": [
       "' Indahnya sungguh di hari raya Ramainya orang bersuka ria  Adikku manis cantik bergaya Bolehkah abang ikut bersama  Usahlah abang membuang waktu Mari menuju ke rumah bonda  Sanak saudara sedang menunggu Di hari mulia bertemu mesra  Katamu itu abang mengerti Kusanjung budi puteri ibunda  Pada yang tua kita hormati Barulah hidup saling bahagia  Miskin dan kaya sama sahaja Hulurkan tangan berjabat mesra  Saling bermaaf kita bersama Lupakan saja sengketa lama '"
      ]
     },
     "execution_count": 69,
     "metadata": {},
     "output_type": "execute_result"
    }
   ],
   "source": [
    "lagu5_5 = lagu5_4.replace('& ', '')\n",
    "lagu5 = lagu5_5\n",
    "lagu5"
   ]
  },
  {
   "cell_type": "code",
   "execution_count": 70,
   "metadata": {},
   "outputs": [
    {
     "data": {
      "text/html": [
       "<div>\n",
       "<style scoped>\n",
       "    .dataframe tbody tr th:only-of-type {\n",
       "        vertical-align: middle;\n",
       "    }\n",
       "\n",
       "    .dataframe tbody tr th {\n",
       "        vertical-align: top;\n",
       "    }\n",
       "\n",
       "    .dataframe thead th {\n",
       "        text-align: right;\n",
       "    }\n",
       "</style>\n",
       "<table border=\"1\" class=\"dataframe\">\n",
       "  <thead>\n",
       "    <tr style=\"text-align: right;\">\n",
       "      <th></th>\n",
       "      <th>Words</th>\n",
       "    </tr>\n",
       "  </thead>\n",
       "  <tbody>\n",
       "    <tr>\n",
       "      <th>0</th>\n",
       "      <td></td>\n",
       "    </tr>\n",
       "    <tr>\n",
       "      <th>1</th>\n",
       "      <td>indahnya</td>\n",
       "    </tr>\n",
       "    <tr>\n",
       "      <th>2</th>\n",
       "      <td>sungguh</td>\n",
       "    </tr>\n",
       "    <tr>\n",
       "      <th>3</th>\n",
       "      <td>di</td>\n",
       "    </tr>\n",
       "    <tr>\n",
       "      <th>4</th>\n",
       "      <td>hari</td>\n",
       "    </tr>\n",
       "    <tr>\n",
       "      <th>...</th>\n",
       "      <td>...</td>\n",
       "    </tr>\n",
       "    <tr>\n",
       "      <th>73</th>\n",
       "      <td>lupakan</td>\n",
       "    </tr>\n",
       "    <tr>\n",
       "      <th>74</th>\n",
       "      <td>saja</td>\n",
       "    </tr>\n",
       "    <tr>\n",
       "      <th>75</th>\n",
       "      <td>sengketa</td>\n",
       "    </tr>\n",
       "    <tr>\n",
       "      <th>76</th>\n",
       "      <td>lama</td>\n",
       "    </tr>\n",
       "    <tr>\n",
       "      <th>77</th>\n",
       "      <td></td>\n",
       "    </tr>\n",
       "  </tbody>\n",
       "</table>\n",
       "<p>78 rows × 1 columns</p>\n",
       "</div>"
      ],
      "text/plain": [
       "       Words\n",
       "0           \n",
       "1   indahnya\n",
       "2    sungguh\n",
       "3         di\n",
       "4       hari\n",
       "..       ...\n",
       "73   lupakan\n",
       "74      saja\n",
       "75  sengketa\n",
       "76      lama\n",
       "77          \n",
       "\n",
       "[78 rows x 1 columns]"
      ]
     },
     "execution_count": 70,
     "metadata": {},
     "output_type": "execute_result"
    }
   ],
   "source": [
    "lagu_5 = Convert(lagu5.lower())\n",
    "df5 = pd.DataFrame((lagu_5),columns =['Words'])\n",
    "df5"
   ]
  },
  {
   "cell_type": "code",
   "execution_count": 71,
   "metadata": {},
   "outputs": [
    {
     "data": {
      "text/plain": [
       "' Dalam dingin subuh hatiku terusik\\nKenang nasib diri di rantauan\\nBergema takbir raya menitis air mata\\nTerbayang suasana permai desa Rindu hati ini inginku kembali\\nPada ayah bonda dan saudara\\nTetapi aku harus mencari rezeki\\nMembela nasib kita bersama ( korus )\\nHanya ku sampaikan doa dan kiriman tulus ikhlas\\nDari jauh kupohonkan ampun maaf\\nJangan sedih pagi ini tak dapat kita bersama\\nMeraikan aidil fitri yang mulia Restu ayah bonda kuharap selalu\\nHingga aku pulang kepadamu ( ulang korus ) Restu ayah bonda kuharap selalu\\nDemi anakmu yang kini jauh'"
      ]
     },
     "execution_count": 71,
     "metadata": {},
     "output_type": "execute_result"
    }
   ],
   "source": [
    "lagu6 = scrape_lyrics('https://iliriklagu.net/lirik-lagu-dari-jauh-kupohon-maaf-sudirman/')\n",
    "lagu6"
   ]
  },
  {
   "cell_type": "code",
   "execution_count": 72,
   "metadata": {},
   "outputs": [
    {
     "data": {
      "text/plain": [
       "' Dalam dingin subuh hatiku terusik Kenang nasib diri di rantauan Bergema takbir raya menitis air mata Terbayang suasana permai desa Rindu hati ini inginku kembali Pada ayah bonda dan saudara Tetapi aku harus mencari rezeki Membela nasib kita bersama ( korus ) Hanya ku sampaikan doa dan kiriman tulus ikhlas Dari jauh kupohonkan ampun maaf Jangan sedih pagi ini tak dapat kita bersama Meraikan aidil fitri yang mulia Restu ayah bonda kuharap selalu Hingga aku pulang kepadamu ( ulang korus ) Restu ayah bonda kuharap selalu Demi anakmu yang kini jauh'"
      ]
     },
     "execution_count": 72,
     "metadata": {},
     "output_type": "execute_result"
    }
   ],
   "source": [
    "lagu6_1 = lagu6.replace('\\n', ' ')\n",
    "lagu6_1"
   ]
  },
  {
   "cell_type": "code",
   "execution_count": 73,
   "metadata": {},
   "outputs": [
    {
     "data": {
      "text/plain": [
       "' Dalam dingin subuh hatiku terusik Kenang nasib diri di rantauan Bergema takbir raya menitis air mata Terbayang suasana permai desa Rindu hati ini inginku kembali Pada ayah bonda dan saudara Tetapi aku harus mencari rezeki Membela nasib kita bersama Hanya ku sampaikan doa dan kiriman tulus ikhlas Dari jauh kupohonkan ampun maaf Jangan sedih pagi ini tak dapat kita bersama Meraikan aidil fitri yang mulia Restu ayah bonda kuharap selalu Hingga aku pulang kepadamu ( ulang korus ) Restu ayah bonda kuharap selalu Demi anakmu yang kini jauh'"
      ]
     },
     "execution_count": 73,
     "metadata": {},
     "output_type": "execute_result"
    }
   ],
   "source": [
    "lagu6_2 = lagu6_1.replace('( korus ) ', '')\n",
    "lagu6_2"
   ]
  },
  {
   "cell_type": "code",
   "execution_count": 75,
   "metadata": {},
   "outputs": [
    {
     "data": {
      "text/plain": [
       "' Dalam dingin subuh hatiku terusik Kenang nasib diri di rantauan Bergema takbir raya menitis air mata Terbayang suasana permai desa Rindu hati ini inginku kembali Pada ayah bonda dan saudara Tetapi aku harus mencari rezeki Membela nasib kita bersama Hanya ku sampaikan doa dan kiriman tulus ikhlas Dari jauh kupohonkan ampun maaf Jangan sedih pagi ini tak dapat kita bersama Meraikan aidil fitri yang mulia Restu ayah bonda kuharap selalu Hingga aku pulang kepadamu Restu ayah bonda kuharap selalu Demi anakmu yang kini jauh'"
      ]
     },
     "execution_count": 75,
     "metadata": {},
     "output_type": "execute_result"
    }
   ],
   "source": [
    "lagu6_3 = lagu6_2.replace('( ulang korus ) ', '')\n",
    "lagu6 = lagu6_3\n",
    "lagu6"
   ]
  },
  {
   "cell_type": "code",
   "execution_count": 76,
   "metadata": {},
   "outputs": [
    {
     "data": {
      "text/html": [
       "<div>\n",
       "<style scoped>\n",
       "    .dataframe tbody tr th:only-of-type {\n",
       "        vertical-align: middle;\n",
       "    }\n",
       "\n",
       "    .dataframe tbody tr th {\n",
       "        vertical-align: top;\n",
       "    }\n",
       "\n",
       "    .dataframe thead th {\n",
       "        text-align: right;\n",
       "    }\n",
       "</style>\n",
       "<table border=\"1\" class=\"dataframe\">\n",
       "  <thead>\n",
       "    <tr style=\"text-align: right;\">\n",
       "      <th></th>\n",
       "      <th>Words</th>\n",
       "    </tr>\n",
       "  </thead>\n",
       "  <tbody>\n",
       "    <tr>\n",
       "      <th>0</th>\n",
       "      <td></td>\n",
       "    </tr>\n",
       "    <tr>\n",
       "      <th>1</th>\n",
       "      <td>indahnya</td>\n",
       "    </tr>\n",
       "    <tr>\n",
       "      <th>2</th>\n",
       "      <td>sungguh</td>\n",
       "    </tr>\n",
       "    <tr>\n",
       "      <th>3</th>\n",
       "      <td>di</td>\n",
       "    </tr>\n",
       "    <tr>\n",
       "      <th>4</th>\n",
       "      <td>hari</td>\n",
       "    </tr>\n",
       "    <tr>\n",
       "      <th>...</th>\n",
       "      <td>...</td>\n",
       "    </tr>\n",
       "    <tr>\n",
       "      <th>73</th>\n",
       "      <td>lupakan</td>\n",
       "    </tr>\n",
       "    <tr>\n",
       "      <th>74</th>\n",
       "      <td>saja</td>\n",
       "    </tr>\n",
       "    <tr>\n",
       "      <th>75</th>\n",
       "      <td>sengketa</td>\n",
       "    </tr>\n",
       "    <tr>\n",
       "      <th>76</th>\n",
       "      <td>lama</td>\n",
       "    </tr>\n",
       "    <tr>\n",
       "      <th>77</th>\n",
       "      <td></td>\n",
       "    </tr>\n",
       "  </tbody>\n",
       "</table>\n",
       "<p>78 rows × 1 columns</p>\n",
       "</div>"
      ],
      "text/plain": [
       "       Words\n",
       "0           \n",
       "1   indahnya\n",
       "2    sungguh\n",
       "3         di\n",
       "4       hari\n",
       "..       ...\n",
       "73   lupakan\n",
       "74      saja\n",
       "75  sengketa\n",
       "76      lama\n",
       "77          \n",
       "\n",
       "[78 rows x 1 columns]"
      ]
     },
     "execution_count": 76,
     "metadata": {},
     "output_type": "execute_result"
    }
   ],
   "source": [
    "lagu_6 = Convert(lagu6.lower())\n",
    "df6 = pd.DataFrame((lagu_5),columns =['Words'])\n",
    "df6"
   ]
  },
  {
   "cell_type": "code",
   "execution_count": 77,
   "metadata": {},
   "outputs": [
    {
     "data": {
      "text/plain": [
       "' Bergema suara takbir di angkasa\\nSelembut bayu meresap ke dalam jiwa\\nBetapa hatimu terharu\\nMenyambut anakmu kembali Terbayang senyuman di wajah nan sepi\\nPulangnya anakmu di pagi yang murni\\nKasihmu seharum kasturi\\nMelambai anakmu kembali ( korus )\\nDalam dakapan keheningan maya\\nPertemuan yang menyentuh di jiwa\\nSekian lamanya terpisah\\nHarapan kini menjadi nyata Kiranya perpisahan terjadi lagi\\nAnakmu pergi mencurahkan bakti\\nDoamu teriring selalu\\nSemoga bertemu kembali ( ulang dari mula ) Pulanglah di hari raya\\nBegitulah harapan ayahanda'"
      ]
     },
     "execution_count": 77,
     "metadata": {},
     "output_type": "execute_result"
    }
   ],
   "source": [
    "lagu7 = scrape_lyrics('https://iliriklagu.net/lirik-lagu-kepulangan-yang-dinanti-aman-shah/')\n",
    "lagu7"
   ]
  },
  {
   "cell_type": "code",
   "execution_count": 78,
   "metadata": {},
   "outputs": [
    {
     "data": {
      "text/plain": [
       "' Bergema suara takbir di angkasa Selembut bayu meresap ke dalam jiwa Betapa hatimu terharu Menyambut anakmu kembali Terbayang senyuman di wajah nan sepi Pulangnya anakmu di pagi yang murni Kasihmu seharum kasturi Melambai anakmu kembali ( korus ) Dalam dakapan keheningan maya Pertemuan yang menyentuh di jiwa Sekian lamanya terpisah Harapan kini menjadi nyata Kiranya perpisahan terjadi lagi Anakmu pergi mencurahkan bakti Doamu teriring selalu Semoga bertemu kembali ( ulang dari mula ) Pulanglah di hari raya Begitulah harapan ayahanda'"
      ]
     },
     "execution_count": 78,
     "metadata": {},
     "output_type": "execute_result"
    }
   ],
   "source": [
    "lagu7_1 = lagu7.replace('\\n', ' ')\n",
    "lagu7_1"
   ]
  },
  {
   "cell_type": "code",
   "execution_count": 79,
   "metadata": {},
   "outputs": [
    {
     "data": {
      "text/plain": [
       "' Bergema suara takbir di angkasa Selembut bayu meresap ke dalam jiwa Betapa hatimu terharu Menyambut anakmu kembali Terbayang senyuman di wajah nan sepi Pulangnya anakmu di pagi yang murni Kasihmu seharum kasturi Melambai anakmu kembali Dalam dakapan keheningan maya Pertemuan yang menyentuh di jiwa Sekian lamanya terpisah Harapan kini menjadi nyata Kiranya perpisahan terjadi lagi Anakmu pergi mencurahkan bakti Doamu teriring selalu Semoga bertemu kembali ( ulang dari mula ) Pulanglah di hari raya Begitulah harapan ayahanda'"
      ]
     },
     "execution_count": 79,
     "metadata": {},
     "output_type": "execute_result"
    }
   ],
   "source": [
    "lagu7_2 = lagu7_1.replace('( korus ) ', '')\n",
    "lagu7_2"
   ]
  },
  {
   "cell_type": "code",
   "execution_count": 81,
   "metadata": {},
   "outputs": [
    {
     "data": {
      "text/plain": [
       "' Bergema suara takbir di angkasa Selembut bayu meresap ke dalam jiwa Betapa hatimu terharu Menyambut anakmu kembali Terbayang senyuman di wajah nan sepi Pulangnya anakmu di pagi yang murni Kasihmu seharum kasturi Melambai anakmu kembali Dalam dakapan keheningan maya Pertemuan yang menyentuh di jiwa Sekian lamanya terpisah Harapan kini menjadi nyata Kiranya perpisahan terjadi lagi Anakmu pergi mencurahkan bakti Doamu teriring selalu Semoga bertemu kembali Pulanglah di hari raya Begitulah harapan ayahanda'"
      ]
     },
     "execution_count": 81,
     "metadata": {},
     "output_type": "execute_result"
    }
   ],
   "source": [
    "lagu7_3 = lagu7_2.replace('( ulang dari mula ) ', '')\n",
    "lagu7 = lagu7_3\n",
    "lagu7"
   ]
  },
  {
   "cell_type": "code",
   "execution_count": 89,
   "metadata": {},
   "outputs": [
    {
     "data": {
      "text/html": [
       "<div>\n",
       "<style scoped>\n",
       "    .dataframe tbody tr th:only-of-type {\n",
       "        vertical-align: middle;\n",
       "    }\n",
       "\n",
       "    .dataframe tbody tr th {\n",
       "        vertical-align: top;\n",
       "    }\n",
       "\n",
       "    .dataframe thead th {\n",
       "        text-align: right;\n",
       "    }\n",
       "</style>\n",
       "<table border=\"1\" class=\"dataframe\">\n",
       "  <thead>\n",
       "    <tr style=\"text-align: right;\">\n",
       "      <th></th>\n",
       "      <th>Words</th>\n",
       "    </tr>\n",
       "  </thead>\n",
       "  <tbody>\n",
       "    <tr>\n",
       "      <th>0</th>\n",
       "      <td></td>\n",
       "    </tr>\n",
       "    <tr>\n",
       "      <th>1</th>\n",
       "      <td>bergema</td>\n",
       "    </tr>\n",
       "    <tr>\n",
       "      <th>2</th>\n",
       "      <td>suara</td>\n",
       "    </tr>\n",
       "    <tr>\n",
       "      <th>3</th>\n",
       "      <td>takbir</td>\n",
       "    </tr>\n",
       "    <tr>\n",
       "      <th>4</th>\n",
       "      <td>di</td>\n",
       "    </tr>\n",
       "    <tr>\n",
       "      <th>...</th>\n",
       "      <td>...</td>\n",
       "    </tr>\n",
       "    <tr>\n",
       "      <th>68</th>\n",
       "      <td>hari</td>\n",
       "    </tr>\n",
       "    <tr>\n",
       "      <th>69</th>\n",
       "      <td>raya</td>\n",
       "    </tr>\n",
       "    <tr>\n",
       "      <th>70</th>\n",
       "      <td>begitulah</td>\n",
       "    </tr>\n",
       "    <tr>\n",
       "      <th>71</th>\n",
       "      <td>harapan</td>\n",
       "    </tr>\n",
       "    <tr>\n",
       "      <th>72</th>\n",
       "      <td>ayahanda</td>\n",
       "    </tr>\n",
       "  </tbody>\n",
       "</table>\n",
       "<p>73 rows × 1 columns</p>\n",
       "</div>"
      ],
      "text/plain": [
       "        Words\n",
       "0            \n",
       "1     bergema\n",
       "2       suara\n",
       "3      takbir\n",
       "4          di\n",
       "..        ...\n",
       "68       hari\n",
       "69       raya\n",
       "70  begitulah\n",
       "71    harapan\n",
       "72   ayahanda\n",
       "\n",
       "[73 rows x 1 columns]"
      ]
     },
     "execution_count": 89,
     "metadata": {},
     "output_type": "execute_result"
    }
   ],
   "source": [
    "lagu_7 = Convert(lagu7.lower())\n",
    "df7 = pd.DataFrame((lagu_7),columns =['Words'])\n",
    "df7"
   ]
  },
  {
   "cell_type": "code",
   "execution_count": 83,
   "metadata": {},
   "outputs": [
    {
     "data": {
      "text/plain": [
       "' Bila tiba hari raya\\nSemua insan bergembira\\nTetapi bagiku hanya kesedihan\\nYang menyelubungi hidup Ayah dan juga ibuku\\nTelah pergi selamanya\\nTerbiarlah aku ibarat musafir\\nYang haus di padang pasir ( korus )\\nSiapakah yang sudi\\nMenghulurkan simpati\\nKepada nasibku ini\\nAgar dapat kurasa\\nNikmat di hari raya\\nSeperti insan yang lain Ku meminta dan berdoa\\nKepada Yang Maha Esa\\nTabahkan hati berilah pedoman\\nCahaya Di Aidil Fitri ( ulang dari korus )'"
      ]
     },
     "execution_count": 83,
     "metadata": {},
     "output_type": "execute_result"
    }
   ],
   "source": [
    "lagu8 = scrape_lyrics('https://iliriklagu.net/lirik-lagu-cahaya-aidil-fitri-black-dog-bone/')\n",
    "lagu8"
   ]
  },
  {
   "cell_type": "code",
   "execution_count": 84,
   "metadata": {},
   "outputs": [
    {
     "data": {
      "text/plain": [
       "' Bila tiba hari raya Semua insan bergembira Tetapi bagiku hanya kesedihan Yang menyelubungi hidup Ayah dan juga ibuku Telah pergi selamanya Terbiarlah aku ibarat musafir Yang haus di padang pasir ( korus ) Siapakah yang sudi Menghulurkan simpati Kepada nasibku ini Agar dapat kurasa Nikmat di hari raya Seperti insan yang lain Ku meminta dan berdoa Kepada Yang Maha Esa Tabahkan hati berilah pedoman Cahaya Di Aidil Fitri ( ulang dari korus )'"
      ]
     },
     "execution_count": 84,
     "metadata": {},
     "output_type": "execute_result"
    }
   ],
   "source": [
    "lagu8_1 = lagu8.replace('\\n', ' ')\n",
    "lagu8_1"
   ]
  },
  {
   "cell_type": "code",
   "execution_count": 85,
   "metadata": {},
   "outputs": [
    {
     "data": {
      "text/plain": [
       "' Bila tiba hari raya Semua insan bergembira Tetapi bagiku hanya kesedihan Yang menyelubungi hidup Ayah dan juga ibuku Telah pergi selamanya Terbiarlah aku ibarat musafir Yang haus di padang pasir Siapakah yang sudi Menghulurkan simpati Kepada nasibku ini Agar dapat kurasa Nikmat di hari raya Seperti insan yang lain Ku meminta dan berdoa Kepada Yang Maha Esa Tabahkan hati berilah pedoman Cahaya Di Aidil Fitri ( ulang dari korus )'"
      ]
     },
     "execution_count": 85,
     "metadata": {},
     "output_type": "execute_result"
    }
   ],
   "source": [
    "lagu8_2 = lagu8_1.replace('( korus ) ', '')\n",
    "lagu8_2"
   ]
  },
  {
   "cell_type": "code",
   "execution_count": 87,
   "metadata": {},
   "outputs": [
    {
     "data": {
      "text/plain": [
       "' Bila tiba hari raya Semua insan bergembira Tetapi bagiku hanya kesedihan Yang menyelubungi hidup Ayah dan juga ibuku Telah pergi selamanya Terbiarlah aku ibarat musafir Yang haus di padang pasir Siapakah yang sudi Menghulurkan simpati Kepada nasibku ini Agar dapat kurasa Nikmat di hari raya Seperti insan yang lain Ku meminta dan berdoa Kepada Yang Maha Esa Tabahkan hati berilah pedoman Cahaya Di Aidil Fitri '"
      ]
     },
     "execution_count": 87,
     "metadata": {},
     "output_type": "execute_result"
    }
   ],
   "source": [
    "lagu8_3 = lagu8_2.replace('( ulang dari korus )', '')\n",
    "lagu8 = lagu8_3\n",
    "lagu8"
   ]
  },
  {
   "cell_type": "code",
   "execution_count": 88,
   "metadata": {},
   "outputs": [
    {
     "data": {
      "text/html": [
       "<div>\n",
       "<style scoped>\n",
       "    .dataframe tbody tr th:only-of-type {\n",
       "        vertical-align: middle;\n",
       "    }\n",
       "\n",
       "    .dataframe tbody tr th {\n",
       "        vertical-align: top;\n",
       "    }\n",
       "\n",
       "    .dataframe thead th {\n",
       "        text-align: right;\n",
       "    }\n",
       "</style>\n",
       "<table border=\"1\" class=\"dataframe\">\n",
       "  <thead>\n",
       "    <tr style=\"text-align: right;\">\n",
       "      <th></th>\n",
       "      <th>Words</th>\n",
       "    </tr>\n",
       "  </thead>\n",
       "  <tbody>\n",
       "    <tr>\n",
       "      <th>0</th>\n",
       "      <td></td>\n",
       "    </tr>\n",
       "    <tr>\n",
       "      <th>1</th>\n",
       "      <td>bila</td>\n",
       "    </tr>\n",
       "    <tr>\n",
       "      <th>2</th>\n",
       "      <td>tiba</td>\n",
       "    </tr>\n",
       "    <tr>\n",
       "      <th>3</th>\n",
       "      <td>hari</td>\n",
       "    </tr>\n",
       "    <tr>\n",
       "      <th>4</th>\n",
       "      <td>raya</td>\n",
       "    </tr>\n",
       "    <tr>\n",
       "      <th>...</th>\n",
       "      <td>...</td>\n",
       "    </tr>\n",
       "    <tr>\n",
       "      <th>62</th>\n",
       "      <td>cahaya</td>\n",
       "    </tr>\n",
       "    <tr>\n",
       "      <th>63</th>\n",
       "      <td>di</td>\n",
       "    </tr>\n",
       "    <tr>\n",
       "      <th>64</th>\n",
       "      <td>aidil</td>\n",
       "    </tr>\n",
       "    <tr>\n",
       "      <th>65</th>\n",
       "      <td>fitri</td>\n",
       "    </tr>\n",
       "    <tr>\n",
       "      <th>66</th>\n",
       "      <td></td>\n",
       "    </tr>\n",
       "  </tbody>\n",
       "</table>\n",
       "<p>67 rows × 1 columns</p>\n",
       "</div>"
      ],
      "text/plain": [
       "     Words\n",
       "0         \n",
       "1     bila\n",
       "2     tiba\n",
       "3     hari\n",
       "4     raya\n",
       "..     ...\n",
       "62  cahaya\n",
       "63      di\n",
       "64   aidil\n",
       "65   fitri\n",
       "66        \n",
       "\n",
       "[67 rows x 1 columns]"
      ]
     },
     "execution_count": 88,
     "metadata": {},
     "output_type": "execute_result"
    }
   ],
   "source": [
    "lagu_8 = Convert(lagu8.lower())\n",
    "df8 = pd.DataFrame((lagu_8),columns =['Words'])\n",
    "df8"
   ]
  },
  {
   "cell_type": "code",
   "execution_count": 90,
   "metadata": {},
   "outputs": [
    {
     "data": {
      "text/plain": [
       "' Anuar Zain:\\nBerlalulah sudah ramadan sebulan berpuasa\\nTiba syawal kita rayakan dengan rasa gembira\\nAnak muda di rantauan semuanya pulang ke desa\\nIbu dan ayah keriangan bersyukur tak terkira Elina:\\nBertukar senyuman dan salam ziarah-menziarahi\\nTutur dan kata yang sopan saling memaafi\\nSuasana hari raya walau di mana pun jua\\nMemberikan ketenangan dan mententeramkan jiwa Anuar Zain:\\nKuih dan muih beranika macam\\nMakanlah jangan hanya di pandang Elina:\\nKetupat rendang sila nikmati kawan\\nPenat memasak malam ke pagi Anuar Zain:\\nWajik dan dodol jangan lupakan\\nPeninggalan nenek zaman berzaman Elina:\\nAsyik bersembang pakcik dan makcik\\nHai duit raya lupa nak di beri Anuar Zain & Elina:\\nBerlalulah sudah ramadan sebulan berpuasa\\nTiba syawal kita rayakan dengan rasa gembira\\nAnak muda di rantauan semuanya pulang ke desa\\nIbu dan ayah keriangan bersyukur tak terkira Anuar Zain:\\nKuih dan muih beranika macam\\nMakanlah jangan hanya di pandang Elina:\\nKetupat rendang sila nikmati kawan\\nPenat memasak malam ke pagi Anuar Zain:\\nWajik dan dodol jangan lupakan\\nPeninggalan nenek zaman berzaman Elina:\\nAsyik bersembang pakcik dan makcik\\nHai duit raya lupa nak di beri'"
      ]
     },
     "execution_count": 90,
     "metadata": {},
     "output_type": "execute_result"
    }
   ],
   "source": [
    "lagu9 = scrape_lyrics('https://iliriklagu.net/lirik-lagu-suasana-di-hari-raya-anuar-zain-elina/')\n",
    "lagu9"
   ]
  },
  {
   "cell_type": "code",
   "execution_count": 91,
   "metadata": {},
   "outputs": [
    {
     "data": {
      "text/plain": [
       "' Anuar Zain: Berlalulah sudah ramadan sebulan berpuasa Tiba syawal kita rayakan dengan rasa gembira Anak muda di rantauan semuanya pulang ke desa Ibu dan ayah keriangan bersyukur tak terkira Elina: Bertukar senyuman dan salam ziarah-menziarahi Tutur dan kata yang sopan saling memaafi Suasana hari raya walau di mana pun jua Memberikan ketenangan dan mententeramkan jiwa Anuar Zain: Kuih dan muih beranika macam Makanlah jangan hanya di pandang Elina: Ketupat rendang sila nikmati kawan Penat memasak malam ke pagi Anuar Zain: Wajik dan dodol jangan lupakan Peninggalan nenek zaman berzaman Elina: Asyik bersembang pakcik dan makcik Hai duit raya lupa nak di beri Anuar Zain & Elina: Berlalulah sudah ramadan sebulan berpuasa Tiba syawal kita rayakan dengan rasa gembira Anak muda di rantauan semuanya pulang ke desa Ibu dan ayah keriangan bersyukur tak terkira Anuar Zain: Kuih dan muih beranika macam Makanlah jangan hanya di pandang Elina: Ketupat rendang sila nikmati kawan Penat memasak malam ke pagi Anuar Zain: Wajik dan dodol jangan lupakan Peninggalan nenek zaman berzaman Elina: Asyik bersembang pakcik dan makcik Hai duit raya lupa nak di beri'"
      ]
     },
     "execution_count": 91,
     "metadata": {},
     "output_type": "execute_result"
    }
   ],
   "source": [
    "lagu9_1 = lagu9.replace('\\n', ' ')\n",
    "lagu9_1"
   ]
  },
  {
   "cell_type": "code",
   "execution_count": 93,
   "metadata": {},
   "outputs": [
    {
     "data": {
      "text/plain": [
       "' Berlalulah sudah ramadan sebulan berpuasa Tiba syawal kita rayakan dengan rasa gembira Anak muda di rantauan semuanya pulang ke desa Ibu dan ayah keriangan bersyukur tak terkira Elina: Bertukar senyuman dan salam ziarah-menziarahi Tutur dan kata yang sopan saling memaafi Suasana hari raya walau di mana pun jua Memberikan ketenangan dan mententeramkan jiwa Kuih dan muih beranika macam Makanlah jangan hanya di pandang Elina: Ketupat rendang sila nikmati kawan Penat memasak malam ke pagi Wajik dan dodol jangan lupakan Peninggalan nenek zaman berzaman Elina: Asyik bersembang pakcik dan makcik Hai duit raya lupa nak di beri Anuar Zain & Elina: Berlalulah sudah ramadan sebulan berpuasa Tiba syawal kita rayakan dengan rasa gembira Anak muda di rantauan semuanya pulang ke desa Ibu dan ayah keriangan bersyukur tak terkira Kuih dan muih beranika macam Makanlah jangan hanya di pandang Elina: Ketupat rendang sila nikmati kawan Penat memasak malam ke pagi Wajik dan dodol jangan lupakan Peninggalan nenek zaman berzaman Elina: Asyik bersembang pakcik dan makcik Hai duit raya lupa nak di beri'"
      ]
     },
     "execution_count": 93,
     "metadata": {},
     "output_type": "execute_result"
    }
   ],
   "source": [
    "lagu9_2 = lagu9_1.replace('Anuar Zain: ', '')\n",
    "lagu9_2"
   ]
  },
  {
   "cell_type": "code",
   "execution_count": 95,
   "metadata": {},
   "outputs": [],
   "source": [
    "lagu9_3 = lagu9_2.replace('Elina: ', '')\n",
    "lagu9 = lagu9_3"
   ]
  },
  {
   "cell_type": "code",
   "execution_count": 96,
   "metadata": {},
   "outputs": [
    {
     "data": {
      "text/html": [
       "<div>\n",
       "<style scoped>\n",
       "    .dataframe tbody tr th:only-of-type {\n",
       "        vertical-align: middle;\n",
       "    }\n",
       "\n",
       "    .dataframe tbody tr th {\n",
       "        vertical-align: top;\n",
       "    }\n",
       "\n",
       "    .dataframe thead th {\n",
       "        text-align: right;\n",
       "    }\n",
       "</style>\n",
       "<table border=\"1\" class=\"dataframe\">\n",
       "  <thead>\n",
       "    <tr style=\"text-align: right;\">\n",
       "      <th></th>\n",
       "      <th>Words</th>\n",
       "    </tr>\n",
       "  </thead>\n",
       "  <tbody>\n",
       "    <tr>\n",
       "      <th>0</th>\n",
       "      <td></td>\n",
       "    </tr>\n",
       "    <tr>\n",
       "      <th>1</th>\n",
       "      <td>berlalulah</td>\n",
       "    </tr>\n",
       "    <tr>\n",
       "      <th>2</th>\n",
       "      <td>sudah</td>\n",
       "    </tr>\n",
       "    <tr>\n",
       "      <th>3</th>\n",
       "      <td>ramadan</td>\n",
       "    </tr>\n",
       "    <tr>\n",
       "      <th>4</th>\n",
       "      <td>sebulan</td>\n",
       "    </tr>\n",
       "    <tr>\n",
       "      <th>...</th>\n",
       "      <td>...</td>\n",
       "    </tr>\n",
       "    <tr>\n",
       "      <th>160</th>\n",
       "      <td>raya</td>\n",
       "    </tr>\n",
       "    <tr>\n",
       "      <th>161</th>\n",
       "      <td>lupa</td>\n",
       "    </tr>\n",
       "    <tr>\n",
       "      <th>162</th>\n",
       "      <td>nak</td>\n",
       "    </tr>\n",
       "    <tr>\n",
       "      <th>163</th>\n",
       "      <td>di</td>\n",
       "    </tr>\n",
       "    <tr>\n",
       "      <th>164</th>\n",
       "      <td>beri</td>\n",
       "    </tr>\n",
       "  </tbody>\n",
       "</table>\n",
       "<p>165 rows × 1 columns</p>\n",
       "</div>"
      ],
      "text/plain": [
       "          Words\n",
       "0              \n",
       "1    berlalulah\n",
       "2         sudah\n",
       "3       ramadan\n",
       "4       sebulan\n",
       "..          ...\n",
       "160        raya\n",
       "161        lupa\n",
       "162         nak\n",
       "163          di\n",
       "164        beri\n",
       "\n",
       "[165 rows x 1 columns]"
      ]
     },
     "execution_count": 96,
     "metadata": {},
     "output_type": "execute_result"
    }
   ],
   "source": [
    "lagu_9 = Convert(lagu9.lower())\n",
    "df9 = pd.DataFrame((lagu_9),columns =['Words'])\n",
    "df9"
   ]
  },
  {
   "cell_type": "code",
   "execution_count": 97,
   "metadata": {},
   "outputs": [
    {
     "data": {
      "text/plain": [
       "' Satu hari di Hari Raya\\nKu lihat cahaya bersinar indah\\nLangit cemerlang tak terkira\\nTanda kuasa yang Maha Esa\\nMemberi nikmat pada manusia Satu hari di Hari Raya\\nKu dengar irama yang sungguh indah\\nKu coba mendekati padanya\\nKira irama itu adalah\\nSuara pujian pada yang Esa Satu hari di Hari Raya\\nAku menangis tanda gembira\\nAku menangis tanda ku cinta kepadaNya Satu hari di Hari Raya\\nKu lihat wajah suci ibuku\\nKu lihat wajah kasih ayahku\\nKu gembira\\nMungkin inilah dia kebahagiaan'"
      ]
     },
     "execution_count": 97,
     "metadata": {},
     "output_type": "execute_result"
    }
   ],
   "source": [
    "lagu10 = scrape_lyrics('https://iliriklagu.net/lirik-lagu-satu-hari-di-hari-raya-m-nasir/')\n",
    "lagu10"
   ]
  },
  {
   "cell_type": "code",
   "execution_count": 99,
   "metadata": {},
   "outputs": [
    {
     "data": {
      "text/plain": [
       "' Satu hari di Hari Raya Ku lihat cahaya bersinar indah Langit cemerlang tak terkira Tanda kuasa yang Maha Esa Memberi nikmat pada manusia Satu hari di Hari Raya Ku dengar irama yang sungguh indah Ku coba mendekati padanya Kira irama itu adalah Suara pujian pada yang Esa Satu hari di Hari Raya Aku menangis tanda gembira Aku menangis tanda ku cinta kepadaNya Satu hari di Hari Raya Ku lihat wajah suci ibuku Ku lihat wajah kasih ayahku Ku gembira Mungkin inilah dia kebahagiaan'"
      ]
     },
     "execution_count": 99,
     "metadata": {},
     "output_type": "execute_result"
    }
   ],
   "source": [
    "lagu10_1 = lagu10.replace('\\n', ' ')\n",
    "lagu10 = lagu10_1\n",
    "lagu10"
   ]
  },
  {
   "cell_type": "code",
   "execution_count": 100,
   "metadata": {},
   "outputs": [
    {
     "data": {
      "text/html": [
       "<div>\n",
       "<style scoped>\n",
       "    .dataframe tbody tr th:only-of-type {\n",
       "        vertical-align: middle;\n",
       "    }\n",
       "\n",
       "    .dataframe tbody tr th {\n",
       "        vertical-align: top;\n",
       "    }\n",
       "\n",
       "    .dataframe thead th {\n",
       "        text-align: right;\n",
       "    }\n",
       "</style>\n",
       "<table border=\"1\" class=\"dataframe\">\n",
       "  <thead>\n",
       "    <tr style=\"text-align: right;\">\n",
       "      <th></th>\n",
       "      <th>Words</th>\n",
       "    </tr>\n",
       "  </thead>\n",
       "  <tbody>\n",
       "    <tr>\n",
       "      <th>0</th>\n",
       "      <td></td>\n",
       "    </tr>\n",
       "    <tr>\n",
       "      <th>1</th>\n",
       "      <td>satu</td>\n",
       "    </tr>\n",
       "    <tr>\n",
       "      <th>2</th>\n",
       "      <td>hari</td>\n",
       "    </tr>\n",
       "    <tr>\n",
       "      <th>3</th>\n",
       "      <td>di</td>\n",
       "    </tr>\n",
       "    <tr>\n",
       "      <th>4</th>\n",
       "      <td>hari</td>\n",
       "    </tr>\n",
       "    <tr>\n",
       "      <th>...</th>\n",
       "      <td>...</td>\n",
       "    </tr>\n",
       "    <tr>\n",
       "      <th>79</th>\n",
       "      <td>gembira</td>\n",
       "    </tr>\n",
       "    <tr>\n",
       "      <th>80</th>\n",
       "      <td>mungkin</td>\n",
       "    </tr>\n",
       "    <tr>\n",
       "      <th>81</th>\n",
       "      <td>inilah</td>\n",
       "    </tr>\n",
       "    <tr>\n",
       "      <th>82</th>\n",
       "      <td>dia</td>\n",
       "    </tr>\n",
       "    <tr>\n",
       "      <th>83</th>\n",
       "      <td>kebahagiaan</td>\n",
       "    </tr>\n",
       "  </tbody>\n",
       "</table>\n",
       "<p>84 rows × 1 columns</p>\n",
       "</div>"
      ],
      "text/plain": [
       "          Words\n",
       "0              \n",
       "1          satu\n",
       "2          hari\n",
       "3            di\n",
       "4          hari\n",
       "..          ...\n",
       "79      gembira\n",
       "80      mungkin\n",
       "81       inilah\n",
       "82          dia\n",
       "83  kebahagiaan\n",
       "\n",
       "[84 rows x 1 columns]"
      ]
     },
     "execution_count": 100,
     "metadata": {},
     "output_type": "execute_result"
    }
   ],
   "source": [
    "lagu_10 = Convert(lagu10.lower())\n",
    "df10 = pd.DataFrame((lagu_10),columns =['Words'])\n",
    "df10"
   ]
  },
  {
   "cell_type": "code",
   "execution_count": 338,
   "metadata": {},
   "outputs": [
    {
     "data": {
      "text/html": [
       "<div>\n",
       "<style scoped>\n",
       "    .dataframe tbody tr th:only-of-type {\n",
       "        vertical-align: middle;\n",
       "    }\n",
       "\n",
       "    .dataframe tbody tr th {\n",
       "        vertical-align: top;\n",
       "    }\n",
       "\n",
       "    .dataframe thead th {\n",
       "        text-align: right;\n",
       "    }\n",
       "</style>\n",
       "<table border=\"1\" class=\"dataframe\">\n",
       "  <thead>\n",
       "    <tr style=\"text-align: right;\">\n",
       "      <th></th>\n",
       "      <th>count</th>\n",
       "    </tr>\n",
       "  </thead>\n",
       "  <tbody>\n",
       "    <tr>\n",
       "      <th>count</th>\n",
       "      <td>849.000000</td>\n",
       "    </tr>\n",
       "    <tr>\n",
       "      <th>mean</th>\n",
       "      <td>8.243816</td>\n",
       "    </tr>\n",
       "    <tr>\n",
       "      <th>std</th>\n",
       "      <td>11.051900</td>\n",
       "    </tr>\n",
       "    <tr>\n",
       "      <th>min</th>\n",
       "      <td>1.000000</td>\n",
       "    </tr>\n",
       "    <tr>\n",
       "      <th>25%</th>\n",
       "      <td>2.000000</td>\n",
       "    </tr>\n",
       "    <tr>\n",
       "      <th>50%</th>\n",
       "      <td>3.000000</td>\n",
       "    </tr>\n",
       "    <tr>\n",
       "      <th>75%</th>\n",
       "      <td>7.000000</td>\n",
       "    </tr>\n",
       "    <tr>\n",
       "      <th>max</th>\n",
       "      <td>37.000000</td>\n",
       "    </tr>\n",
       "  </tbody>\n",
       "</table>\n",
       "</div>"
      ],
      "text/plain": [
       "            count\n",
       "count  849.000000\n",
       "mean     8.243816\n",
       "std     11.051900\n",
       "min      1.000000\n",
       "25%      2.000000\n",
       "50%      3.000000\n",
       "75%      7.000000\n",
       "max     37.000000"
      ]
     },
     "execution_count": 338,
     "metadata": {},
     "output_type": "execute_result"
    }
   ],
   "source": [
    "df_lama = [df1, df2, df3, df4, df5, df6, df7, df8, df9, df10]\n",
    "old_songs = pd.concat(df_lama)\n",
    "old_songs.describe()"
   ]
  },
  {
   "cell_type": "code",
   "execution_count": 129,
   "metadata": {},
   "outputs": [
    {
     "data": {
      "text/html": [
       "<div>\n",
       "<style scoped>\n",
       "    .dataframe tbody tr th:only-of-type {\n",
       "        vertical-align: middle;\n",
       "    }\n",
       "\n",
       "    .dataframe tbody tr th {\n",
       "        vertical-align: top;\n",
       "    }\n",
       "\n",
       "    .dataframe thead th {\n",
       "        text-align: right;\n",
       "    }\n",
       "</style>\n",
       "<table border=\"1\" class=\"dataframe\">\n",
       "  <thead>\n",
       "    <tr style=\"text-align: right;\">\n",
       "      <th></th>\n",
       "      <th>Words</th>\n",
       "    </tr>\n",
       "  </thead>\n",
       "  <tbody>\n",
       "    <tr>\n",
       "      <th>hari</th>\n",
       "      <td>37</td>\n",
       "    </tr>\n",
       "    <tr>\n",
       "      <th></th>\n",
       "      <td>34</td>\n",
       "    </tr>\n",
       "    <tr>\n",
       "      <th>di</th>\n",
       "      <td>32</td>\n",
       "    </tr>\n",
       "    <tr>\n",
       "      <th>raya</th>\n",
       "      <td>25</td>\n",
       "    </tr>\n",
       "    <tr>\n",
       "      <th>dan</th>\n",
       "      <td>22</td>\n",
       "    </tr>\n",
       "    <tr>\n",
       "      <th>...</th>\n",
       "      <td>...</td>\n",
       "    </tr>\n",
       "    <tr>\n",
       "      <th>menyambut</th>\n",
       "      <td>1</td>\n",
       "    </tr>\n",
       "    <tr>\n",
       "      <th>bondaku</th>\n",
       "      <td>1</td>\n",
       "    </tr>\n",
       "    <tr>\n",
       "      <th>mahu</th>\n",
       "      <td>1</td>\n",
       "    </tr>\n",
       "    <tr>\n",
       "      <th>makan</th>\n",
       "      <td>1</td>\n",
       "    </tr>\n",
       "    <tr>\n",
       "      <th>aman</th>\n",
       "      <td>1</td>\n",
       "    </tr>\n",
       "  </tbody>\n",
       "</table>\n",
       "<p>364 rows × 1 columns</p>\n",
       "</div>"
      ],
      "text/plain": [
       "           Words\n",
       "hari          37\n",
       "              34\n",
       "di            32\n",
       "raya          25\n",
       "dan           22\n",
       "...          ...\n",
       "menyambut      1\n",
       "bondaku        1\n",
       "mahu           1\n",
       "makan          1\n",
       "aman           1\n",
       "\n",
       "[364 rows x 1 columns]"
      ]
     },
     "execution_count": 129,
     "metadata": {},
     "output_type": "execute_result"
    }
   ],
   "source": [
    "counts_old = old_songs['Words'].value_counts()\n",
    "word_freq = pd.DataFrame(counts_old, )\n",
    "word_freq."
   ]
  },
  {
   "cell_type": "code",
   "execution_count": 149,
   "metadata": {},
   "outputs": [
    {
     "data": {
      "text/html": [
       "<div>\n",
       "<style scoped>\n",
       "    .dataframe tbody tr th:only-of-type {\n",
       "        vertical-align: middle;\n",
       "    }\n",
       "\n",
       "    .dataframe tbody tr th {\n",
       "        vertical-align: top;\n",
       "    }\n",
       "\n",
       "    .dataframe thead th {\n",
       "        text-align: right;\n",
       "    }\n",
       "</style>\n",
       "<table border=\"1\" class=\"dataframe\">\n",
       "  <thead>\n",
       "    <tr style=\"text-align: right;\">\n",
       "      <th></th>\n",
       "      <th>Words</th>\n",
       "      <th>count</th>\n",
       "    </tr>\n",
       "  </thead>\n",
       "  <tbody>\n",
       "    <tr>\n",
       "      <th>0</th>\n",
       "      <td></td>\n",
       "      <td>34</td>\n",
       "    </tr>\n",
       "    <tr>\n",
       "      <th>1</th>\n",
       "      <td>selamat</td>\n",
       "      <td>18</td>\n",
       "    </tr>\n",
       "    <tr>\n",
       "      <th>2</th>\n",
       "      <td>aidil</td>\n",
       "      <td>4</td>\n",
       "    </tr>\n",
       "    <tr>\n",
       "      <th>3</th>\n",
       "      <td>fitri</td>\n",
       "      <td>4</td>\n",
       "    </tr>\n",
       "    <tr>\n",
       "      <th>4</th>\n",
       "      <td>kepada</td>\n",
       "      <td>4</td>\n",
       "    </tr>\n",
       "    <tr>\n",
       "      <th>...</th>\n",
       "      <td>...</td>\n",
       "      <td>...</td>\n",
       "    </tr>\n",
       "    <tr>\n",
       "      <th>79</th>\n",
       "      <td>gembira</td>\n",
       "      <td>6</td>\n",
       "    </tr>\n",
       "    <tr>\n",
       "      <th>80</th>\n",
       "      <td>mungkin</td>\n",
       "      <td>1</td>\n",
       "    </tr>\n",
       "    <tr>\n",
       "      <th>81</th>\n",
       "      <td>inilah</td>\n",
       "      <td>1</td>\n",
       "    </tr>\n",
       "    <tr>\n",
       "      <th>82</th>\n",
       "      <td>dia</td>\n",
       "      <td>3</td>\n",
       "    </tr>\n",
       "    <tr>\n",
       "      <th>83</th>\n",
       "      <td>kebahagiaan</td>\n",
       "      <td>1</td>\n",
       "    </tr>\n",
       "  </tbody>\n",
       "</table>\n",
       "<p>859 rows × 2 columns</p>\n",
       "</div>"
      ],
      "text/plain": [
       "          Words  count\n",
       "0                   34\n",
       "1       selamat     18\n",
       "2         aidil      4\n",
       "3         fitri      4\n",
       "4        kepada      4\n",
       "..          ...    ...\n",
       "79      gembira      6\n",
       "80      mungkin      1\n",
       "81       inilah      1\n",
       "82          dia      3\n",
       "83  kebahagiaan      1\n",
       "\n",
       "[859 rows x 2 columns]"
      ]
     },
     "execution_count": 149,
     "metadata": {},
     "output_type": "execute_result"
    }
   ],
   "source": [
    "old_songs['count'] = old_songs.groupby('Words')['Words'].transform('count')\n",
    "old_songs"
   ]
  },
  {
   "cell_type": "code",
   "execution_count": 150,
   "metadata": {},
   "outputs": [
    {
     "data": {
      "text/html": [
       "<div>\n",
       "<style scoped>\n",
       "    .dataframe tbody tr th:only-of-type {\n",
       "        vertical-align: middle;\n",
       "    }\n",
       "\n",
       "    .dataframe tbody tr th {\n",
       "        vertical-align: top;\n",
       "    }\n",
       "\n",
       "    .dataframe thead th {\n",
       "        text-align: right;\n",
       "    }\n",
       "</style>\n",
       "<table border=\"1\" class=\"dataframe\">\n",
       "  <thead>\n",
       "    <tr style=\"text-align: right;\">\n",
       "      <th></th>\n",
       "      <th>Words</th>\n",
       "      <th>count</th>\n",
       "    </tr>\n",
       "  </thead>\n",
       "  <tbody>\n",
       "    <tr>\n",
       "      <th>1</th>\n",
       "      <td>selamat</td>\n",
       "      <td>18</td>\n",
       "    </tr>\n",
       "    <tr>\n",
       "      <th>2</th>\n",
       "      <td>aidil</td>\n",
       "      <td>4</td>\n",
       "    </tr>\n",
       "    <tr>\n",
       "      <th>3</th>\n",
       "      <td>fitri</td>\n",
       "      <td>4</td>\n",
       "    </tr>\n",
       "    <tr>\n",
       "      <th>4</th>\n",
       "      <td>kepada</td>\n",
       "      <td>4</td>\n",
       "    </tr>\n",
       "    <tr>\n",
       "      <th>5</th>\n",
       "      <td>saudara</td>\n",
       "      <td>6</td>\n",
       "    </tr>\n",
       "    <tr>\n",
       "      <th>...</th>\n",
       "      <td>...</td>\n",
       "      <td>...</td>\n",
       "    </tr>\n",
       "    <tr>\n",
       "      <th>79</th>\n",
       "      <td>gembira</td>\n",
       "      <td>6</td>\n",
       "    </tr>\n",
       "    <tr>\n",
       "      <th>80</th>\n",
       "      <td>mungkin</td>\n",
       "      <td>1</td>\n",
       "    </tr>\n",
       "    <tr>\n",
       "      <th>81</th>\n",
       "      <td>inilah</td>\n",
       "      <td>1</td>\n",
       "    </tr>\n",
       "    <tr>\n",
       "      <th>82</th>\n",
       "      <td>dia</td>\n",
       "      <td>3</td>\n",
       "    </tr>\n",
       "    <tr>\n",
       "      <th>83</th>\n",
       "      <td>kebahagiaan</td>\n",
       "      <td>1</td>\n",
       "    </tr>\n",
       "  </tbody>\n",
       "</table>\n",
       "<p>849 rows × 2 columns</p>\n",
       "</div>"
      ],
      "text/plain": [
       "          Words  count\n",
       "1       selamat     18\n",
       "2         aidil      4\n",
       "3         fitri      4\n",
       "4        kepada      4\n",
       "5       saudara      6\n",
       "..          ...    ...\n",
       "79      gembira      6\n",
       "80      mungkin      1\n",
       "81       inilah      1\n",
       "82          dia      3\n",
       "83  kebahagiaan      1\n",
       "\n",
       "[849 rows x 2 columns]"
      ]
     },
     "execution_count": 150,
     "metadata": {},
     "output_type": "execute_result"
    }
   ],
   "source": [
    "old_songs1 = old_songs.drop(old_songs.index[0])\n",
    "old_songs1"
   ]
  },
  {
   "cell_type": "code",
   "execution_count": 156,
   "metadata": {},
   "outputs": [
    {
     "data": {
      "text/html": [
       "<div>\n",
       "<style scoped>\n",
       "    .dataframe tbody tr th:only-of-type {\n",
       "        vertical-align: middle;\n",
       "    }\n",
       "\n",
       "    .dataframe tbody tr th {\n",
       "        vertical-align: top;\n",
       "    }\n",
       "\n",
       "    .dataframe thead th {\n",
       "        text-align: right;\n",
       "    }\n",
       "</style>\n",
       "<table border=\"1\" class=\"dataframe\">\n",
       "  <thead>\n",
       "    <tr style=\"text-align: right;\">\n",
       "      <th></th>\n",
       "      <th>Words</th>\n",
       "      <th>count</th>\n",
       "    </tr>\n",
       "  </thead>\n",
       "  <tbody>\n",
       "    <tr>\n",
       "      <th>3</th>\n",
       "      <td>hari</td>\n",
       "      <td>37</td>\n",
       "    </tr>\n",
       "    <tr>\n",
       "      <th>2</th>\n",
       "      <td>hari</td>\n",
       "      <td>37</td>\n",
       "    </tr>\n",
       "    <tr>\n",
       "      <th>144</th>\n",
       "      <td>hari</td>\n",
       "      <td>37</td>\n",
       "    </tr>\n",
       "    <tr>\n",
       "      <th>49</th>\n",
       "      <td>hari</td>\n",
       "      <td>37</td>\n",
       "    </tr>\n",
       "    <tr>\n",
       "      <th>44</th>\n",
       "      <td>hari</td>\n",
       "      <td>37</td>\n",
       "    </tr>\n",
       "    <tr>\n",
       "      <th>...</th>\n",
       "      <td>...</td>\n",
       "      <td>...</td>\n",
       "    </tr>\n",
       "    <tr>\n",
       "      <th>61</th>\n",
       "      <td>pedoman</td>\n",
       "      <td>1</td>\n",
       "    </tr>\n",
       "    <tr>\n",
       "      <th>125</th>\n",
       "      <td>memberkati</td>\n",
       "      <td>1</td>\n",
       "    </tr>\n",
       "    <tr>\n",
       "      <th>123</th>\n",
       "      <td>tuhan</td>\n",
       "      <td>1</td>\n",
       "    </tr>\n",
       "    <tr>\n",
       "      <th>121</th>\n",
       "      <td>rezeki</td>\n",
       "      <td>1</td>\n",
       "    </tr>\n",
       "    <tr>\n",
       "      <th>83</th>\n",
       "      <td>kebahagiaan</td>\n",
       "      <td>1</td>\n",
       "    </tr>\n",
       "  </tbody>\n",
       "</table>\n",
       "<p>849 rows × 2 columns</p>\n",
       "</div>"
      ],
      "text/plain": [
       "           Words  count\n",
       "3           hari     37\n",
       "2           hari     37\n",
       "144         hari     37\n",
       "49          hari     37\n",
       "44          hari     37\n",
       "..           ...    ...\n",
       "61       pedoman      1\n",
       "125   memberkati      1\n",
       "123        tuhan      1\n",
       "121       rezeki      1\n",
       "83   kebahagiaan      1\n",
       "\n",
       "[849 rows x 2 columns]"
      ]
     },
     "execution_count": 156,
     "metadata": {},
     "output_type": "execute_result"
    }
   ],
   "source": [
    "old_songs1.sort_values(by='count', ascending=False)"
   ]
  },
  {
   "cell_type": "code",
   "execution_count": 157,
   "metadata": {},
   "outputs": [
    {
     "data": {
      "text/plain": [
       "True"
      ]
     },
     "execution_count": 157,
     "metadata": {},
     "output_type": "execute_result"
    }
   ],
   "source": [
    "boolean = not old_songs1[\"Words\"].is_unique\n",
    "boolean"
   ]
  },
  {
   "cell_type": "code",
   "execution_count": 166,
   "metadata": {},
   "outputs": [
    {
     "name": "stdout",
     "output_type": "stream",
     "text": [
      "The shape of the dataframe is : (849, 2)\n"
     ]
    }
   ],
   "source": [
    "print('The shape of the dataframe is :',old_songs1.shape)"
   ]
  },
  {
   "cell_type": "code",
   "execution_count": 168,
   "metadata": {},
   "outputs": [
    {
     "data": {
      "text/plain": [
       "0"
      ]
     },
     "execution_count": 168,
     "metadata": {},
     "output_type": "execute_result"
    }
   ],
   "source": [
    "old_songs1['Words'].isnull().sum()"
   ]
  },
  {
   "cell_type": "code",
   "execution_count": 340,
   "metadata": {},
   "outputs": [
    {
     "data": {
      "text/plain": [
       "' selamat aidil fitri kepada saudara serta saudari setahun hanya sekali merayakan hari yang mulia ini di masa bulan ramadan kita berpuasa hingga sebulan pabila syawal menjelma hari raya disambut dengan gembira  miskin kaya memakai baju baru warna-warni mengunjungi sanak kaum famili sungguh hebat pemandangan di hari raya ini tua muda wajah berseri-seri selamat hari raya pada saudari saudara semua marilah dengan gembira merayakan aidilfitri yang mulia di sana kelihatan bermacam kuih ketupat dan rendang  mintak bu kuih sepotong saya mahu makan kerna perut kosong dam dam dum bunyi mercun kanak-kanak segera datang berduyun dam dam dum mercun berdentum semaraklah hari raya ini tahun  maafkanlah jika ada terlanjur perkataan diharap supaya jangan disimpan kuberdoa selamat panjang umur murah rezeki semoga tuhan akan memberkati selamat hari raya hari untuk kita bersuka ria selamat mari ucapkan untuk kita hingga sampai tahun depan selamat hari raya di hari raya terkenang daku kepada si dia kampungku indah nun jauh di sana ayah serta bondaku di tepian mandi danauku hijau yang aman damai selalu nun di sanalah tempat aku bertemu aku dan dia  apakan daya masa tak akan kembali hancur musnahlah semuanya impian yang murni tinggal menjadi kenang-kenanganku hanya rangkaian kata dan lagu dendang perantau  aidil fitri hari bahgia hari yang mulia mohon maaf bersama dipinta selamat selamat hari raya sembah salam ayah dan bonda ampunkanlah dosa hilangkanlah duka dan nestapa selamat selamat hari raya  semoga kita berjumpa lagi di hari bahagia ini mari teman mari saudara kita bergembira lupakan hatimu yang duka selamat selamat hari raya hai selamat hari raya kami semua ucapkan menikmati hidangan yang kami sediakan sila jamu selera dengan bermacam hidangan pilih yang mana suka sila janganlah segan  rasalah ketupat ini dengan rendangnya sekali sudilah rasa kuihku pilihlah yang mana satu  hai di hari begini kita menjamu selera kita bermaaf-maafan di suasana hari raya  indahnya sungguh di hari raya ramainya orang bersuka ria  adikku manis cantik bergaya bolehkah abang ikut bersama  usahlah abang membuang waktu mari menuju ke rumah bonda  sanak saudara sedang menunggu di hari mulia bertemu mesra  katamu itu abang mengerti kusanjung budi puteri ibunda  pada yang tua kita hormati barulah hidup saling bahagia  miskin dan kaya sama sahaja hulurkan tangan berjabat mesra  saling bermaaf kita bersama lupakan saja sengketa lama  dalam dingin subuh hatiku terusik kenang nasib diri di rantauan bergema takbir raya menitis air mata terbayang suasana permai desa rindu hati ini inginku kembali pada ayah bonda dan saudara tetapi aku harus mencari rezeki membela nasib kita bersama hanya ku sampaikan doa dan kiriman tulus ikhlas dari jauh kupohonkan ampun maaf jangan sedih pagi ini tak dapat kita bersama meraikan aidil fitri yang mulia restu ayah bonda kuharap selalu hingga aku pulang kepadamu restu ayah bonda kuharap selalu demi anakmu yang kini jauh bergema suara takbir di angkasa selembut bayu meresap ke dalam jiwa betapa hatimu terharu menyambut anakmu kembali terbayang senyuman di wajah nan sepi pulangnya anakmu di pagi yang murni kasihmu seharum kasturi melambai anakmu kembali dalam dakapan keheningan maya pertemuan yang menyentuh di jiwa sekian lamanya terpisah harapan kini menjadi nyata kiranya perpisahan terjadi lagi anakmu pergi mencurahkan bakti doamu teriring selalu semoga bertemu kembali pulanglah di hari raya begitulah harapan ayahanda bila tiba hari raya semua insan bergembira tetapi bagiku hanya kesedihan yang menyelubungi hidup ayah dan juga ibuku telah pergi selamanya terbiarlah aku ibarat musafir yang haus di padang pasir siapakah yang sudi menghulurkan simpati kepada nasibku ini agar dapat kurasa nikmat di hari raya seperti insan yang lain ku meminta dan berdoa kepada yang maha esa tabahkan hati berilah pedoman cahaya di aidil fitri  berlalulah sudah ramadan sebulan berpuasa tiba syawal kita rayakan dengan rasa gembira anak muda di rantauan semuanya pulang ke desa ibu dan ayah keriangan bersyukur tak terkira bertukar senyuman dan salam ziarah-menziarahi tutur dan kata yang sopan saling memaafi suasana hari raya walau di mana pun jua memberikan ketenangan dan mententeramkan jiwa kuih dan muih beranika macam makanlah jangan hanya di pandang ketupat rendang sila nikmati kawan penat memasak malam ke pagi wajik dan dodol jangan lupakan peninggalan nenek zaman berzaman asyik bersembang pakcik dan makcik hai duit raya lupa nak di beri anuar zain & berlalulah sudah ramadan sebulan berpuasa tiba syawal kita rayakan dengan rasa gembira anak muda di rantauan semuanya pulang ke desa ibu dan ayah keriangan bersyukur tak terkira kuih dan muih beranika macam makanlah jangan hanya di pandang ketupat rendang sila nikmati kawan penat memasak malam ke pagi wajik dan dodol jangan lupakan peninggalan nenek zaman berzaman asyik bersembang pakcik dan makcik hai duit raya lupa nak di beri satu hari di hari raya ku lihat cahaya bersinar indah langit cemerlang tak terkira tanda kuasa yang maha esa memberi nikmat pada manusia satu hari di hari raya ku dengar irama yang sungguh indah ku coba mendekati padanya kira irama itu adalah suara pujian pada yang esa satu hari di hari raya aku menangis tanda gembira aku menangis tanda ku cinta kepadanya satu hari di hari raya ku lihat wajah suci ibuku ku lihat wajah kasih ayahku ku gembira mungkin inilah dia kebahagiaan'"
      ]
     },
     "execution_count": 340,
     "metadata": {},
     "output_type": "execute_result"
    }
   ],
   "source": [
    "# Create the total list of word\n",
    "\n",
    "lagu_lama = lagu1 + lagu2 + lagu3 + lagu4 + lagu5 + lagu6 + lagu7 + lagu8 + lagu9 + lagu10\n",
    "lagu_raya_lama = lagu_lama.lower()\n",
    "lagu_raya_lama"
   ]
  },
  {
   "cell_type": "code",
   "execution_count": 345,
   "metadata": {},
   "outputs": [],
   "source": [
    "import csv\n",
    "\n",
    "reader = csv.reader(lagu_raya_lama.splitlines(), skipinitialspace=True)\n",
    "with open('lagu_raya_lama.csv', 'w') as out_file:\n",
    "    writer = csv.writer(out_file)\n",
    "    writer.writerows(reader)"
   ]
  },
  {
   "cell_type": "code",
   "execution_count": 346,
   "metadata": {},
   "outputs": [],
   "source": [
    "reader = csv.reader(lagu_raya_baru.splitlines(), skipinitialspace=True)\n",
    "with open('lagu_raya_baru.csv', 'w') as out_file:\n",
    "    writer = csv.writer(out_file)\n",
    "    writer.writerows(reader)"
   ]
  },
  {
   "cell_type": "code",
   "execution_count": 347,
   "metadata": {},
   "outputs": [
    {
     "data": {
      "image/png": "[encoded data removed]",
      "text/plain": [
       "<Figure size 432x288 with 1 Axes>"
      ]
     },
     "metadata": {
      "needs_background": "light"
     },
     "output_type": "display_data"
    }
   ],
   "source": [
    "# Create the wordcloud object\n",
    "wordcloud = WordCloud(width=800, height=800, background_color=\"white\", colormap=\"copper\", \n",
    "                      stopwords=[\"dan\", \"yang\", \"di\", \"dengan\", \"ini\", \"aku\", \"ku\", \"dalam\", \"ke\", \"dam\"]).generate(lagu_raya_lama)\n",
    "plt.figure()\n",
    "plt.imshow(wordcloud, interpolation=\"bilinear\")\n",
    "plt.axis(\"off\")\n",
    "plt.margins(x=0, y=0)\n",
    "plt.show()"
   ]
  },
  {
   "cell_type": "code",
   "execution_count": 241,
   "metadata": {},
   "outputs": [
    {
     "data": {
      "text/plain": [
       "<wordcloud.wordcloud.WordCloud at 0x7f30d6981048>"
      ]
     },
     "execution_count": 241,
     "metadata": {},
     "output_type": "execute_result"
    }
   ],
   "source": [
    "#Save the file to png format\n",
    "wordcloud.to_file(\"lagu_lama.png\")"
   ]
  },
  {
   "cell_type": "code",
   "execution_count": 244,
   "metadata": {},
   "outputs": [
    {
     "data": {
      "text/plain": [
       "' Termenung\\nRaya hampir tiba\\nTerkenang pada ayahanda\\nYang jauh disana\\n\\nKu eindu mahu bersama mu\\nBersalaman di hari raya\\nJatuh air mataku\\nSedihnya raya ku tanpa mu\\nMahu gembira mahu kau ada bersamaku\\n\\nDi hari yang mulia\\nPasti akan terluka\\nOh Tuhan tabahkan hatiku\\nSelamat Hari Raya ku ucapkan pada semua saudara\\n\\nBiarkan ku sepi tanpa mu\\nDi hari yang mulia\\nKu ucapkan pada mu\\nSelamat Hari Raya\\n\\nSelamat Hari Raya ku ucapkan pada semua saudara\\nBiarkan ku sepi tanpa mu\\nDi hari yang mulia\\nKu ucapkan pada mu\\n\\nSelamat Hari Raya\\n\\nTermenung\\nRaya hampir tiba\\nTerkenang pada ayahanda\\nYang jauh disana\\n\\nMenuju ku ke pesara mu\\nKu berdoa pada yang Esa\\nAmpunkan dosa-dosa mu'"
      ]
     },
     "execution_count": 244,
     "metadata": {},
     "output_type": "execute_result"
    }
   ],
   "source": [
    "lagu11 = scrape_lyrics('https://genius.com/Aiman-tino-lara-dalam-kerinduan-lyrics')\n",
    "lagu11"
   ]
  },
  {
   "cell_type": "code",
   "execution_count": 246,
   "metadata": {},
   "outputs": [
    {
     "data": {
      "text/plain": [
       "' Termenung Raya hampir tiba Terkenang pada ayahanda Yang jauh disana  Ku eindu mahu bersama mu Bersalaman di hari raya Jatuh air mataku Sedihnya raya ku tanpa mu Mahu gembira mahu kau ada bersamaku  Di hari yang mulia Pasti akan terluka Oh Tuhan tabahkan hatiku Selamat Hari Raya ku ucapkan pada semua saudara  Biarkan ku sepi tanpa mu Di hari yang mulia Ku ucapkan pada mu Selamat Hari Raya  Selamat Hari Raya ku ucapkan pada semua saudara Biarkan ku sepi tanpa mu Di hari yang mulia Ku ucapkan pada mu  Selamat Hari Raya  Termenung Raya hampir tiba Terkenang pada ayahanda Yang jauh disana  Menuju ku ke pesara mu Ku berdoa pada yang Esa Ampunkan dosa-dosa mu'"
      ]
     },
     "execution_count": 246,
     "metadata": {},
     "output_type": "execute_result"
    }
   ],
   "source": [
    "lagu11_1 = lagu11.replace('\\n', ' ')\n",
    "lagu11 = lagu11_1\n",
    "lagu11"
   ]
  },
  {
   "cell_type": "code",
   "execution_count": 252,
   "metadata": {},
   "outputs": [
    {
     "data": {
      "text/plain": [
       "' Wahai Semua insan\\nTakbir Berkumandang akhir ramdhan\\nSiap Sedia pulang ke desa menyambut raya Wahai Semua insan\\nBerjabat Tangan bersama semua\\nPinta Ampun maaf pada mereka jernihkan sengketa Hati Gembira berjumpa semua\\nSanak Saudara pagi raya\\nSedih Terasa mengenang pada\\nInsan Yang dulu kini tiada Selamat Hari raya\\nSelamat Hari raya\\nSambut Sederhana biarlah bersyukur seadanya Selamat Hari raya\\nSelamat Hari raya\\nBahagiakan Keluarga bersyukur seadanya Wahai Semua insan\\nIngat Ingat bila nak berbelanja\\nSedikit Tak apa berpada pada bersyukur nikmatnya Hati Gembira berjumpa semua\\nSanak Saudara pagi raya\\nSedih Terasa mengenang pada\\nInsan Yang dulu kini tiada Selamat Hari raya\\nSelamat Hari raya\\nSambut Sederhana biarlah bersyukur seadanya Selamat Hari raya\\nSelamat Hari raya\\nBahagiakan Keluarga bersyukur seadanya Selamat Hari raya\\nBersyukur Seadanya\\nSelamat Hari raya\\nBersyukur Seadanya Selamat Hari raya\\nSelamat Hari raya\\nSambut Sederhana biarlah bersyukur seadanya Selamat Hari raya\\nSelamat Hari raya\\nBahagiakan Keluarga bersyukur seadanya\\nBahagiakan Keluarga bersyukur seadanya Last.fm Music | Copyright © 2020 CBS Interactive Inc. / All rights reserved.'"
      ]
     },
     "execution_count": 252,
     "metadata": {},
     "output_type": "execute_result"
    }
   ],
   "source": [
    "lagu12 = scrape_lyrics('https://www.metrolyrics.com/bersyukur-seadanya-lyrics-hael-husaini.html')\n",
    "lagu12"
   ]
  },
  {
   "cell_type": "code",
   "execution_count": 253,
   "metadata": {},
   "outputs": [
    {
     "data": {
      "text/plain": [
       "' Wahai Semua insan Takbir Berkumandang akhir ramdhan Siap Sedia pulang ke desa menyambut raya Wahai Semua insan Berjabat Tangan bersama semua Pinta Ampun maaf pada mereka jernihkan sengketa Hati Gembira berjumpa semua Sanak Saudara pagi raya Sedih Terasa mengenang pada Insan Yang dulu kini tiada Selamat Hari raya Selamat Hari raya Sambut Sederhana biarlah bersyukur seadanya Selamat Hari raya Selamat Hari raya Bahagiakan Keluarga bersyukur seadanya Wahai Semua insan Ingat Ingat bila nak berbelanja Sedikit Tak apa berpada pada bersyukur nikmatnya Hati Gembira berjumpa semua Sanak Saudara pagi raya Sedih Terasa mengenang pada Insan Yang dulu kini tiada Selamat Hari raya Selamat Hari raya Sambut Sederhana biarlah bersyukur seadanya Selamat Hari raya Selamat Hari raya Bahagiakan Keluarga bersyukur seadanya Selamat Hari raya Bersyukur Seadanya Selamat Hari raya Bersyukur Seadanya Selamat Hari raya Selamat Hari raya Sambut Sederhana biarlah bersyukur seadanya Selamat Hari raya Selamat Hari raya Bahagiakan Keluarga bersyukur seadanya Bahagiakan Keluarga bersyukur seadanya Last.fm Music | Copyright © 2020 CBS Interactive Inc. / All rights reserved.'"
      ]
     },
     "execution_count": 253,
     "metadata": {},
     "output_type": "execute_result"
    }
   ],
   "source": [
    "lagu12_1 = lagu12.replace('\\n', ' ')\n",
    "lagu12_1"
   ]
  },
  {
   "cell_type": "code",
   "execution_count": 255,
   "metadata": {},
   "outputs": [
    {
     "data": {
      "text/plain": [
       "' Wahai Semua insan Takbir Berkumandang akhir ramdhan Siap Sedia pulang ke desa menyambut raya Wahai Semua insan Berjabat Tangan bersama semua Pinta Ampun maaf pada mereka jernihkan sengketa Hati Gembira berjumpa semua Sanak Saudara pagi raya Sedih Terasa mengenang pada Insan Yang dulu kini tiada Selamat Hari raya Selamat Hari raya Sambut Sederhana biarlah bersyukur seadanya Selamat Hari raya Selamat Hari raya Bahagiakan Keluarga bersyukur seadanya Wahai Semua insan Ingat Ingat bila nak berbelanja Sedikit Tak apa berpada pada bersyukur nikmatnya Hati Gembira berjumpa semua Sanak Saudara pagi raya Sedih Terasa mengenang pada Insan Yang dulu kini tiada Selamat Hari raya Selamat Hari raya Sambut Sederhana biarlah bersyukur seadanya Selamat Hari raya Selamat Hari raya Bahagiakan Keluarga bersyukur seadanya Selamat Hari raya Bersyukur Seadanya Selamat Hari raya Bersyukur Seadanya Selamat Hari raya Selamat Hari raya Sambut Sederhana biarlah bersyukur seadanya Selamat Hari raya Selamat Hari raya Bahagiakan Keluarga bersyukur seadanya Bahagiakan Keluarga bersyukur seadanya '"
      ]
     },
     "execution_count": 255,
     "metadata": {},
     "output_type": "execute_result"
    }
   ],
   "source": [
    "lagu12_2 = lagu12_1.replace('Last.fm Music | Copyright © 2020 CBS Interactive Inc. / All rights reserved.', '')\n",
    "lagu12 = lagu12_2\n",
    "lagu12"
   ]
  },
  {
   "cell_type": "code",
   "execution_count": 261,
   "metadata": {},
   "outputs": [
    {
     "data": {
      "text/plain": [
       "' Lirik Lagu Raya Nusantara – Ismail Izzani, Sufi Rashid & Siti Nordiana ft Rizky Febian & Fatin Shidqia  Kini Tiba hari bahagia\\nYang Dinanti semua\\nDalam Desa atau di kota\\nKemeriahan Dirasa Bersama Meraikan lebaran\\nAidil Fitri syawal mulia\\nHari Raya disambut dengan gembira\\nHari Raya ceriakan suasana\\nKosong Kosong sesama kita merasakan indahnya\\nHari Raya Bunga Api warnai malam\\nMengukir Sejuta senyuman\\nKuih Muih ketupat dan rendang\\nMembuka Selera semua Bersama Meraikan lebaran\\nAidil Fitri syawal mulia\\nHari Raya disambut dengan gembira\\nHari Raya ceriakan suasana\\nKosong Kosong sesama kita merasakan indahnya\\nHari Raya Berikan Masa istimewa\\nSaling Maaf hilangkan duka\\nEratkan Jalinan saudara\\nLebaran Kan lebih bermakna Bersama Meraikan lebaran\\nAidil Fitri syawal mulia\\nHari Raya disambut dengan gembira\\nHari Raya ceriakan suasana\\nKosong Kosong sesama kita merasakan indahnya\\nHari Raya Hari Raya disambut dengan gembira\\nHari Raya ceriakan suasana\\nKosong Kosong sesama kita merasakan indahnya\\nHari Raya Video Klip Lagu Raya Nusantara – Ismail Izzani, Sufi Rashid & Siti Nordiana ft Rizky Febian & Fatin Shidqia  \\n\\n\\n \\n\\n\\n \\n\\n \\n\\n\\n \\r\\n\\t\\t\\t\\r\\n\\t\\t\\t\\t© 2020 Lirik Lagu 2020\\n \\n: : — Up ↑\\n'"
      ]
     },
     "execution_count": 261,
     "metadata": {},
     "output_type": "execute_result"
    }
   ],
   "source": [
    "lagu13 = scrape_lyrics('https://ohlirik.com/tag/lirik-lagu-raya-nusantara/')\n",
    "lagu13"
   ]
  },
  {
   "cell_type": "code",
   "execution_count": 262,
   "metadata": {},
   "outputs": [
    {
     "data": {
      "text/plain": [
       "' Lirik Lagu Raya Nusantara – Ismail Izzani, Sufi Rashid & Siti Nordiana ft Rizky Febian & Fatin Shidqia  Kini Tiba hari bahagia Yang Dinanti semua Dalam Desa atau di kota Kemeriahan Dirasa Bersama Meraikan lebaran Aidil Fitri syawal mulia Hari Raya disambut dengan gembira Hari Raya ceriakan suasana Kosong Kosong sesama kita merasakan indahnya Hari Raya Bunga Api warnai malam Mengukir Sejuta senyuman Kuih Muih ketupat dan rendang Membuka Selera semua Bersama Meraikan lebaran Aidil Fitri syawal mulia Hari Raya disambut dengan gembira Hari Raya ceriakan suasana Kosong Kosong sesama kita merasakan indahnya Hari Raya Berikan Masa istimewa Saling Maaf hilangkan duka Eratkan Jalinan saudara Lebaran Kan lebih bermakna Bersama Meraikan lebaran Aidil Fitri syawal mulia Hari Raya disambut dengan gembira Hari Raya ceriakan suasana Kosong Kosong sesama kita merasakan indahnya Hari Raya Hari Raya disambut dengan gembira Hari Raya ceriakan suasana Kosong Kosong sesama kita merasakan indahnya Hari Raya Video Klip Lagu Raya Nusantara – Ismail Izzani, Sufi Rashid & Siti Nordiana ft Rizky Febian & Fatin Shidqia                 \\r \\t\\t\\t\\r \\t\\t\\t\\t© 2020 Lirik Lagu 2020   : : — Up ↑ '"
      ]
     },
     "execution_count": 262,
     "metadata": {},
     "output_type": "execute_result"
    }
   ],
   "source": [
    "lagu13_1 = lagu13.replace('\\n', ' ')\n",
    "lagu13_1"
   ]
  },
  {
   "cell_type": "code",
   "execution_count": 264,
   "metadata": {},
   "outputs": [
    {
     "data": {
      "text/plain": [
       "' Lirik Lagu Raya Nusantara – Ismail Izzani, Sufi Rashid & Siti Nordiana ft Rizky Febian & Fatin Shidqia  Kini Tiba hari bahagia Yang Dinanti semua Dalam Desa atau di kota Kemeriahan Dirasa Bersama Meraikan lebaran Aidil Fitri syawal mulia Hari Raya disambut dengan gembira Hari Raya ceriakan suasana Kosong Kosong sesama kita merasakan indahnya Hari Raya Bunga Api warnai malam Mengukir Sejuta senyuman Kuih Muih ketupat dan rendang Membuka Selera semua Bersama Meraikan lebaran Aidil Fitri syawal mulia Hari Raya disambut dengan gembira Hari Raya ceriakan suasana Kosong Kosong sesama kita merasakan indahnya Hari Raya Berikan Masa istimewa Saling Maaf hilangkan duka Eratkan Jalinan saudara Lebaran Kan lebih bermakna Bersama Meraikan lebaran Aidil Fitri syawal mulia Hari Raya disambut dengan gembira Hari Raya ceriakan suasana Kosong Kosong sesama kita merasakan indahnya Hari Raya Hari Raya disambut dengan gembira Hari Raya ceriakan suasana Kosong Kosong sesama kita merasakan indahnya Hari Raya'"
      ]
     },
     "execution_count": 264,
     "metadata": {},
     "output_type": "execute_result"
    }
   ],
   "source": [
    "lagu13_2 = lagu13_1.replace(\" Video Klip Lagu Raya Nusantara – Ismail Izzani, Sufi Rashid & Siti Nordiana ft Rizky Febian & Fatin Shidqia                 \\r \\t\\t\\t\\r \\t\\t\\t\\t© 2020 Lirik Lagu 2020   : : — Up ↑ \", '')\n",
    "lagu13_2"
   ]
  },
  {
   "cell_type": "code",
   "execution_count": 266,
   "metadata": {},
   "outputs": [
    {
     "data": {
      "text/plain": [
       "'Kini Tiba hari bahagia Yang Dinanti semua Dalam Desa atau di kota Kemeriahan Dirasa Bersama Meraikan lebaran Aidil Fitri syawal mulia Hari Raya disambut dengan gembira Hari Raya ceriakan suasana Kosong Kosong sesama kita merasakan indahnya Hari Raya Bunga Api warnai malam Mengukir Sejuta senyuman Kuih Muih ketupat dan rendang Membuka Selera semua Bersama Meraikan lebaran Aidil Fitri syawal mulia Hari Raya disambut dengan gembira Hari Raya ceriakan suasana Kosong Kosong sesama kita merasakan indahnya Hari Raya Berikan Masa istimewa Saling Maaf hilangkan duka Eratkan Jalinan saudara Lebaran Kan lebih bermakna Bersama Meraikan lebaran Aidil Fitri syawal mulia Hari Raya disambut dengan gembira Hari Raya ceriakan suasana Kosong Kosong sesama kita merasakan indahnya Hari Raya Hari Raya disambut dengan gembira Hari Raya ceriakan suasana Kosong Kosong sesama kita merasakan indahnya Hari Raya'"
      ]
     },
     "execution_count": 266,
     "metadata": {},
     "output_type": "execute_result"
    }
   ],
   "source": [
    "lagu13_3 = lagu13_2.replace(' Lirik Lagu Raya Nusantara – Ismail Izzani, Sufi Rashid & Siti Nordiana ft Rizky Febian & Fatin Shidqia  ', '')\n",
    "lagu13 = lagu13_3\n",
    "lagu13"
   ]
  },
  {
   "cell_type": "code",
   "execution_count": 268,
   "metadata": {},
   "outputs": [
    {
     "data": {
      "text/plain": [
       "' Tak Dapat aku lukiskan\\nManisnya hidup dengan mu\\nCintamu untuk hamba\\nTerletak elok di kalbu\\nTak sempat hati mengenang\\nKau datang memujuk rindu\\nSejambak mawar cinta\\nMewangi kamar jiwaku\\nKalau rajuk ku dipujuk\\nKalau lari ku dicari\\nBertaut kasih sejunjung sirih\\nBertingkah rindu sama\\nSerentak\\nBertingkah\\nManis manis hidup dengan mu sayang (ewahh)\\nTidak tidak pernah hati tersiksa (ewahh)\\nSiang dan malam\\nHidup berteman\\nRasa bagai disyurga loka\\nBenar benar kata para pujangga (ewahh)\\nKalau kalau cinta merasuk jiwa (ewahh)\\nAlam terbentang menjadi taman\\nTaman kasih kan berdua\\nManis manis hidup dengan mu sayang (ewahh)\\nTidak tidak pernah hati tersiksa (ewahh)\\nSiang dan malam\\nHidup berteman\\nRasa bagai disyurga loka\\nBenar benar kata para pujangga (ewahh)\\nKalau kalau cinta merasuk jiwa (ewahh)\\nAlam terbentang menjadi taman\\nTaman kasih kan berdua\\nSiang dan malan\\nHidup berteman\\nRasa bagai disyurga loka\\nAlam terbentang menjadi taman\\nTaman kasih kan berdua Last.fm Music | Copyright © 2020 CBS Interactive Inc. / All rights reserved.'"
      ]
     },
     "execution_count": 268,
     "metadata": {},
     "output_type": "execute_result"
    }
   ],
   "source": [
    "lagu14 = scrape_lyrics('https://www.metrolyrics.com/ewah-ewah-lyrics-wany-hasrita.html')\n",
    "lagu14"
   ]
  },
  {
   "cell_type": "code",
   "execution_count": 269,
   "metadata": {},
   "outputs": [
    {
     "data": {
      "text/plain": [
       "' Tak Dapat aku lukiskan Manisnya hidup dengan mu Cintamu untuk hamba Terletak elok di kalbu Tak sempat hati mengenang Kau datang memujuk rindu Sejambak mawar cinta Mewangi kamar jiwaku Kalau rajuk ku dipujuk Kalau lari ku dicari Bertaut kasih sejunjung sirih Bertingkah rindu sama Serentak Bertingkah Manis manis hidup dengan mu sayang (ewahh) Tidak tidak pernah hati tersiksa (ewahh) Siang dan malam Hidup berteman Rasa bagai disyurga loka Benar benar kata para pujangga (ewahh) Kalau kalau cinta merasuk jiwa (ewahh) Alam terbentang menjadi taman Taman kasih kan berdua Manis manis hidup dengan mu sayang (ewahh) Tidak tidak pernah hati tersiksa (ewahh) Siang dan malam Hidup berteman Rasa bagai disyurga loka Benar benar kata para pujangga (ewahh) Kalau kalau cinta merasuk jiwa (ewahh) Alam terbentang menjadi taman Taman kasih kan berdua Siang dan malan Hidup berteman Rasa bagai disyurga loka Alam terbentang menjadi taman Taman kasih kan berdua Last.fm Music | Copyright © 2020 CBS Interactive Inc. / All rights reserved.'"
      ]
     },
     "execution_count": 269,
     "metadata": {},
     "output_type": "execute_result"
    }
   ],
   "source": [
    "lagu14_1 = lagu14.replace('\\n', ' ')\n",
    "lagu14_1"
   ]
  },
  {
   "cell_type": "code",
   "execution_count": 271,
   "metadata": {},
   "outputs": [
    {
     "data": {
      "text/plain": [
       "' Tak Dapat aku lukiskan Manisnya hidup dengan mu Cintamu untuk hamba Terletak elok di kalbu Tak sempat hati mengenang Kau datang memujuk rindu Sejambak mawar cinta Mewangi kamar jiwaku Kalau rajuk ku dipujuk Kalau lari ku dicari Bertaut kasih sejunjung sirih Bertingkah rindu sama Serentak Bertingkah Manis manis hidup dengan mu sayang ewahh Tidak tidak pernah hati tersiksa ewahh Siang dan malam Hidup berteman Rasa bagai disyurga loka Benar benar kata para pujangga ewahh Kalau kalau cinta merasuk jiwa ewahh Alam terbentang menjadi taman Taman kasih kan berdua Manis manis hidup dengan mu sayang ewahh Tidak tidak pernah hati tersiksa ewahh Siang dan malam Hidup berteman Rasa bagai disyurga loka Benar benar kata para pujangga ewahh Kalau kalau cinta merasuk jiwa ewahh Alam terbentang menjadi taman Taman kasih kan berdua Siang dan malan Hidup berteman Rasa bagai disyurga loka Alam terbentang menjadi taman Taman kasih kan berdua Last.fm Music | Copyright © 2020 CBS Interactive Inc. / All rights reserved.'"
      ]
     },
     "execution_count": 271,
     "metadata": {},
     "output_type": "execute_result"
    }
   ],
   "source": [
    "lagu14_2 = lagu14_1.replace('(ewahh)', \"ewahh\")\n",
    "lagu14_2"
   ]
  },
  {
   "cell_type": "code",
   "execution_count": 273,
   "metadata": {},
   "outputs": [
    {
     "data": {
      "text/plain": [
       "' Tak Dapat aku lukiskan Manisnya hidup dengan mu Cintamu untuk hamba Terletak elok di kalbu Tak sempat hati mengenang Kau datang memujuk rindu Sejambak mawar cinta Mewangi kamar jiwaku Kalau rajuk ku dipujuk Kalau lari ku dicari Bertaut kasih sejunjung sirih Bertingkah rindu sama Serentak Bertingkah Manis manis hidup dengan mu sayang ewahh Tidak tidak pernah hati tersiksa ewahh Siang dan malam Hidup berteman Rasa bagai disyurga loka Benar benar kata para pujangga ewahh Kalau kalau cinta merasuk jiwa ewahh Alam terbentang menjadi taman Taman kasih kan berdua Manis manis hidup dengan mu sayang ewahh Tidak tidak pernah hati tersiksa ewahh Siang dan malam Hidup berteman Rasa bagai disyurga loka Benar benar kata para pujangga ewahh Kalau kalau cinta merasuk jiwa ewahh Alam terbentang menjadi taman Taman kasih kan berdua Siang dan malan Hidup berteman Rasa bagai disyurga loka Alam terbentang menjadi taman Taman kasih kan berdua'"
      ]
     },
     "execution_count": 273,
     "metadata": {},
     "output_type": "execute_result"
    }
   ],
   "source": [
    "lagu14_3 = lagu14_2.replace(' Last.fm Music | Copyright © 2020 CBS Interactive Inc. / All rights reserved.', \"\")\n",
    "lagu14 = lagu14_3\n",
    "lagu14"
   ]
  },
  {
   "cell_type": "code",
   "execution_count": 274,
   "metadata": {},
   "outputs": [
    {
     "data": {
      "text/plain": [
       "' Lirik Lagu > Lzzay > Lirik Lagu Joget Selfie Raya – Lzzay Lirik Lagu Joget Selfie Raya – Lzzay Bila tibanya hari raya\\nSemuanya gigih nak bergaya\\nCantik berkebaya segak bercelana\\nManis sekali si hijabster Gincu si dara hai merah menyala\\nDah macam wak doyok kumis si teruna\\nBersama keluarga ramai-ramai melawa\\nGara-gara nak berselfie raya Sanak saudara hai tua dan muda\\nGila-gila bergaya selamba\\nSahabat juga hai jiran tetangga\\nKekasih hati pun turut sama Tapi janganlah leka\\nBiar berpada pada\\nUpload nanti letaklah throwback raya Andai pernah adanya sengketa\\nSila unlocked hati bersihkan jiwa\\nBermaafan lah kita kerna ku tertanya\\nTertanyakan khabar mu di sana Dikala gembira di hari mulia\\nBeringatlah juga pada yang tiada\\nBila sampai masa untuk ke pusara\\nBerdoalah jangan berselfie pula Sanak saudara hai tua dan muda\\nGila-gila bergaya selamba\\nSahabat juga hai jiran tetangga\\nKekasih hati pun turut sama Tapi janganlah leka\\nBiar berpada pada\\nUpload nanti letaklah throwback raya Sanak saudara hai tua dan muda\\nGila-gila bergaya selamba\\nSahabat juga hai jiran tetangga\\nKekasih hati pun turut sama Tapi janganlah leka\\nBiar berpada pada\\nUpload nanti letaklah throwback raya Sambil sambil makan kuih raya\\nKoyak poket kena bagi duit raya\\nMemang nasihat pohon terasa\\nKu nyanyikan seloka insta raya\\nKu ucapkan selamat hari raya Video Klip Lagu Joget Selfie Raya – Lzzay  Joget Selfie RayaJoget Selfie Raya lirikJoget Selfie Raya lirik laguJoget Selfie Raya Lzzay lirikJoget Selfie Raya Lzzay lirik laguLirik Joget Selfie RayaLirik Lagu Joget Selfie RayaLirik Lagu Joget Selfie Raya LzzayLirik lagu Lzzay Joget Selfie RayaLirik Lzzay Joget Selfie RayaLzzay Joget Selfie Raya \\n\\n\\n \\n\\n\\n \\n\\n \\n\\n\\n \\r\\n\\t\\t\\t\\r\\n\\t\\t\\t\\t© 2020 Lirik Lagu 2020\\n \\n: : — Up ↑\\n'"
      ]
     },
     "execution_count": 274,
     "metadata": {},
     "output_type": "execute_result"
    }
   ],
   "source": [
    "lagu15 = scrape_lyrics('https://ohlirik.com/lirik-lagu-joget-selfie-raya-lzzay/')\n",
    "lagu15"
   ]
  },
  {
   "cell_type": "code",
   "execution_count": 275,
   "metadata": {},
   "outputs": [
    {
     "data": {
      "text/plain": [
       "' Lirik Lagu > Lzzay > Lirik Lagu Joget Selfie Raya – Lzzay Lirik Lagu Joget Selfie Raya – Lzzay Bila tibanya hari raya Semuanya gigih nak bergaya Cantik berkebaya segak bercelana Manis sekali si hijabster Gincu si dara hai merah menyala Dah macam wak doyok kumis si teruna Bersama keluarga ramai-ramai melawa Gara-gara nak berselfie raya Sanak saudara hai tua dan muda Gila-gila bergaya selamba Sahabat juga hai jiran tetangga Kekasih hati pun turut sama Tapi janganlah leka Biar berpada pada Upload nanti letaklah throwback raya Andai pernah adanya sengketa Sila unlocked hati bersihkan jiwa Bermaafan lah kita kerna ku tertanya Tertanyakan khabar mu di sana Dikala gembira di hari mulia Beringatlah juga pada yang tiada Bila sampai masa untuk ke pusara Berdoalah jangan berselfie pula Sanak saudara hai tua dan muda Gila-gila bergaya selamba Sahabat juga hai jiran tetangga Kekasih hati pun turut sama Tapi janganlah leka Biar berpada pada Upload nanti letaklah throwback raya Sanak saudara hai tua dan muda Gila-gila bergaya selamba Sahabat juga hai jiran tetangga Kekasih hati pun turut sama Tapi janganlah leka Biar berpada pada Upload nanti letaklah throwback raya Sambil sambil makan kuih raya Koyak poket kena bagi duit raya Memang nasihat pohon terasa Ku nyanyikan seloka insta raya Ku ucapkan selamat hari raya Video Klip Lagu Joget Selfie Raya – Lzzay  Joget Selfie RayaJoget Selfie Raya lirikJoget Selfie Raya lirik laguJoget Selfie Raya Lzzay lirikJoget Selfie Raya Lzzay lirik laguLirik Joget Selfie RayaLirik Lagu Joget Selfie RayaLirik Lagu Joget Selfie Raya LzzayLirik lagu Lzzay Joget Selfie RayaLirik Lzzay Joget Selfie RayaLzzay Joget Selfie Raya                \\r \\t\\t\\t\\r \\t\\t\\t\\t© 2020 Lirik Lagu 2020   : : — Up ↑ '"
      ]
     },
     "execution_count": 275,
     "metadata": {},
     "output_type": "execute_result"
    }
   ],
   "source": [
    "lagu15_1 = lagu15.replace('\\n', ' ')\n",
    "lagu15_1"
   ]
  },
  {
   "cell_type": "code",
   "execution_count": 276,
   "metadata": {},
   "outputs": [
    {
     "data": {
      "text/plain": [
       "'Bila tibanya hari raya Semuanya gigih nak bergaya Cantik berkebaya segak bercelana Manis sekali si hijabster Gincu si dara hai merah menyala Dah macam wak doyok kumis si teruna Bersama keluarga ramai-ramai melawa Gara-gara nak berselfie raya Sanak saudara hai tua dan muda Gila-gila bergaya selamba Sahabat juga hai jiran tetangga Kekasih hati pun turut sama Tapi janganlah leka Biar berpada pada Upload nanti letaklah throwback raya Andai pernah adanya sengketa Sila unlocked hati bersihkan jiwa Bermaafan lah kita kerna ku tertanya Tertanyakan khabar mu di sana Dikala gembira di hari mulia Beringatlah juga pada yang tiada Bila sampai masa untuk ke pusara Berdoalah jangan berselfie pula Sanak saudara hai tua dan muda Gila-gila bergaya selamba Sahabat juga hai jiran tetangga Kekasih hati pun turut sama Tapi janganlah leka Biar berpada pada Upload nanti letaklah throwback raya Sanak saudara hai tua dan muda Gila-gila bergaya selamba Sahabat juga hai jiran tetangga Kekasih hati pun turut sama Tapi janganlah leka Biar berpada pada Upload nanti letaklah throwback raya Sambil sambil makan kuih raya Koyak poket kena bagi duit raya Memang nasihat pohon terasa Ku nyanyikan seloka insta raya Ku ucapkan selamat hari raya Video Klip Lagu Joget Selfie Raya – Lzzay  Joget Selfie RayaJoget Selfie Raya lirikJoget Selfie Raya lirik laguJoget Selfie Raya Lzzay lirikJoget Selfie Raya Lzzay lirik laguLirik Joget Selfie RayaLirik Lagu Joget Selfie RayaLirik Lagu Joget Selfie Raya LzzayLirik lagu Lzzay Joget Selfie RayaLirik Lzzay Joget Selfie RayaLzzay Joget Selfie Raya                \\r \\t\\t\\t\\r \\t\\t\\t\\t© 2020 Lirik Lagu 2020   : : — Up ↑ '"
      ]
     },
     "execution_count": 276,
     "metadata": {},
     "output_type": "execute_result"
    }
   ],
   "source": [
    "lagu15_2 = lagu15_1.replace(' Lirik Lagu > Lzzay > Lirik Lagu Joget Selfie Raya – Lzzay Lirik Lagu Joget Selfie Raya – Lzzay ', '')\n",
    "lagu15_2"
   ]
  },
  {
   "cell_type": "code",
   "execution_count": 278,
   "metadata": {},
   "outputs": [
    {
     "data": {
      "text/plain": [
       "'Bila tibanya hari raya Semuanya gigih nak bergaya Cantik berkebaya segak bercelana Manis sekali si hijabster Gincu si dara hai merah menyala Dah macam wak doyok kumis si teruna Bersama keluarga ramai-ramai melawa Gara-gara nak berselfie raya Sanak saudara hai tua dan muda Gila-gila bergaya selamba Sahabat juga hai jiran tetangga Kekasih hati pun turut sama Tapi janganlah leka Biar berpada pada Upload nanti letaklah throwback raya Andai pernah adanya sengketa Sila unlocked hati bersihkan jiwa Bermaafan lah kita kerna ku tertanya Tertanyakan khabar mu di sana Dikala gembira di hari mulia Beringatlah juga pada yang tiada Bila sampai masa untuk ke pusara Berdoalah jangan berselfie pula Sanak saudara hai tua dan muda Gila-gila bergaya selamba Sahabat juga hai jiran tetangga Kekasih hati pun turut sama Tapi janganlah leka Biar berpada pada Upload nanti letaklah throwback raya Sanak saudara hai tua dan muda Gila-gila bergaya selamba Sahabat juga hai jiran tetangga Kekasih hati pun turut sama Tapi janganlah leka Biar berpada pada Upload nanti letaklah throwback raya Sambil sambil makan kuih raya Koyak poket kena bagi duit raya Memang nasihat pohon terasa Ku nyanyikan seloka insta raya Ku ucapkan selamat hari raya'"
      ]
     },
     "execution_count": 278,
     "metadata": {},
     "output_type": "execute_result"
    }
   ],
   "source": [
    "lagu15_3 = lagu15_2.replace(' Video Klip Lagu Joget Selfie Raya – Lzzay  Joget Selfie RayaJoget Selfie Raya lirikJoget Selfie Raya lirik laguJoget Selfie Raya Lzzay lirikJoget Selfie Raya Lzzay lirik laguLirik Joget Selfie RayaLirik Lagu Joget Selfie RayaLirik Lagu Joget Selfie Raya LzzayLirik lagu Lzzay Joget Selfie RayaLirik Lzzay Joget Selfie RayaLzzay Joget Selfie Raya                \\r \\t\\t\\t\\r \\t\\t\\t\\t© 2020 Lirik Lagu 2020   : : — Up ↑ ', '')\n",
    "lagu15 = lagu15_3\n",
    "lagu15"
   ]
  },
  {
   "cell_type": "code",
   "execution_count": 279,
   "metadata": {},
   "outputs": [
    {
     "data": {
      "text/plain": [
       "' Lirik Lagu > Forteen > Lirik Lagu 10 Jari Aidilfitri – Forteen  Lirik Lagu sepuluh Jari Aidilfitri – Forteen  Sibuknya orang membakar lemang\\nMengatur persiapan syawal tiba\\nTak sabar rasanya mahu pulang\\nke kampung untuk Hari raya Bertemu keluarga yang tercinta\\nSetelah setahun tak berjumpa\\nTerima pemberian dari hati\\n10 Jari Aidilfitri [Korus]\\nOhh syukur padaNya kita berjumpa\\nOhh sekali lagi di Syawal ini\\nBersama sanak saudara\\nMenikmati Hari Raya Jamulah beraneka hidangan\\nBermesra dan saling bermaafan\\nTerima pemberian dari hati\\n10 Jari Aidilfitri Hari Raya hari mulia\\nTerimalah sepuluh jari Aidilfitri [Korus]\\nOhh syukur padaNya kita berjumpa\\nOhh sekali lagi di Syawal ini\\nBersama sanak saudara\\nMenikmati Hari Raya Jamulah beraneka hidangan\\nBermesra dan saling bermaafan\\nTerima pemberian dari hati\\n10 Jari Aidilfitri\\n10 Jari Aidilfitri Video Klip Lagu sepuluh Jari Aidilfitri – Forteen  10 Jari Aidilfitri10 Jari Aidilfitri Forteen lagu10 Jari Aidilfitri Forteen lirik10 Jari Aidilfitri Forteen lirik lagu10 Jari Aidilfitri lagu10 Jari Aidilfitri lirik10 Jari Aidilfitri lirik lagu10 Jari Aidilfitri video laguForteenForteen 10 Jari AidilfitriForteen laguForteen lirikForteen lirik laguForteen sepuluh Jari AidilfitriForteen video laguLagu 10 Jari AidilfitriLagu ForteenLagu Forteen 10 Jari AidilfitriLagu Forteen sepuluh Jari AidilfitriLagu sepuluh Jari AidilfitriLirik 10 Jari AidilfitriLirik ForteenLirik Forteen 10 Jari AidilfitriLirik Forteen sepuluh Jari AidilfitriLirik LaguLirik Lagu 10 Jari AidilfitriLirik Lagu 10 Jari Aidilfitri ForteenLirik Lagu ForteenLirik lagu Forteen 10 Jari AidilfitriLirik lagu Forteen sepuluh Jari AidilfitriLirik Lagu sepuluh Jari AidilfitriLirik Lagu sepuluh Jari Aidilfitri ForteenLirik sepuluh Jari Aidilfitrisepuluh Jari Aidilfitrisepuluh Jari Aidilfitri Forteen lagusepuluh Jari Aidilfitri Forteen liriksepuluh Jari Aidilfitri Forteen lirik lagusepuluh Jari Aidilfitri lagusepuluh Jari Aidilfitri liriksepuluh Jari Aidilfitri lirik lagusepuluh Jari Aidilfitri video laguVideo 10 Jari AidilfitriVideo ForteenVideo Forteen 10 Jari AidilfitriVideo Forteen sepuluh Jari AidilfitriVideo Lagu 10 Jari AidilfitriVideo Lagu ForteenVideo Lagu Forteen 10 Jari AidilfitriVideo Lagu Forteen sepuluh Jari AidilfitriVideo Lagu sepuluh Jari AidilfitriVideo sepuluh Jari Aidilfitri \\n\\n\\n \\n\\n\\n \\n\\n \\n\\n\\n \\r\\n\\t\\t\\t\\r\\n\\t\\t\\t\\t© 2020 Lirik Lagu 2020\\n \\n: : — Up ↑\\n'"
      ]
     },
     "execution_count": 279,
     "metadata": {},
     "output_type": "execute_result"
    }
   ],
   "source": [
    "lagu16 = scrape_lyrics('https://ohlirik.com/lirik-lagu-10-jari-aidilfitri-forteen/')\n",
    "lagu16"
   ]
  },
  {
   "cell_type": "code",
   "execution_count": 280,
   "metadata": {},
   "outputs": [
    {
     "data": {
      "text/plain": [
       "' Lirik Lagu > Forteen > Lirik Lagu 10 Jari Aidilfitri – Forteen  Lirik Lagu sepuluh Jari Aidilfitri – Forteen  Sibuknya orang membakar lemang Mengatur persiapan syawal tiba Tak sabar rasanya mahu pulang ke kampung untuk Hari raya Bertemu keluarga yang tercinta Setelah setahun tak berjumpa Terima pemberian dari hati 10 Jari Aidilfitri [Korus] Ohh syukur padaNya kita berjumpa Ohh sekali lagi di Syawal ini Bersama sanak saudara Menikmati Hari Raya Jamulah beraneka hidangan Bermesra dan saling bermaafan Terima pemberian dari hati 10 Jari Aidilfitri Hari Raya hari mulia Terimalah sepuluh jari Aidilfitri [Korus] Ohh syukur padaNya kita berjumpa Ohh sekali lagi di Syawal ini Bersama sanak saudara Menikmati Hari Raya Jamulah beraneka hidangan Bermesra dan saling bermaafan Terima pemberian dari hati 10 Jari Aidilfitri 10 Jari Aidilfitri Video Klip Lagu sepuluh Jari Aidilfitri – Forteen  10 Jari Aidilfitri10 Jari Aidilfitri Forteen lagu10 Jari Aidilfitri Forteen lirik10 Jari Aidilfitri Forteen lirik lagu10 Jari Aidilfitri lagu10 Jari Aidilfitri lirik10 Jari Aidilfitri lirik lagu10 Jari Aidilfitri video laguForteenForteen 10 Jari AidilfitriForteen laguForteen lirikForteen lirik laguForteen sepuluh Jari AidilfitriForteen video laguLagu 10 Jari AidilfitriLagu ForteenLagu Forteen 10 Jari AidilfitriLagu Forteen sepuluh Jari AidilfitriLagu sepuluh Jari AidilfitriLirik 10 Jari AidilfitriLirik ForteenLirik Forteen 10 Jari AidilfitriLirik Forteen sepuluh Jari AidilfitriLirik LaguLirik Lagu 10 Jari AidilfitriLirik Lagu 10 Jari Aidilfitri ForteenLirik Lagu ForteenLirik lagu Forteen 10 Jari AidilfitriLirik lagu Forteen sepuluh Jari AidilfitriLirik Lagu sepuluh Jari AidilfitriLirik Lagu sepuluh Jari Aidilfitri ForteenLirik sepuluh Jari Aidilfitrisepuluh Jari Aidilfitrisepuluh Jari Aidilfitri Forteen lagusepuluh Jari Aidilfitri Forteen liriksepuluh Jari Aidilfitri Forteen lirik lagusepuluh Jari Aidilfitri lagusepuluh Jari Aidilfitri liriksepuluh Jari Aidilfitri lirik lagusepuluh Jari Aidilfitri video laguVideo 10 Jari AidilfitriVideo ForteenVideo Forteen 10 Jari AidilfitriVideo Forteen sepuluh Jari AidilfitriVideo Lagu 10 Jari AidilfitriVideo Lagu ForteenVideo Lagu Forteen 10 Jari AidilfitriVideo Lagu Forteen sepuluh Jari AidilfitriVideo Lagu sepuluh Jari AidilfitriVideo sepuluh Jari Aidilfitri                \\r \\t\\t\\t\\r \\t\\t\\t\\t© 2020 Lirik Lagu 2020   : : — Up ↑ '"
      ]
     },
     "execution_count": 280,
     "metadata": {},
     "output_type": "execute_result"
    }
   ],
   "source": [
    "lagu16_1 = lagu16.replace('\\n', ' ')\n",
    "lagu16_1"
   ]
  },
  {
   "cell_type": "code",
   "execution_count": 283,
   "metadata": {},
   "outputs": [
    {
     "data": {
      "text/plain": [
       "'Sibuknya orang membakar lemang Mengatur persiapan syawal tiba Tak sabar rasanya mahu pulang ke kampung untuk Hari raya Bertemu keluarga yang tercinta Setelah setahun tak berjumpa Terima pemberian dari hati 10 Jari Aidilfitri [Korus] Ohh syukur padaNya kita berjumpa Ohh sekali lagi di Syawal ini Bersama sanak saudara Menikmati Hari Raya Jamulah beraneka hidangan Bermesra dan saling bermaafan Terima pemberian dari hati 10 Jari Aidilfitri Hari Raya hari mulia Terimalah sepuluh jari Aidilfitri [Korus] Ohh syukur padaNya kita berjumpa Ohh sekali lagi di Syawal ini Bersama sanak saudara Menikmati Hari Raya Jamulah beraneka hidangan Bermesra dan saling bermaafan Terima pemberian dari hati 10 Jari Aidilfitri 10 Jari Aidilfitri Video Klip Lagu sepuluh Jari Aidilfitri – Forteen  10 Jari Aidilfitri10 Jari Aidilfitri Forteen lagu10 Jari Aidilfitri Forteen lirik10 Jari Aidilfitri Forteen lirik lagu10 Jari Aidilfitri lagu10 Jari Aidilfitri lirik10 Jari Aidilfitri lirik lagu10 Jari Aidilfitri video laguForteenForteen 10 Jari AidilfitriForteen laguForteen lirikForteen lirik laguForteen sepuluh Jari AidilfitriForteen video laguLagu 10 Jari AidilfitriLagu ForteenLagu Forteen 10 Jari AidilfitriLagu Forteen sepuluh Jari AidilfitriLagu sepuluh Jari AidilfitriLirik 10 Jari AidilfitriLirik ForteenLirik Forteen 10 Jari AidilfitriLirik Forteen sepuluh Jari AidilfitriLirik LaguLirik Lagu 10 Jari AidilfitriLirik Lagu 10 Jari Aidilfitri ForteenLirik Lagu ForteenLirik lagu Forteen 10 Jari AidilfitriLirik lagu Forteen sepuluh Jari AidilfitriLirik Lagu sepuluh Jari AidilfitriLirik Lagu sepuluh Jari Aidilfitri ForteenLirik sepuluh Jari Aidilfitrisepuluh Jari Aidilfitrisepuluh Jari Aidilfitri Forteen lagusepuluh Jari Aidilfitri Forteen liriksepuluh Jari Aidilfitri Forteen lirik lagusepuluh Jari Aidilfitri lagusepuluh Jari Aidilfitri liriksepuluh Jari Aidilfitri lirik lagusepuluh Jari Aidilfitri video laguVideo 10 Jari AidilfitriVideo ForteenVideo Forteen 10 Jari AidilfitriVideo Forteen sepuluh Jari AidilfitriVideo Lagu 10 Jari AidilfitriVideo Lagu ForteenVideo Lagu Forteen 10 Jari AidilfitriVideo Lagu Forteen sepuluh Jari AidilfitriVideo Lagu sepuluh Jari AidilfitriVideo sepuluh Jari Aidilfitri                \\r \\t\\t\\t\\r \\t\\t\\t\\t© 2020 Lirik Lagu 2020   : : — Up ↑ '"
      ]
     },
     "execution_count": 283,
     "metadata": {},
     "output_type": "execute_result"
    }
   ],
   "source": [
    "lagu16_2 = lagu16_1.replace(' Lirik Lagu > Forteen > Lirik Lagu 10 Jari Aidilfitri – Forteen  Lirik Lagu sepuluh Jari Aidilfitri – Forteen  ', '')\n",
    "lagu16_2"
   ]
  },
  {
   "cell_type": "code",
   "execution_count": 284,
   "metadata": {},
   "outputs": [
    {
     "data": {
      "text/plain": [
       "'Sibuknya orang membakar lemang Mengatur persiapan syawal tiba Tak sabar rasanya mahu pulang ke kampung untuk Hari raya Bertemu keluarga yang tercinta Setelah setahun tak berjumpa Terima pemberian dari hati 10 Jari Aidilfitri [Korus] Ohh syukur padaNya kita berjumpa Ohh sekali lagi di Syawal ini Bersama sanak saudara Menikmati Hari Raya Jamulah beraneka hidangan Bermesra dan saling bermaafan Terima pemberian dari hati 10 Jari Aidilfitri Hari Raya hari mulia Terimalah sepuluh jari Aidilfitri [Korus] Ohh syukur padaNya kita berjumpa Ohh sekali lagi di Syawal ini Bersama sanak saudara Menikmati Hari Raya Jamulah beraneka hidangan Bermesra dan saling bermaafan Terima pemberian dari hati 10 Jari Aidilfitri 10 Jari Aidilfitri '"
      ]
     },
     "execution_count": 284,
     "metadata": {},
     "output_type": "execute_result"
    }
   ],
   "source": [
    "lagu16_3 = lagu16_2.replace('Video Klip Lagu sepuluh Jari Aidilfitri – Forteen  10 Jari Aidilfitri10 Jari Aidilfitri Forteen lagu10 Jari Aidilfitri Forteen lirik10 Jari Aidilfitri Forteen lirik lagu10 Jari Aidilfitri lagu10 Jari Aidilfitri lirik10 Jari Aidilfitri lirik lagu10 Jari Aidilfitri video laguForteenForteen 10 Jari AidilfitriForteen laguForteen lirikForteen lirik laguForteen sepuluh Jari AidilfitriForteen video laguLagu 10 Jari AidilfitriLagu ForteenLagu Forteen 10 Jari AidilfitriLagu Forteen sepuluh Jari AidilfitriLagu sepuluh Jari AidilfitriLirik 10 Jari AidilfitriLirik ForteenLirik Forteen 10 Jari AidilfitriLirik Forteen sepuluh Jari AidilfitriLirik LaguLirik Lagu 10 Jari AidilfitriLirik Lagu 10 Jari Aidilfitri ForteenLirik Lagu ForteenLirik lagu Forteen 10 Jari AidilfitriLirik lagu Forteen sepuluh Jari AidilfitriLirik Lagu sepuluh Jari AidilfitriLirik Lagu sepuluh Jari Aidilfitri ForteenLirik sepuluh Jari Aidilfitrisepuluh Jari Aidilfitrisepuluh Jari Aidilfitri Forteen lagusepuluh Jari Aidilfitri Forteen liriksepuluh Jari Aidilfitri Forteen lirik lagusepuluh Jari Aidilfitri lagusepuluh Jari Aidilfitri liriksepuluh Jari Aidilfitri lirik lagusepuluh Jari Aidilfitri video laguVideo 10 Jari AidilfitriVideo ForteenVideo Forteen 10 Jari AidilfitriVideo Forteen sepuluh Jari AidilfitriVideo Lagu 10 Jari AidilfitriVideo Lagu ForteenVideo Lagu Forteen 10 Jari AidilfitriVideo Lagu Forteen sepuluh Jari AidilfitriVideo Lagu sepuluh Jari AidilfitriVideo sepuluh Jari Aidilfitri                \\r \\t\\t\\t\\r \\t\\t\\t\\t© 2020 Lirik Lagu 2020   : : — Up ↑ ', '')\n",
    "lagu16_3"
   ]
  },
  {
   "cell_type": "code",
   "execution_count": 285,
   "metadata": {},
   "outputs": [
    {
     "data": {
      "text/plain": [
       "'Sibuknya orang membakar lemang Mengatur persiapan syawal tiba Tak sabar rasanya mahu pulang ke kampung untuk Hari raya Bertemu keluarga yang tercinta Setelah setahun tak berjumpa Terima pemberian dari hati sepuluh Jari Aidilfitri [Korus] Ohh syukur padaNya kita berjumpa Ohh sekali lagi di Syawal ini Bersama sanak saudara Menikmati Hari Raya Jamulah beraneka hidangan Bermesra dan saling bermaafan Terima pemberian dari hati sepuluh Jari Aidilfitri Hari Raya hari mulia Terimalah sepuluh jari Aidilfitri [Korus] Ohh syukur padaNya kita berjumpa Ohh sekali lagi di Syawal ini Bersama sanak saudara Menikmati Hari Raya Jamulah beraneka hidangan Bermesra dan saling bermaafan Terima pemberian dari hati sepuluh Jari Aidilfitri sepuluh Jari Aidilfitri '"
      ]
     },
     "execution_count": 285,
     "metadata": {},
     "output_type": "execute_result"
    }
   ],
   "source": [
    "lagu16_4 = lagu16_3.replace('10', 'sepuluh')\n",
    "lagu16_4"
   ]
  },
  {
   "cell_type": "code",
   "execution_count": 287,
   "metadata": {},
   "outputs": [
    {
     "data": {
      "text/plain": [
       "'Sibuknya orang membakar lemang Mengatur persiapan syawal tiba Tak sabar rasanya mahu pulang ke kampung untuk Hari raya Bertemu keluarga yang tercinta Setelah setahun tak berjumpa Terima pemberian dari hati sepuluh Jari Aidilfitri Ohh syukur padaNya kita berjumpa Ohh sekali lagi di Syawal ini Bersama sanak saudara Menikmati Hari Raya Jamulah beraneka hidangan Bermesra dan saling bermaafan Terima pemberian dari hati sepuluh Jari Aidilfitri Hari Raya hari mulia Terimalah sepuluh jari Aidilfitri Ohh syukur padaNya kita berjumpa Ohh sekali lagi di Syawal ini Bersama sanak saudara Menikmati Hari Raya Jamulah beraneka hidangan Bermesra dan saling bermaafan Terima pemberian dari hati sepuluh Jari Aidilfitri sepuluh Jari Aidilfitri '"
      ]
     },
     "execution_count": 287,
     "metadata": {},
     "output_type": "execute_result"
    }
   ],
   "source": [
    "lagu16_5 = lagu16_4.replace('[Korus] ', '')\n",
    "lagu16 = lagu16_5\n",
    "lagu16"
   ]
  },
  {
   "cell_type": "code",
   "execution_count": 288,
   "metadata": {},
   "outputs": [
    {
     "data": {
      "text/plain": [
       "' Lirik Lagu > Projektor Band > Lirik Lagu Sudah Ku Tahu Raya – Projektor Band Lirik Lagu Sudah Ku Tahu Raya – Projektor Band Kini Tiba bulan Ramadan\\nCukup Sebulan kita berpuasa\\nMenunggu Tiba Syawal menjelma\\nKita Raihkan bersama-sama Pulanglah Anak-anak yang tercinta\\nIbu Dan ayah amat merindukanmu\\nAir Mata mereka sering berduka\\nBerharap Kita semua disampingnya Rakan Dan taulan semua\\nMari Menyambut raya bersama\\nKuih Muih yang disedia\\nUntuk Dijamu bersama kita Selamat Menyambut\\nHari Yang mulia Raya Dah pun tiba\\nJangan Berduka jangan terleka\\nRaya Harus gembira\\nBersama-sama Sanak saudara Jangan Lupa ibu ayah yang tercinta\\nSelamanya Rakan Dan taulan semua\\nMari Menyambut raya bersama\\nKuih Muih yang disedia\\nUntuk Dijamu bersama kita Selamat Menyambut\\nHari Yang mulia Raya Dah pun tiba\\nJangan Berduka jangan terleka\\nRaya Harus gembira\\nBersama-sama Sanak saudara Jangan Lupa ibu ayah yang tercinta\\nSelamanya Video Klip Lagu Sudah Ku Tahu Raya – Projektor Band  Lirik lagu Projektor Band Sudah Ku Tahu RayaLirik Lagu Sudah Ku Tahu RayaLirik Lagu Sudah Ku Tahu Raya Projektor BandLirik Projektor Band Sudah Ku Tahu RayaLirik Sudah Ku Tahu RayaProjektor Band Sudah Ku Tahu RayaSudah Ku Tahu RayaSudah Ku Tahu Raya lirikSudah Ku Tahu Raya lirik laguSudah Ku Tahu Raya Projektor Band lirikSudah Ku Tahu Raya Projektor Band lirik lagu \\n\\n\\n \\n\\n\\n \\n\\n \\n\\n\\n \\r\\n\\t\\t\\t\\r\\n\\t\\t\\t\\t© 2020 Lirik Lagu 2020\\n \\n: : — Up ↑\\n'"
      ]
     },
     "execution_count": 288,
     "metadata": {},
     "output_type": "execute_result"
    }
   ],
   "source": [
    "lagu17 = scrape_lyrics('https://ohlirik.com/lirik-lagu-sudah-ku-tahu-raya-projektor-band/')\n",
    "lagu17"
   ]
  },
  {
   "cell_type": "code",
   "execution_count": 289,
   "metadata": {},
   "outputs": [
    {
     "data": {
      "text/plain": [
       "' Lirik Lagu > Projektor Band > Lirik Lagu Sudah Ku Tahu Raya – Projektor Band Lirik Lagu Sudah Ku Tahu Raya – Projektor Band Kini Tiba bulan Ramadan Cukup Sebulan kita berpuasa Menunggu Tiba Syawal menjelma Kita Raihkan bersama-sama Pulanglah Anak-anak yang tercinta Ibu Dan ayah amat merindukanmu Air Mata mereka sering berduka Berharap Kita semua disampingnya Rakan Dan taulan semua Mari Menyambut raya bersama Kuih Muih yang disedia Untuk Dijamu bersama kita Selamat Menyambut Hari Yang mulia Raya Dah pun tiba Jangan Berduka jangan terleka Raya Harus gembira Bersama-sama Sanak saudara Jangan Lupa ibu ayah yang tercinta Selamanya Rakan Dan taulan semua Mari Menyambut raya bersama Kuih Muih yang disedia Untuk Dijamu bersama kita Selamat Menyambut Hari Yang mulia Raya Dah pun tiba Jangan Berduka jangan terleka Raya Harus gembira Bersama-sama Sanak saudara Jangan Lupa ibu ayah yang tercinta Selamanya Video Klip Lagu Sudah Ku Tahu Raya – Projektor Band  Lirik lagu Projektor Band Sudah Ku Tahu RayaLirik Lagu Sudah Ku Tahu RayaLirik Lagu Sudah Ku Tahu Raya Projektor BandLirik Projektor Band Sudah Ku Tahu RayaLirik Sudah Ku Tahu RayaProjektor Band Sudah Ku Tahu RayaSudah Ku Tahu RayaSudah Ku Tahu Raya lirikSudah Ku Tahu Raya lirik laguSudah Ku Tahu Raya Projektor Band lirikSudah Ku Tahu Raya Projektor Band lirik lagu                \\r \\t\\t\\t\\r \\t\\t\\t\\t© 2020 Lirik Lagu 2020   : : — Up ↑ '"
      ]
     },
     "execution_count": 289,
     "metadata": {},
     "output_type": "execute_result"
    }
   ],
   "source": [
    "lagu17_1 = lagu17.replace('\\n', ' ')\n",
    "lagu17_1"
   ]
  },
  {
   "cell_type": "code",
   "execution_count": 290,
   "metadata": {},
   "outputs": [
    {
     "data": {
      "text/plain": [
       "'Kini Tiba bulan Ramadan Cukup Sebulan kita berpuasa Menunggu Tiba Syawal menjelma Kita Raihkan bersama-sama Pulanglah Anak-anak yang tercinta Ibu Dan ayah amat merindukanmu Air Mata mereka sering berduka Berharap Kita semua disampingnya Rakan Dan taulan semua Mari Menyambut raya bersama Kuih Muih yang disedia Untuk Dijamu bersama kita Selamat Menyambut Hari Yang mulia Raya Dah pun tiba Jangan Berduka jangan terleka Raya Harus gembira Bersama-sama Sanak saudara Jangan Lupa ibu ayah yang tercinta Selamanya Rakan Dan taulan semua Mari Menyambut raya bersama Kuih Muih yang disedia Untuk Dijamu bersama kita Selamat Menyambut Hari Yang mulia Raya Dah pun tiba Jangan Berduka jangan terleka Raya Harus gembira Bersama-sama Sanak saudara Jangan Lupa ibu ayah yang tercinta Selamanya Video Klip Lagu Sudah Ku Tahu Raya – Projektor Band  Lirik lagu Projektor Band Sudah Ku Tahu RayaLirik Lagu Sudah Ku Tahu RayaLirik Lagu Sudah Ku Tahu Raya Projektor BandLirik Projektor Band Sudah Ku Tahu RayaLirik Sudah Ku Tahu RayaProjektor Band Sudah Ku Tahu RayaSudah Ku Tahu RayaSudah Ku Tahu Raya lirikSudah Ku Tahu Raya lirik laguSudah Ku Tahu Raya Projektor Band lirikSudah Ku Tahu Raya Projektor Band lirik lagu                \\r \\t\\t\\t\\r \\t\\t\\t\\t© 2020 Lirik Lagu 2020   : : — Up ↑ '"
      ]
     },
     "execution_count": 290,
     "metadata": {},
     "output_type": "execute_result"
    }
   ],
   "source": [
    "lagu17_2 = lagu17_1.replace(' Lirik Lagu > Projektor Band > Lirik Lagu Sudah Ku Tahu Raya – Projektor Band Lirik Lagu Sudah Ku Tahu Raya – Projektor Band ', '')\n",
    "lagu17_2"
   ]
  },
  {
   "cell_type": "code",
   "execution_count": 292,
   "metadata": {},
   "outputs": [
    {
     "data": {
      "text/plain": [
       "'Kini Tiba bulan Ramadan Cukup Sebulan kita berpuasa Menunggu Tiba Syawal menjelma Kita Raihkan bersama-sama Pulanglah Anak-anak yang tercinta Ibu Dan ayah amat merindukanmu Air Mata mereka sering berduka Berharap Kita semua disampingnya Rakan Dan taulan semua Mari Menyambut raya bersama Kuih Muih yang disedia Untuk Dijamu bersama kita Selamat Menyambut Hari Yang mulia Raya Dah pun tiba Jangan Berduka jangan terleka Raya Harus gembira Bersama-sama Sanak saudara Jangan Lupa ibu ayah yang tercinta Selamanya Rakan Dan taulan semua Mari Menyambut raya bersama Kuih Muih yang disedia Untuk Dijamu bersama kita Selamat Menyambut Hari Yang mulia Raya Dah pun tiba Jangan Berduka jangan terleka Raya Harus gembira Bersama-sama Sanak saudara Jangan Lupa ibu ayah yang tercinta Selamanya'"
      ]
     },
     "execution_count": 292,
     "metadata": {},
     "output_type": "execute_result"
    }
   ],
   "source": [
    "lagu17_3 = lagu17_2.replace(' Video Klip Lagu Sudah Ku Tahu Raya – Projektor Band  Lirik lagu Projektor Band Sudah Ku Tahu RayaLirik Lagu Sudah Ku Tahu RayaLirik Lagu Sudah Ku Tahu Raya Projektor BandLirik Projektor Band Sudah Ku Tahu RayaLirik Sudah Ku Tahu RayaProjektor Band Sudah Ku Tahu RayaSudah Ku Tahu RayaSudah Ku Tahu Raya lirikSudah Ku Tahu Raya lirik laguSudah Ku Tahu Raya Projektor Band lirikSudah Ku Tahu Raya Projektor Band lirik lagu                \\r \\t\\t\\t\\r \\t\\t\\t\\t© 2020 Lirik Lagu 2020   : : — Up ↑ ', '')\n",
    "lagu17 = lagu17_3\n",
    "lagu17"
   ]
  },
  {
   "cell_type": "code",
   "execution_count": 298,
   "metadata": {},
   "outputs": [
    {
     "data": {
      "text/plain": [
       "' Lirik Lagu > Floor88 > Lirik Lagu Kemaafan Di Hari Raya – Floor88  Lirik Lagu Kemaafan Di Hari Raya – Floor88 Sebulan berpuasa\\nKini menjelang hari raya\\nSetelah laluinya\\nmenahan lapar dan dahaga Teruja pabila takbir bergema\\nSemoga bergembira\\ndi hari yang mulia\\nkepada semuanya Ibu dan ayah menunggu kepulangan kita\\nTurut serta sanak saudara kawan dan jiran tetangga Sekiranya ada salah dan dosa\\nAmpun maaf dipinta mensuci hening dosa\\nSelamat hari raya Sepuluh jari ku mohon\\nKemaafan kerana\\nJika ada tersalah tutur bicara Sepuluh jari ku mohon\\nKemaafan kerana\\nJika terguris di dalam\\nHarap maafkan Ku ucapkan selamat hari raya\\nMinal Aidil wal Faaizin untuk semua Sepuluh jari ku mohon\\nKemaafan kerana\\nJika ada tersalah tutur bicara Sepuluh jari ku mohon\\nKemaafan kerana\\nJika terguris di dalam\\nHarap maafkan Ku ucapkan selamat hari raya\\nMinal Aidil wal Faaizin untuk semua Video Klip Lagu Kemaafan Di Hari Raya – Floor88  Kemaafan Di Hari Raya merupakan lagu raya dari kumpulan Floor88. Kumpulan ini yang terkenal dengan lagu Sandiwara Cinta dan juga Aqilah. Lagu Kemaafan Di Hari Raya ini mula dimuat naik ke laman sesawang youtube pada May 2018. Komposer untuk lagi ini ialah Zai Hamzah, lirik ciptaan Zai Hamzah, manakala susunan pula dari Harry Khalifah. Floor88 juga agak terkenal dnegan memperkenalkan drama/watak tertentu dalam setiap lagu yang diperdengarkan. Floor88 Kemaafan Di Hari RayaKemaafan Di Hari RayaKemaafan Di Hari Raya Floor88 lirikKemaafan Di Hari Raya Floor88 lirik laguKemaafan Di Hari Raya lirikKemaafan Di Hari Raya lirik laguLirik Floor88 Kemaafan Di Hari RayaLirik Kemaafan Di Hari RayaLirik lagu Floor88 Kemaafan Di Hari RayaLirik Lagu Kemaafan Di Hari RayaLirik Lagu Kemaafan Di Hari Raya Floor88 \\n\\n\\n \\n\\n\\n \\n\\n \\n\\n\\n \\r\\n\\t\\t\\t\\r\\n\\t\\t\\t\\t© 2020 Lirik Lagu 2020\\n \\n: : — Up ↑\\n'"
      ]
     },
     "execution_count": 298,
     "metadata": {},
     "output_type": "execute_result"
    }
   ],
   "source": [
    "lagu18 = scrape_lyrics('https://ohlirik.com/lirik-lagu-kemaafan-di-hari-raya-floor88/')\n",
    "lagu18"
   ]
  },
  {
   "cell_type": "code",
   "execution_count": 299,
   "metadata": {},
   "outputs": [
    {
     "data": {
      "text/plain": [
       "' Lirik Lagu > Floor88 > Lirik Lagu Kemaafan Di Hari Raya – Floor88  Lirik Lagu Kemaafan Di Hari Raya – Floor88 Sebulan berpuasa Kini menjelang hari raya Setelah laluinya menahan lapar dan dahaga Teruja pabila takbir bergema Semoga bergembira di hari yang mulia kepada semuanya Ibu dan ayah menunggu kepulangan kita Turut serta sanak saudara kawan dan jiran tetangga Sekiranya ada salah dan dosa Ampun maaf dipinta mensuci hening dosa Selamat hari raya Sepuluh jari ku mohon Kemaafan kerana Jika ada tersalah tutur bicara Sepuluh jari ku mohon Kemaafan kerana Jika terguris di dalam Harap maafkan Ku ucapkan selamat hari raya Minal Aidil wal Faaizin untuk semua Sepuluh jari ku mohon Kemaafan kerana Jika ada tersalah tutur bicara Sepuluh jari ku mohon Kemaafan kerana Jika terguris di dalam Harap maafkan Ku ucapkan selamat hari raya Minal Aidil wal Faaizin untuk semua Video Klip Lagu Kemaafan Di Hari Raya – Floor88  Kemaafan Di Hari Raya merupakan lagu raya dari kumpulan Floor88. Kumpulan ini yang terkenal dengan lagu Sandiwara Cinta dan juga Aqilah. Lagu Kemaafan Di Hari Raya ini mula dimuat naik ke laman sesawang youtube pada May 2018. Komposer untuk lagi ini ialah Zai Hamzah, lirik ciptaan Zai Hamzah, manakala susunan pula dari Harry Khalifah. Floor88 juga agak terkenal dnegan memperkenalkan drama/watak tertentu dalam setiap lagu yang diperdengarkan. Floor88 Kemaafan Di Hari RayaKemaafan Di Hari RayaKemaafan Di Hari Raya Floor88 lirikKemaafan Di Hari Raya Floor88 lirik laguKemaafan Di Hari Raya lirikKemaafan Di Hari Raya lirik laguLirik Floor88 Kemaafan Di Hari RayaLirik Kemaafan Di Hari RayaLirik lagu Floor88 Kemaafan Di Hari RayaLirik Lagu Kemaafan Di Hari RayaLirik Lagu Kemaafan Di Hari Raya Floor88                \\r \\t\\t\\t\\r \\t\\t\\t\\t© 2020 Lirik Lagu 2020   : : — Up ↑ '"
      ]
     },
     "execution_count": 299,
     "metadata": {},
     "output_type": "execute_result"
    }
   ],
   "source": [
    "lagu18_1 = lagu18.replace('\\n', ' ')\n",
    "lagu18_1"
   ]
  },
  {
   "cell_type": "code",
   "execution_count": 301,
   "metadata": {},
   "outputs": [
    {
     "data": {
      "text/plain": [
       "'Sebulan berpuasa Kini menjelang hari raya Setelah laluinya menahan lapar dan dahaga Teruja pabila takbir bergema Semoga bergembira di hari yang mulia kepada semuanya Ibu dan ayah menunggu kepulangan kita Turut serta sanak saudara kawan dan jiran tetangga Sekiranya ada salah dan dosa Ampun maaf dipinta mensuci hening dosa Selamat hari raya Sepuluh jari ku mohon Kemaafan kerana Jika ada tersalah tutur bicara Sepuluh jari ku mohon Kemaafan kerana Jika terguris di dalam Harap maafkan Ku ucapkan selamat hari raya Minal Aidil wal Faaizin untuk semua Sepuluh jari ku mohon Kemaafan kerana Jika ada tersalah tutur bicara Sepuluh jari ku mohon Kemaafan kerana Jika terguris di dalam Harap maafkan Ku ucapkan selamat hari raya Minal Aidil wal Faaizin untuk semua Video Klip Lagu Kemaafan Di Hari Raya – Floor88  Kemaafan Di Hari Raya merupakan lagu raya dari kumpulan Floor88. Kumpulan ini yang terkenal dengan lagu Sandiwara Cinta dan juga Aqilah. Lagu Kemaafan Di Hari Raya ini mula dimuat naik ke laman sesawang youtube pada May 2018. Komposer untuk lagi ini ialah Zai Hamzah, lirik ciptaan Zai Hamzah, manakala susunan pula dari Harry Khalifah. Floor88 juga agak terkenal dnegan memperkenalkan drama/watak tertentu dalam setiap lagu yang diperdengarkan. Floor88 Kemaafan Di Hari RayaKemaafan Di Hari RayaKemaafan Di Hari Raya Floor88 lirikKemaafan Di Hari Raya Floor88 lirik laguKemaafan Di Hari Raya lirikKemaafan Di Hari Raya lirik laguLirik Floor88 Kemaafan Di Hari RayaLirik Kemaafan Di Hari RayaLirik lagu Floor88 Kemaafan Di Hari RayaLirik Lagu Kemaafan Di Hari RayaLirik Lagu Kemaafan Di Hari Raya Floor88                \\r \\t\\t\\t\\r \\t\\t\\t\\t© 2020 Lirik Lagu 2020   : : — Up ↑ '"
      ]
     },
     "execution_count": 301,
     "metadata": {},
     "output_type": "execute_result"
    }
   ],
   "source": [
    "lagu18_2 = lagu18_1.replace(' Lirik Lagu > Floor88 > Lirik Lagu Kemaafan Di Hari Raya – Floor88  Lirik Lagu Kemaafan Di Hari Raya – Floor88 ', '')\n",
    "lagu18_2"
   ]
  },
  {
   "cell_type": "code",
   "execution_count": 304,
   "metadata": {},
   "outputs": [
    {
     "data": {
      "text/plain": [
       "'Sebulan berpuasa Kini menjelang hari raya Setelah laluinya menahan lapar dan dahaga Teruja pabila takbir bergema Semoga bergembira di hari yang mulia kepada semuanya Ibu dan ayah menunggu kepulangan kita Turut serta sanak saudara kawan dan jiran tetangga Sekiranya ada salah dan dosa Ampun maaf dipinta mensuci hening dosa Selamat hari raya Sepuluh jari ku mohon Kemaafan kerana Jika ada tersalah tutur bicara Sepuluh jari ku mohon Kemaafan kerana Jika terguris di dalam Harap maafkan Ku ucapkan selamat hari raya Minal Aidil wal Faaizin untuk semua Sepuluh jari ku mohon Kemaafan kerana Jika ada tersalah tutur bicara Sepuluh jari ku mohon Kemaafan kerana Jika terguris di dalam Harap maafkan Ku ucapkan selamat hari raya Minal Aidil wal Faaizin untuk semua '"
      ]
     },
     "execution_count": 304,
     "metadata": {},
     "output_type": "execute_result"
    }
   ],
   "source": [
    "lagu18_3 = lagu18_2.replace('Video Klip Lagu Kemaafan Di Hari Raya – Floor88  Kemaafan Di Hari Raya merupakan lagu raya dari kumpulan Floor88. Kumpulan ini yang terkenal dengan lagu Sandiwara Cinta dan juga Aqilah. Lagu Kemaafan Di Hari Raya ini mula dimuat naik ke laman sesawang youtube pada May 2018. Komposer untuk lagi ini ialah Zai Hamzah, lirik ciptaan Zai Hamzah, manakala susunan pula dari Harry Khalifah. Floor88 juga agak terkenal dnegan memperkenalkan drama/watak tertentu dalam setiap lagu yang diperdengarkan. Floor88 Kemaafan Di Hari RayaKemaafan Di Hari RayaKemaafan Di Hari Raya Floor88 lirikKemaafan Di Hari Raya Floor88 lirik laguKemaafan Di Hari Raya lirikKemaafan Di Hari Raya lirik laguLirik Floor88 Kemaafan Di Hari RayaLirik Kemaafan Di Hari RayaLirik lagu Floor88 Kemaafan Di Hari RayaLirik Lagu Kemaafan Di Hari RayaLirik Lagu Kemaafan Di Hari Raya Floor88                \\r \\t\\t\\t\\r \\t\\t\\t\\t© 2020 Lirik Lagu 2020   : : — Up ↑ ', '')\n",
    "lagu18 = lagu18_3\n",
    "lagu18"
   ]
  },
  {
   "cell_type": "code",
   "execution_count": 306,
   "metadata": {},
   "outputs": [
    {
     "data": {
      "text/plain": [
       "' Lirik Lagu Syawal Dah Tiba – Dzecko Salam Lebaran\\nSelamat Hari raya\\nMoga Kembali kita\\nKe Fitrah semula Kini Syawal dah tiba\\nBerakhirnya Puasa\\nLapar Dahaga yang telah dirasa\\nSemoga Berbalas pahala Semua Orang gembira\\nNikmati Hari raya\\nKunjung Mengunjung amalam tradisi\\nSemoga Kembali suci Hari Raya hari bahagia\\nSaling Bermaaf maafan\\nSemai Kerendahan hamba\\nDi Dalam jiwa Kita Memberi bukan menerima\\nTabur Budi bukan nak berbangga\\nMoga Tulus hati kita\\nSelamat Hari raya Semoga Tuhan beri keizinan\\nBertemu Ramadhan tahun depan Salam Lebaran\\nSelamat Hari raya\\nMoga Kembali kita\\nKe Fitrah semula Hari Raya hari bahagia\\nSaling Bermaaf maafan\\nSemai Kerendahan hamba\\nDi Dalam jiwa Kita Memberi bukan menerima\\nTabur Budi bukan nak berbangga\\nMoga Tulus hati kita\\nSelamat Hari raya Hari Raya hari bahagia\\nSaling Bermaaf maafan\\nSemai Kerendahan hamba\\nDi Dalam jiwa Kita Memberi bukan menerima\\nTabur Budi bukan nak berbangga Salam Lebaran\\nSalam Lebaran\\nSelamat Hari raya\\nMoga Kembali kita\\nKe Fitrah semula Video Klip Lagu Syawal Dah Tiba – Dzecko  \\n\\n\\n \\n\\n\\n \\n\\n \\n\\n\\n \\r\\n\\t\\t\\t\\r\\n\\t\\t\\t\\t© 2020 Lirik Lagu 2020\\n \\n: : — Up ↑\\n'"
      ]
     },
     "execution_count": 306,
     "metadata": {},
     "output_type": "execute_result"
    }
   ],
   "source": [
    "lagu19 = scrape_lyrics('https://ohlirik.com/tag/lirik-lagu-syawal-dah-tiba/')\n",
    "lagu19"
   ]
  },
  {
   "cell_type": "code",
   "execution_count": 307,
   "metadata": {},
   "outputs": [
    {
     "data": {
      "text/plain": [
       "' Lirik Lagu Syawal Dah Tiba – Dzecko Salam Lebaran Selamat Hari raya Moga Kembali kita Ke Fitrah semula Kini Syawal dah tiba Berakhirnya Puasa Lapar Dahaga yang telah dirasa Semoga Berbalas pahala Semua Orang gembira Nikmati Hari raya Kunjung Mengunjung amalam tradisi Semoga Kembali suci Hari Raya hari bahagia Saling Bermaaf maafan Semai Kerendahan hamba Di Dalam jiwa Kita Memberi bukan menerima Tabur Budi bukan nak berbangga Moga Tulus hati kita Selamat Hari raya Semoga Tuhan beri keizinan Bertemu Ramadhan tahun depan Salam Lebaran Selamat Hari raya Moga Kembali kita Ke Fitrah semula Hari Raya hari bahagia Saling Bermaaf maafan Semai Kerendahan hamba Di Dalam jiwa Kita Memberi bukan menerima Tabur Budi bukan nak berbangga Moga Tulus hati kita Selamat Hari raya Hari Raya hari bahagia Saling Bermaaf maafan Semai Kerendahan hamba Di Dalam jiwa Kita Memberi bukan menerima Tabur Budi bukan nak berbangga Salam Lebaran Salam Lebaran Selamat Hari raya Moga Kembali kita Ke Fitrah semula Video Klip Lagu Syawal Dah Tiba – Dzecko                 \\r \\t\\t\\t\\r \\t\\t\\t\\t© 2020 Lirik Lagu 2020   : : — Up ↑ '"
      ]
     },
     "execution_count": 307,
     "metadata": {},
     "output_type": "execute_result"
    }
   ],
   "source": [
    "lagu19_1 = lagu19.replace('\\n', ' ')\n",
    "lagu19_1"
   ]
  },
  {
   "cell_type": "code",
   "execution_count": 308,
   "metadata": {},
   "outputs": [
    {
     "data": {
      "text/plain": [
       "'Salam Lebaran Selamat Hari raya Moga Kembali kita Ke Fitrah semula Kini Syawal dah tiba Berakhirnya Puasa Lapar Dahaga yang telah dirasa Semoga Berbalas pahala Semua Orang gembira Nikmati Hari raya Kunjung Mengunjung amalam tradisi Semoga Kembali suci Hari Raya hari bahagia Saling Bermaaf maafan Semai Kerendahan hamba Di Dalam jiwa Kita Memberi bukan menerima Tabur Budi bukan nak berbangga Moga Tulus hati kita Selamat Hari raya Semoga Tuhan beri keizinan Bertemu Ramadhan tahun depan Salam Lebaran Selamat Hari raya Moga Kembali kita Ke Fitrah semula Hari Raya hari bahagia Saling Bermaaf maafan Semai Kerendahan hamba Di Dalam jiwa Kita Memberi bukan menerima Tabur Budi bukan nak berbangga Moga Tulus hati kita Selamat Hari raya Hari Raya hari bahagia Saling Bermaaf maafan Semai Kerendahan hamba Di Dalam jiwa Kita Memberi bukan menerima Tabur Budi bukan nak berbangga Salam Lebaran Salam Lebaran Selamat Hari raya Moga Kembali kita Ke Fitrah semula Video Klip Lagu Syawal Dah Tiba – Dzecko                 \\r \\t\\t\\t\\r \\t\\t\\t\\t© 2020 Lirik Lagu 2020   : : — Up ↑ '"
      ]
     },
     "execution_count": 308,
     "metadata": {},
     "output_type": "execute_result"
    }
   ],
   "source": [
    "lagu19_2 = lagu19_1.replace(' Lirik Lagu Syawal Dah Tiba – Dzecko ', '')\n",
    "lagu19_2"
   ]
  },
  {
   "cell_type": "code",
   "execution_count": 312,
   "metadata": {},
   "outputs": [
    {
     "data": {
      "text/plain": [
       "'Salam Lebaran Selamat Hari raya Moga Kembali kita Ke Fitrah semula Kini Syawal dah tiba Berakhirnya Puasa Lapar Dahaga yang telah dirasa Semoga Berbalas pahala Semua Orang gembira Nikmati Hari raya Kunjung Mengunjung amalam tradisi Semoga Kembali suci Hari Raya hari bahagia Saling Bermaaf maafan Semai Kerendahan hamba Di Dalam jiwa Kita Memberi bukan menerima Tabur Budi bukan nak berbangga Moga Tulus hati kita Selamat Hari raya Semoga Tuhan beri keizinan Bertemu Ramadhan tahun depan Salam Lebaran Selamat Hari raya Moga Kembali kita Ke Fitrah semula Hari Raya hari bahagia Saling Bermaaf maafan Semai Kerendahan hamba Di Dalam jiwa Kita Memberi bukan menerima Tabur Budi bukan nak berbangga Moga Tulus hati kita Selamat Hari raya Hari Raya hari bahagia Saling Bermaaf maafan Semai Kerendahan hamba Di Dalam jiwa Kita Memberi bukan menerima Tabur Budi bukan nak berbangga Salam Lebaran Salam Lebaran Selamat Hari raya Moga Kembali kita Ke Fitrah semula '"
      ]
     },
     "execution_count": 312,
     "metadata": {},
     "output_type": "execute_result"
    }
   ],
   "source": [
    "lagu19_3 = lagu19_2.replace('Video Klip Lagu Syawal Dah Tiba – Dzecko                 \\r \\t\\t\\t\\r \\t\\t\\t\\t© 2020 Lirik Lagu 2020   : : — Up ↑ ', '')\n",
    "lagu19 = lagu19_3\n",
    "lagu19"
   ]
  },
  {
   "cell_type": "code",
   "execution_count": 313,
   "metadata": {},
   "outputs": [
    {
     "data": {
      "text/plain": [
       "' Lirik Lagu Sepanjang Zaman \\n\\n\\nBermula hari yang mulia\\nMenyambut bulan puasa\\nMenahan lapar dan dahaga\\nSabar tunggu masa tiba\\n\\nRamadhan sebulan berlalu\\nKini tiba masa kita\\n(Heya heya heyo)\\n\\n1 syawal pun menjelma\\nKita sambut hari raya\\nSanak saudara semua\\nRiang ria tak terkira\\n\\nItulah tanda hari kemenangan kita\\nBersyukur\\n\\nWalau kita berjauhan\\nEratkan persahabatan\\nIbu ayah adik abang\\nDan juga rakan taulan\\n\\nSama-sama mohon maaf\\nMenjalinkan kemesraan\\nDi hari…raya yang mulia\\n\\nMenahan lapar dan dahaga\\nSabar tunggu masa tiba\\n\\nRamadhan sebulan berlalu\\nKini tiba masa kita\\n(Heya heya heyo)\\n\\n1 syawal pun menjelma\\nKita sambut hari raya\\nSanak saudara semua\\nRiang ria tak terkira\\n\\nItulah tanda hari kemenangan kita\\nBersyukur\\n\\nWalau kita berjauhan\\nEratkan persahabatan\\nIbu ayah adik abang\\nDan juga rakan taulan\\n\\nSama-sama mohon maaf\\nMenjalinkan kemesraan\\nDi hari…raya yang mulia\\n\\n(Heya heya heyo)\\n\\n1 syawal pun menjelma\\nKita sambut hari raya\\nSanak saudara semua\\nRiang ria tak terkira\\n\\nItulah tanda hari kemenangan kita\\nBersyukur\\n\\nWalau kita berjauhan\\nEratkan persahabatan\\nIbu ayah adik abang\\nDan juga rakan taulan\\n\\nSama-sama mohon maaf\\nMenjalinkan kemesraan\\nDi hari…raya yang mulia\\n'"
      ]
     },
     "execution_count": 313,
     "metadata": {},
     "output_type": "execute_result"
    }
   ],
   "source": [
    "lagu20 = scrape_lyrics('https://www.liriklagumalaysia.com/2020/05/lirik-syawal-kita-achey.html')\n",
    "lagu20"
   ]
  },
  {
   "cell_type": "code",
   "execution_count": 314,
   "metadata": {},
   "outputs": [
    {
     "data": {
      "text/plain": [
       "' Lirik Lagu Sepanjang Zaman    Bermula hari yang mulia Menyambut bulan puasa Menahan lapar dan dahaga Sabar tunggu masa tiba  Ramadhan sebulan berlalu Kini tiba masa kita (Heya heya heyo)  1 syawal pun menjelma Kita sambut hari raya Sanak saudara semua Riang ria tak terkira  Itulah tanda hari kemenangan kita Bersyukur  Walau kita berjauhan Eratkan persahabatan Ibu ayah adik abang Dan juga rakan taulan  Sama-sama mohon maaf Menjalinkan kemesraan Di hari…raya yang mulia  Menahan lapar dan dahaga Sabar tunggu masa tiba  Ramadhan sebulan berlalu Kini tiba masa kita (Heya heya heyo)  1 syawal pun menjelma Kita sambut hari raya Sanak saudara semua Riang ria tak terkira  Itulah tanda hari kemenangan kita Bersyukur  Walau kita berjauhan Eratkan persahabatan Ibu ayah adik abang Dan juga rakan taulan  Sama-sama mohon maaf Menjalinkan kemesraan Di hari…raya yang mulia  (Heya heya heyo)  1 syawal pun menjelma Kita sambut hari raya Sanak saudara semua Riang ria tak terkira  Itulah tanda hari kemenangan kita Bersyukur  Walau kita berjauhan Eratkan persahabatan Ibu ayah adik abang Dan juga rakan taulan  Sama-sama mohon maaf Menjalinkan kemesraan Di hari…raya yang mulia '"
      ]
     },
     "execution_count": 314,
     "metadata": {},
     "output_type": "execute_result"
    }
   ],
   "source": [
    "lagu20_1 = lagu20.replace('\\n', ' ')\n",
    "lagu20_1"
   ]
  },
  {
   "cell_type": "code",
   "execution_count": 315,
   "metadata": {},
   "outputs": [
    {
     "data": {
      "text/plain": [
       "'Bermula hari yang mulia Menyambut bulan puasa Menahan lapar dan dahaga Sabar tunggu masa tiba  Ramadhan sebulan berlalu Kini tiba masa kita (Heya heya heyo)  1 syawal pun menjelma Kita sambut hari raya Sanak saudara semua Riang ria tak terkira  Itulah tanda hari kemenangan kita Bersyukur  Walau kita berjauhan Eratkan persahabatan Ibu ayah adik abang Dan juga rakan taulan  Sama-sama mohon maaf Menjalinkan kemesraan Di hari…raya yang mulia  Menahan lapar dan dahaga Sabar tunggu masa tiba  Ramadhan sebulan berlalu Kini tiba masa kita (Heya heya heyo)  1 syawal pun menjelma Kita sambut hari raya Sanak saudara semua Riang ria tak terkira  Itulah tanda hari kemenangan kita Bersyukur  Walau kita berjauhan Eratkan persahabatan Ibu ayah adik abang Dan juga rakan taulan  Sama-sama mohon maaf Menjalinkan kemesraan Di hari…raya yang mulia  (Heya heya heyo)  1 syawal pun menjelma Kita sambut hari raya Sanak saudara semua Riang ria tak terkira  Itulah tanda hari kemenangan kita Bersyukur  Walau kita berjauhan Eratkan persahabatan Ibu ayah adik abang Dan juga rakan taulan  Sama-sama mohon maaf Menjalinkan kemesraan Di hari…raya yang mulia '"
      ]
     },
     "execution_count": 315,
     "metadata": {},
     "output_type": "execute_result"
    }
   ],
   "source": [
    "lagu20_2 = lagu20_1.replace(' Lirik Lagu Sepanjang Zaman    ', '')\n",
    "lagu20_2"
   ]
  },
  {
   "cell_type": "code",
   "execution_count": 316,
   "metadata": {},
   "outputs": [
    {
     "data": {
      "text/plain": [
       "'Bermula hari yang mulia Menyambut bulan puasa Menahan lapar dan dahaga Sabar tunggu masa tiba  Ramadhan sebulan berlalu Kini tiba masa kita Heya heya heyo  1 syawal pun menjelma Kita sambut hari raya Sanak saudara semua Riang ria tak terkira  Itulah tanda hari kemenangan kita Bersyukur  Walau kita berjauhan Eratkan persahabatan Ibu ayah adik abang Dan juga rakan taulan  Sama-sama mohon maaf Menjalinkan kemesraan Di hari…raya yang mulia  Menahan lapar dan dahaga Sabar tunggu masa tiba  Ramadhan sebulan berlalu Kini tiba masa kita Heya heya heyo  1 syawal pun menjelma Kita sambut hari raya Sanak saudara semua Riang ria tak terkira  Itulah tanda hari kemenangan kita Bersyukur  Walau kita berjauhan Eratkan persahabatan Ibu ayah adik abang Dan juga rakan taulan  Sama-sama mohon maaf Menjalinkan kemesraan Di hari…raya yang mulia  Heya heya heyo  1 syawal pun menjelma Kita sambut hari raya Sanak saudara semua Riang ria tak terkira  Itulah tanda hari kemenangan kita Bersyukur  Walau kita berjauhan Eratkan persahabatan Ibu ayah adik abang Dan juga rakan taulan  Sama-sama mohon maaf Menjalinkan kemesraan Di hari…raya yang mulia '"
      ]
     },
     "execution_count": 316,
     "metadata": {},
     "output_type": "execute_result"
    }
   ],
   "source": [
    "lagu20_3 = lagu20_2.replace('(Heya heya heyo)', 'Heya heya heyo')\n",
    "lagu20_3"
   ]
  },
  {
   "cell_type": "code",
   "execution_count": 317,
   "metadata": {},
   "outputs": [
    {
     "data": {
      "text/plain": [
       "'Bermula hari yang mulia Menyambut bulan puasa Menahan lapar dan dahaga Sabar tunggu masa tiba  Ramadhan sebulan berlalu Kini tiba masa kita Heya heya heyo  1 syawal pun menjelma Kita sambut hari raya Sanak saudara semua Riang ria tak terkira  Itulah tanda hari kemenangan kita Bersyukur  Walau kita berjauhan Eratkan persahabatan Ibu ayah adik abang Dan juga rakan taulan  Sama-sama mohon maaf Menjalinkan kemesraan Di hari raya yang mulia  Menahan lapar dan dahaga Sabar tunggu masa tiba  Ramadhan sebulan berlalu Kini tiba masa kita Heya heya heyo  1 syawal pun menjelma Kita sambut hari raya Sanak saudara semua Riang ria tak terkira  Itulah tanda hari kemenangan kita Bersyukur  Walau kita berjauhan Eratkan persahabatan Ibu ayah adik abang Dan juga rakan taulan  Sama-sama mohon maaf Menjalinkan kemesraan Di hari raya yang mulia  Heya heya heyo  1 syawal pun menjelma Kita sambut hari raya Sanak saudara semua Riang ria tak terkira  Itulah tanda hari kemenangan kita Bersyukur  Walau kita berjauhan Eratkan persahabatan Ibu ayah adik abang Dan juga rakan taulan  Sama-sama mohon maaf Menjalinkan kemesraan Di hari raya yang mulia '"
      ]
     },
     "execution_count": 317,
     "metadata": {},
     "output_type": "execute_result"
    }
   ],
   "source": [
    "lagu20_4 = lagu20_3.replace('hari…', 'hari ')\n",
    "lagu20_4"
   ]
  },
  {
   "cell_type": "code",
   "execution_count": 318,
   "metadata": {},
   "outputs": [
    {
     "data": {
      "text/plain": [
       "'Bermula hari yang mulia Menyambut bulan puasa Menahan lapar dan dahaga Sabar tunggu masa tiba  Ramadhan sebulan berlalu Kini tiba masa kita Heya heya heyo  satu  syawal pun menjelma Kita sambut hari raya Sanak saudara semua Riang ria tak terkira  Itulah tanda hari kemenangan kita Bersyukur  Walau kita berjauhan Eratkan persahabatan Ibu ayah adik abang Dan juga rakan taulan  Sama-sama mohon maaf Menjalinkan kemesraan Di hari raya yang mulia  Menahan lapar dan dahaga Sabar tunggu masa tiba  Ramadhan sebulan berlalu Kini tiba masa kita Heya heya heyo  satu  syawal pun menjelma Kita sambut hari raya Sanak saudara semua Riang ria tak terkira  Itulah tanda hari kemenangan kita Bersyukur  Walau kita berjauhan Eratkan persahabatan Ibu ayah adik abang Dan juga rakan taulan  Sama-sama mohon maaf Menjalinkan kemesraan Di hari raya yang mulia  Heya heya heyo  satu  syawal pun menjelma Kita sambut hari raya Sanak saudara semua Riang ria tak terkira  Itulah tanda hari kemenangan kita Bersyukur  Walau kita berjauhan Eratkan persahabatan Ibu ayah adik abang Dan juga rakan taulan  Sama-sama mohon maaf Menjalinkan kemesraan Di hari raya yang mulia '"
      ]
     },
     "execution_count": 318,
     "metadata": {},
     "output_type": "execute_result"
    }
   ],
   "source": [
    "lagu20_5 = lagu20_4.replace('1', 'satu ')\n",
    "lagu20_5"
   ]
  },
  {
   "cell_type": "code",
   "execution_count": 320,
   "metadata": {},
   "outputs": [
    {
     "data": {
      "text/plain": [
       "' termenung raya hampir tiba terkenang pada ayahanda yang jauh disana  ku eindu mahu bersama mu bersalaman di hari raya jatuh air mataku sedihnya raya ku tanpa mu mahu gembira mahu kau ada bersamaku  di hari yang mulia pasti akan terluka oh tuhan tabahkan hatiku selamat hari raya ku ucapkan pada semua saudara  biarkan ku sepi tanpa mu di hari yang mulia ku ucapkan pada mu selamat hari raya  selamat hari raya ku ucapkan pada semua saudara biarkan ku sepi tanpa mu di hari yang mulia ku ucapkan pada mu  selamat hari raya  termenung raya hampir tiba terkenang pada ayahanda yang jauh disana  menuju ku ke pesara mu ku berdoa pada yang esa ampunkan dosa-dosa mu wahai semua insan takbir berkumandang akhir ramdhan siap sedia pulang ke desa menyambut raya wahai semua insan berjabat tangan bersama semua pinta ampun maaf pada mereka jernihkan sengketa hati gembira berjumpa semua sanak saudara pagi raya sedih terasa mengenang pada insan yang dulu kini tiada selamat hari raya selamat hari raya sambut sederhana biarlah bersyukur seadanya selamat hari raya selamat hari raya bahagiakan keluarga bersyukur seadanya wahai semua insan ingat ingat bila nak berbelanja sedikit tak apa berpada pada bersyukur nikmatnya hati gembira berjumpa semua sanak saudara pagi raya sedih terasa mengenang pada insan yang dulu kini tiada selamat hari raya selamat hari raya sambut sederhana biarlah bersyukur seadanya selamat hari raya selamat hari raya bahagiakan keluarga bersyukur seadanya selamat hari raya bersyukur seadanya selamat hari raya bersyukur seadanya selamat hari raya selamat hari raya sambut sederhana biarlah bersyukur seadanya selamat hari raya selamat hari raya bahagiakan keluarga bersyukur seadanya bahagiakan keluarga bersyukur seadanya kini tiba hari bahagia yang dinanti semua dalam desa atau di kota kemeriahan dirasa bersama meraikan lebaran aidil fitri syawal mulia hari raya disambut dengan gembira hari raya ceriakan suasana kosong kosong sesama kita merasakan indahnya hari raya bunga api warnai malam mengukir sejuta senyuman kuih muih ketupat dan rendang membuka selera semua bersama meraikan lebaran aidil fitri syawal mulia hari raya disambut dengan gembira hari raya ceriakan suasana kosong kosong sesama kita merasakan indahnya hari raya berikan masa istimewa saling maaf hilangkan duka eratkan jalinan saudara lebaran kan lebih bermakna bersama meraikan lebaran aidil fitri syawal mulia hari raya disambut dengan gembira hari raya ceriakan suasana kosong kosong sesama kita merasakan indahnya hari raya hari raya disambut dengan gembira hari raya ceriakan suasana kosong kosong sesama kita merasakan indahnya hari raya tak dapat aku lukiskan manisnya hidup dengan mu cintamu untuk hamba terletak elok di kalbu tak sempat hati mengenang kau datang memujuk rindu sejambak mawar cinta mewangi kamar jiwaku kalau rajuk ku dipujuk kalau lari ku dicari bertaut kasih sejunjung sirih bertingkah rindu sama serentak bertingkah manis manis hidup dengan mu sayang ewahh tidak tidak pernah hati tersiksa ewahh siang dan malam hidup berteman rasa bagai disyurga loka benar benar kata para pujangga ewahh kalau kalau cinta merasuk jiwa ewahh alam terbentang menjadi taman taman kasih kan berdua manis manis hidup dengan mu sayang ewahh tidak tidak pernah hati tersiksa ewahh siang dan malam hidup berteman rasa bagai disyurga loka benar benar kata para pujangga ewahh kalau kalau cinta merasuk jiwa ewahh alam terbentang menjadi taman taman kasih kan berdua siang dan malan hidup berteman rasa bagai disyurga loka alam terbentang menjadi taman taman kasih kan berduabila tibanya hari raya semuanya gigih nak bergaya cantik berkebaya segak bercelana manis sekali si hijabster gincu si dara hai merah menyala dah macam wak doyok kumis si teruna bersama keluarga ramai-ramai melawa gara-gara nak berselfie raya sanak saudara hai tua dan muda gila-gila bergaya selamba sahabat juga hai jiran tetangga kekasih hati pun turut sama tapi janganlah leka biar berpada pada upload nanti letaklah throwback raya andai pernah adanya sengketa sila unlocked hati bersihkan jiwa bermaafan lah kita kerna ku tertanya tertanyakan khabar mu di sana dikala gembira di hari mulia beringatlah juga pada yang tiada bila sampai masa untuk ke pusara berdoalah jangan berselfie pula sanak saudara hai tua dan muda gila-gila bergaya selamba sahabat juga hai jiran tetangga kekasih hati pun turut sama tapi janganlah leka biar berpada pada upload nanti letaklah throwback raya sanak saudara hai tua dan muda gila-gila bergaya selamba sahabat juga hai jiran tetangga kekasih hati pun turut sama tapi janganlah leka biar berpada pada upload nanti letaklah throwback raya sambil sambil makan kuih raya koyak poket kena bagi duit raya memang nasihat pohon terasa ku nyanyikan seloka insta raya ku ucapkan selamat hari rayasibuknya orang membakar lemang mengatur persiapan syawal tiba tak sabar rasanya mahu pulang ke kampung untuk hari raya bertemu keluarga yang tercinta setelah setahun tak berjumpa terima pemberian dari hati sepuluh jari aidilfitri ohh syukur padanya kita berjumpa ohh sekali lagi di syawal ini bersama sanak saudara menikmati hari raya jamulah beraneka hidangan bermesra dan saling bermaafan terima pemberian dari hati sepuluh jari aidilfitri hari raya hari mulia terimalah sepuluh jari aidilfitri ohh syukur padanya kita berjumpa ohh sekali lagi di syawal ini bersama sanak saudara menikmati hari raya jamulah beraneka hidangan bermesra dan saling bermaafan terima pemberian dari hati sepuluh jari aidilfitri sepuluh jari aidilfitri kini tiba bulan ramadan cukup sebulan kita berpuasa menunggu tiba syawal menjelma kita raihkan bersama-sama pulanglah anak-anak yang tercinta ibu dan ayah amat merindukanmu air mata mereka sering berduka berharap kita semua disampingnya rakan dan taulan semua mari menyambut raya bersama kuih muih yang disedia untuk dijamu bersama kita selamat menyambut hari yang mulia raya dah pun tiba jangan berduka jangan terleka raya harus gembira bersama-sama sanak saudara jangan lupa ibu ayah yang tercinta selamanya rakan dan taulan semua mari menyambut raya bersama kuih muih yang disedia untuk dijamu bersama kita selamat menyambut hari yang mulia raya dah pun tiba jangan berduka jangan terleka raya harus gembira bersama-sama sanak saudara jangan lupa ibu ayah yang tercinta selamanyasebulan berpuasa kini menjelang hari raya setelah laluinya menahan lapar dan dahaga teruja pabila takbir bergema semoga bergembira di hari yang mulia kepada semuanya ibu dan ayah menunggu kepulangan kita turut serta sanak saudara kawan dan jiran tetangga sekiranya ada salah dan dosa ampun maaf dipinta mensuci hening dosa selamat hari raya sepuluh jari ku mohon kemaafan kerana jika ada tersalah tutur bicara sepuluh jari ku mohon kemaafan kerana jika terguris di dalam harap maafkan ku ucapkan selamat hari raya minal aidil wal faaizin untuk semua sepuluh jari ku mohon kemaafan kerana jika ada tersalah tutur bicara sepuluh jari ku mohon kemaafan kerana jika terguris di dalam harap maafkan ku ucapkan selamat hari raya minal aidil wal faaizin untuk semua salam lebaran selamat hari raya moga kembali kita ke fitrah semula kini syawal dah tiba berakhirnya puasa lapar dahaga yang telah dirasa semoga berbalas pahala semua orang gembira nikmati hari raya kunjung mengunjung amalam tradisi semoga kembali suci hari raya hari bahagia saling bermaaf maafan semai kerendahan hamba di dalam jiwa kita memberi bukan menerima tabur budi bukan nak berbangga moga tulus hati kita selamat hari raya semoga tuhan beri keizinan bertemu ramadhan tahun depan salam lebaran selamat hari raya moga kembali kita ke fitrah semula hari raya hari bahagia saling bermaaf maafan semai kerendahan hamba di dalam jiwa kita memberi bukan menerima tabur budi bukan nak berbangga moga tulus hati kita selamat hari raya hari raya hari bahagia saling bermaaf maafan semai kerendahan hamba di dalam jiwa kita memberi bukan menerima tabur budi bukan nak berbangga salam lebaran salam lebaran selamat hari raya moga kembali kita ke fitrah semula  lirik lagu sepanjang zaman \\n\\n\\nbermula hari yang mulia\\nmenyambut bulan puasa\\nmenahan lapar dan dahaga\\nsabar tunggu masa tiba\\n\\nramadhan sebulan berlalu\\nkini tiba masa kita\\n(heya heya heyo)\\n\\n1 syawal pun menjelma\\nkita sambut hari raya\\nsanak saudara semua\\nriang ria tak terkira\\n\\nitulah tanda hari kemenangan kita\\nbersyukur\\n\\nwalau kita berjauhan\\neratkan persahabatan\\nibu ayah adik abang\\ndan juga rakan taulan\\n\\nsama-sama mohon maaf\\nmenjalinkan kemesraan\\ndi hari…raya yang mulia\\n\\nmenahan lapar dan dahaga\\nsabar tunggu masa tiba\\n\\nramadhan sebulan berlalu\\nkini tiba masa kita\\n(heya heya heyo)\\n\\n1 syawal pun menjelma\\nkita sambut hari raya\\nsanak saudara semua\\nriang ria tak terkira\\n\\nitulah tanda hari kemenangan kita\\nbersyukur\\n\\nwalau kita berjauhan\\neratkan persahabatan\\nibu ayah adik abang\\ndan juga rakan taulan\\n\\nsama-sama mohon maaf\\nmenjalinkan kemesraan\\ndi hari…raya yang mulia\\n\\n(heya heya heyo)\\n\\n1 syawal pun menjelma\\nkita sambut hari raya\\nsanak saudara semua\\nriang ria tak terkira\\n\\nitulah tanda hari kemenangan kita\\nbersyukur\\n\\nwalau kita berjauhan\\neratkan persahabatan\\nibu ayah adik abang\\ndan juga rakan taulan\\n\\nsama-sama mohon maaf\\nmenjalinkan kemesraan\\ndi hari…raya yang mulia\\n'"
      ]
     },
     "execution_count": 320,
     "metadata": {},
     "output_type": "execute_result"
    }
   ],
   "source": [
    "# Create the total list of word\n",
    "\n",
    "lagu_baru = lagu11 + lagu12 + lagu13 + lagu14 + lagu15 + lagu16 + lagu17 + lagu18 + lagu19 + lagu20\n",
    "lagu_raya_baru = lagu_baru.lower()\n",
    "lagu_raya_baru"
   ]
  },
  {
   "cell_type": "code",
   "execution_count": 322,
   "metadata": {},
   "outputs": [
    {
     "data": {
      "image/png": "[encoded data removed]",
      "text/plain": [
       "<Figure size 432x288 with 1 Axes>"
      ]
     },
     "metadata": {
      "needs_background": "light"
     },
     "output_type": "display_data"
    }
   ],
   "source": [
    "# Create the wordcloud object\n",
    "wordcloud2 = WordCloud(width=800, height=800, background_color=\"white\", colormap=\"copper\", \n",
    "                      stopwords=[\"dan\", \"yang\", \"di\", \"dengan\", \"ini\", \"aku\", \"ku\", \"dalam\", \"ke\"]).generate(lagu_raya_baru)\n",
    "plt.figure()\n",
    "plt.imshow(wordcloud, interpolation=\"bilinear\")\n",
    "plt.axis(\"off\")\n",
    "plt.margins(x=0, y=0)\n",
    "plt.show()"
   ]
  },
  {
   "cell_type": "code",
   "execution_count": 323,
   "metadata": {},
   "outputs": [
    {
     "data": {
      "text/plain": [
       "<wordcloud.wordcloud.WordCloud at 0x7f30d6a7f320>"
      ]
     },
     "execution_count": 323,
     "metadata": {},
     "output_type": "execute_result"
    }
   ],
   "source": [
    "#Save the file to png format\n",
    "wordcloud2.to_file(\"lagu_baru.png\")"
   ]
  },
  {
   "cell_type": "code",
   "execution_count": 324,
   "metadata": {},
   "outputs": [
    {
     "data": {
      "text/html": [
       "<div>\n",
       "<style scoped>\n",
       "    .dataframe tbody tr th:only-of-type {\n",
       "        vertical-align: middle;\n",
       "    }\n",
       "\n",
       "    .dataframe tbody tr th {\n",
       "        vertical-align: top;\n",
       "    }\n",
       "\n",
       "    .dataframe thead th {\n",
       "        text-align: right;\n",
       "    }\n",
       "</style>\n",
       "<table border=\"1\" class=\"dataframe\">\n",
       "  <thead>\n",
       "    <tr style=\"text-align: right;\">\n",
       "      <th></th>\n",
       "      <th>Words</th>\n",
       "      <th>count</th>\n",
       "    </tr>\n",
       "  </thead>\n",
       "  <tbody>\n",
       "    <tr>\n",
       "      <th>1</th>\n",
       "      <td>selamat</td>\n",
       "      <td>18</td>\n",
       "    </tr>\n",
       "    <tr>\n",
       "      <th>2</th>\n",
       "      <td>aidil</td>\n",
       "      <td>4</td>\n",
       "    </tr>\n",
       "    <tr>\n",
       "      <th>3</th>\n",
       "      <td>fitri</td>\n",
       "      <td>4</td>\n",
       "    </tr>\n",
       "    <tr>\n",
       "      <th>4</th>\n",
       "      <td>kepada</td>\n",
       "      <td>4</td>\n",
       "    </tr>\n",
       "    <tr>\n",
       "      <th>5</th>\n",
       "      <td>saudara</td>\n",
       "      <td>6</td>\n",
       "    </tr>\n",
       "  </tbody>\n",
       "</table>\n",
       "</div>"
      ],
      "text/plain": [
       "     Words  count\n",
       "1  selamat     18\n",
       "2    aidil      4\n",
       "3    fitri      4\n",
       "4   kepada      4\n",
       "5  saudara      6"
      ]
     },
     "execution_count": 324,
     "metadata": {},
     "output_type": "execute_result"
    }
   ],
   "source": [
    "old_songs1.head()"
   ]
  },
  {
   "cell_type": "code",
   "execution_count": 325,
   "metadata": {},
   "outputs": [
    {
     "data": {
      "text/html": [
       "<div>\n",
       "<style scoped>\n",
       "    .dataframe tbody tr th:only-of-type {\n",
       "        vertical-align: middle;\n",
       "    }\n",
       "\n",
       "    .dataframe tbody tr th {\n",
       "        vertical-align: top;\n",
       "    }\n",
       "\n",
       "    .dataframe thead th {\n",
       "        text-align: right;\n",
       "    }\n",
       "</style>\n",
       "<table border=\"1\" class=\"dataframe\">\n",
       "  <thead>\n",
       "    <tr style=\"text-align: right;\">\n",
       "      <th></th>\n",
       "      <th>Words</th>\n",
       "      <th>count</th>\n",
       "    </tr>\n",
       "  </thead>\n",
       "  <tbody>\n",
       "    <tr>\n",
       "      <th>1</th>\n",
       "      <td>selamat</td>\n",
       "      <td>18</td>\n",
       "    </tr>\n",
       "    <tr>\n",
       "      <th>2</th>\n",
       "      <td>aidil</td>\n",
       "      <td>4</td>\n",
       "    </tr>\n",
       "    <tr>\n",
       "      <th>3</th>\n",
       "      <td>fitri</td>\n",
       "      <td>4</td>\n",
       "    </tr>\n",
       "    <tr>\n",
       "      <th>4</th>\n",
       "      <td>kepada</td>\n",
       "      <td>4</td>\n",
       "    </tr>\n",
       "    <tr>\n",
       "      <th>5</th>\n",
       "      <td>saudara</td>\n",
       "      <td>6</td>\n",
       "    </tr>\n",
       "    <tr>\n",
       "      <th>...</th>\n",
       "      <td>...</td>\n",
       "      <td>...</td>\n",
       "    </tr>\n",
       "    <tr>\n",
       "      <th>79</th>\n",
       "      <td>gembira</td>\n",
       "      <td>6</td>\n",
       "    </tr>\n",
       "    <tr>\n",
       "      <th>80</th>\n",
       "      <td>mungkin</td>\n",
       "      <td>1</td>\n",
       "    </tr>\n",
       "    <tr>\n",
       "      <th>81</th>\n",
       "      <td>inilah</td>\n",
       "      <td>1</td>\n",
       "    </tr>\n",
       "    <tr>\n",
       "      <th>82</th>\n",
       "      <td>dia</td>\n",
       "      <td>3</td>\n",
       "    </tr>\n",
       "    <tr>\n",
       "      <th>83</th>\n",
       "      <td>kebahagiaan</td>\n",
       "      <td>1</td>\n",
       "    </tr>\n",
       "  </tbody>\n",
       "</table>\n",
       "<p>849 rows × 2 columns</p>\n",
       "</div>"
      ],
      "text/plain": [
       "          Words  count\n",
       "1       selamat     18\n",
       "2         aidil      4\n",
       "3         fitri      4\n",
       "4        kepada      4\n",
       "5       saudara      6\n",
       "..          ...    ...\n",
       "79      gembira      6\n",
       "80      mungkin      1\n",
       "81       inilah      1\n",
       "82          dia      3\n",
       "83  kebahagiaan      1\n",
       "\n",
       "[849 rows x 2 columns]"
      ]
     },
     "execution_count": 325,
     "metadata": {},
     "output_type": "execute_result"
    }
   ],
   "source": [
    "old_songs1"
   ]
  },
  {
   "cell_type": "code",
   "execution_count": 333,
   "metadata": {},
   "outputs": [
    {
     "data": {
      "text/plain": [
       "<bound method NDFrame.describe of            Words  count\n",
       "3           hari     37\n",
       "2           hari     37\n",
       "144         hari     37\n",
       "49          hari     37\n",
       "44          hari     37\n",
       "..           ...    ...\n",
       "61       pedoman      1\n",
       "125   memberkati      1\n",
       "123        tuhan      1\n",
       "121       rezeki      1\n",
       "83   kebahagiaan      1\n",
       "\n",
       "[849 rows x 2 columns]>"
      ]
     },
     "execution_count": 333,
     "metadata": {},
     "output_type": "execute_result"
    }
   ],
   "source": [
    "df1 = old_songs1.sort_values(by='count', ascending=False)\n",
    "df1.describe"
   ]
  },
  {
   "cell_type": "code",
   "execution_count": 331,
   "metadata": {},
   "outputs": [
    {
     "ename": "IndexError",
     "evalue": "invalid index to scalar variable.",
     "output_type": "error",
     "traceback": [
      "\u001b[0;31m---------------------------------------------------------------------------\u001b[0m",
      "\u001b[0;31mIndexError\u001b[0m                                Traceback (most recent call last)",
      "\u001b[0;32m<ipython-input-331-2ac874743774>\u001b[0m in \u001b[0;36m<module>\u001b[0;34m\u001b[0m\n\u001b[0;32m----> 1\u001b[0;31m \u001b[0mdf1\u001b[0m \u001b[0;34m=\u001b[0m \u001b[0mdf1\u001b[0m\u001b[0;34m.\u001b[0m\u001b[0mdrop\u001b[0m\u001b[0;34m(\u001b[0m\u001b[0mold_songs\u001b[0m\u001b[0;34m.\u001b[0m\u001b[0mindex\u001b[0m\u001b[0;34m[\u001b[0m\u001b[0;36m3\u001b[0m\u001b[0;34m]\u001b[0m\u001b[0;34m[\u001b[0m\u001b[0;36m2\u001b[0m\u001b[0;34m]\u001b[0m\u001b[0;34m[\u001b[0m\u001b[0;36m144\u001b[0m\u001b[0;34m]\u001b[0m\u001b[0;34m[\u001b[0m\u001b[0;36m49\u001b[0m\u001b[0;34m]\u001b[0m\u001b[0;34m[\u001b[0m\u001b[0;36m44\u001b[0m\u001b[0;34m]\u001b[0m\u001b[0;34m)\u001b[0m\u001b[0;34m\u001b[0m\u001b[0;34m\u001b[0m\u001b[0m\n\u001b[0m",
      "\u001b[0;31mIndexError\u001b[0m: invalid index to scalar variable."
     ]
    }
   ],
   "source": []
  },
  {
   "cell_type": "code",
   "execution_count": null,
   "metadata": {},
   "outputs": [],
   "source": []
  }
 ],
 "metadata": {
  "kernelspec": {
   "display_name": "Python",
   "language": "python",
   "name": "conda-env-python-py"
  },
  "language_info": {
   "codemirror_mode": {
    "name": "ipython",
    "version": 3
   },
   "file_extension": ".py",
   "mimetype": "text/x-python",
   "name": "python",
   "nbconvert_exporter": "python",
   "pygments_lexer": "ipython3",
   "version": "3.6.10"
  }
 },
 "nbformat": 4,
 "nbformat_minor": 4
}
